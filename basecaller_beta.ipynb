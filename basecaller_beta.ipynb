{
 "cells": [
  {
   "cell_type": "code",
   "execution_count": 3,
   "metadata": {},
   "outputs": [],
   "source": [
    "import numpy as np\n",
    "from numpy.random import rand\n",
    "import csv\n",
    "import h5py\n",
    "import signal\n",
    "import fast5\n",
    "import fastq\n",
    "import re\n",
    "import matplotlib.pyplot as plt\n",
    "import tensorflow as tf\n",
    "from tensorflow import keras"
   ]
  },
  {
   "cell_type": "code",
   "execution_count": 4,
   "metadata": {},
   "outputs": [
    {
     "data": {
      "text/plain": [
       "'\\nchecks to see if gpu is working\\n'"
      ]
     },
     "execution_count": 4,
     "metadata": {},
     "output_type": "execute_result"
    }
   ],
   "source": [
    "\"\"\"\n",
    "checks to see if gpu is working\n",
    "\"\"\"\n",
    "# Creates a graph.\n",
    "#a = tf.constant([1.0, 2.0, 3.0, 4.0, 5.0, 6.0], shape=[2, 3], name='a')\n",
    "#b = tf.constant([1.0, 2.0, 3.0, 4.0, 5.0, 6.0], shape=[3, 2], name='b')\n",
    "#c = tf.matmul(a, b)\n",
    "# Creates a session with log_device_placement set to True.\n",
    "#sess = tf.Session(config=tf.ConfigProto(log_device_placement=True))\n",
    "# Runs the op.\n",
    "#print(sess.run(c)) "
   ]
  },
  {
   "cell_type": "code",
   "execution_count": 5,
   "metadata": {},
   "outputs": [],
   "source": [
    "\"\"\"\n",
    "this function divides the length of whatever \n",
    "size the list is by 4 for a 4mer\n",
    "\"\"\"\n",
    "def BaseFunction(x,y): \n",
    "    return((len(x)//y),y)"
   ]
  },
  {
   "cell_type": "code",
   "execution_count": 6,
   "metadata": {},
   "outputs": [],
   "source": [
    "\"\"\"\n",
    "this function divides the length of whatever \n",
    "size the list is by 40 for a 40mer\n",
    "\"\"\"\n",
    "def SigFunction(x,y): \n",
    "    return((y),((x//y)))"
   ]
  },
  {
   "cell_type": "code",
   "execution_count": 7,
   "metadata": {},
   "outputs": [],
   "source": [
    "\"\"\"\n",
    "this function provides information about the array    \n",
    "\"\"\"\n",
    "def array_inspect(x):\n",
    "    print (\"Shape is\",(x.shape))\n",
    "    print((\"Length is\",len(x)))\n",
    "    print((\"Dimension is\",x.ndim))\n",
    "    print((\"Total Size is\",x.size))\n",
    "    print((\"Type is\",x.dtype))\n",
    "    print((\"Type Name is\",x.dtype.name))\n",
    "    #print((\"Mean is\",(x).mean))"
   ]
  },
  {
   "cell_type": "code",
   "execution_count": 8,
   "metadata": {},
   "outputs": [],
   "source": [
    "\"\"\"\n",
    "this function normalizes the raw signal resistances\n",
    "from each read by dividing by the mean(or std?)\n",
    "\"\"\"\n",
    "def normalize(x,y):\n",
    "    z=np.divide(x,y)\n",
    "    #np.savetxt(\"NormalizedSigArray_{}.csv\".format(),(z), delimiter=\",\")\n",
    "    return z"
   ]
  },
  {
   "cell_type": "code",
   "execution_count": 9,
   "metadata": {},
   "outputs": [],
   "source": [
    "def divider(x,y):\n",
    "    a=np.divide(x,y)\n",
    "    return a"
   ]
  },
  {
   "cell_type": "code",
   "execution_count": null,
   "metadata": {},
   "outputs": [],
   "source": []
  },
  {
   "cell_type": "code",
   "execution_count": 10,
   "metadata": {},
   "outputs": [
    {
     "data": {
      "image/png": "[encoded data removed]",
      "text/plain": [
       "<Figure size 432x288 with 1 Axes>"
      ]
     },
     "metadata": {
      "needs_background": "light"
     },
     "output_type": "display_data"
    }
   ],
   "source": [
    "\"\"\"\n",
    "This cell does the following\n",
    "    1)Imports the bases\n",
    "    2)trims off the new lines and digits\n",
    "    3)converts them to a list\n",
    "    4)converts them to a code of 0123 instead of ATCG\n",
    "\"\"\"\n",
    "f = open(\"fasta/sampled_read.fasta\",\"r\") #opens the file with the reads\n",
    "a = f.read()\n",
    "b = (a.split(\">\", 11))\n",
    "base = [re.sub(\">|\\n|\\d\", \"\",str) for str in b]\n",
    "baseA0 = [re.sub(\"A\",\"0\",str) for str in base]\n",
    "baseT1 = [re.sub(\"T\",\"1\",str) for str in baseA0]\n",
    "baseG2 = [re.sub(\"C\",\"2\",str) for str in baseT1]\n",
    "base_coded = [re.sub(\"G\",\"3\",str) for str in baseG2] \n",
    "A0=(a.count(\"A\")) \n",
    "T1=(a.count(\"T\"))\n",
    "G2=(a.count(\"G\"))\n",
    "C3=(a.count(\"C\"))\n",
    "#print(base_coded)\n",
    "names = ['A', 'T', 'G', 'C']\n",
    "values = [(A0), (T1), (G2), (C3)]\n",
    "\n",
    "plt.subplot()\n",
    "plt.bar(names, values)\n",
    "plt.suptitle('Nucleotides in all reads')\n",
    "plt.show()"
   ]
  },
  {
   "cell_type": "code",
   "execution_count": 11,
   "metadata": {},
   "outputs": [],
   "source": [
    "\"\"\"\n",
    "The purpose of this code is the following\n",
    "1)Convert the coded reads to integer form \n",
    "2)Create an array inside the array with each read as a row\n",
    "3)Create a 2D matric with the counts of all the possible scenarios \n",
    "presented in each row and the reads in each column\n",
    "4)Create a 1D array with the readlengths\n",
    "\"\"\"\n",
    "kmer=[]\n",
    "kmercount=[]\n",
    "reads=[]\n",
    "#readstring={}\n",
    "readslength=[]\n",
    "res=(len(base_coded))   \n",
    "for x in range(res):\n",
    "    l=list(int (i) for i in base_coded[x])\n",
    "    for y in range(1):\n",
    "        i=(l.count(y), l.count(y+1), l.count(y+2), l.count(y+3))\n",
    "        kmercount.append(i)\n",
    "        n=np.transpose(kmercount) # creates a 2D matrix with the bases counts as rows(ATGC) and the reads by columns\n",
    "        kmer = n.view() #Create a view of the array with the same data\n",
    "    d=np.asarray(l)\n",
    "    d.resize((BaseFunction(d,4))) #Enter the list and the desired kmer for the function\n",
    "    v=(str(d))\n",
    "    reads.append(d) # store the reads in an array called reads\n",
    "    c=len(d)\n",
    "    readslength.append(c) #store the amt of kmer reads in readlength="
   ]
  },
  {
   "cell_type": "code",
   "execution_count": 12,
   "metadata": {},
   "outputs": [
    {
     "data": {
      "image/png": "[encoded data removed]",
      "text/plain": [
       "<Figure size 432x288 with 1 Axes>"
      ]
     },
     "metadata": {
      "needs_background": "light"
     },
     "output_type": "display_data"
    }
   ],
   "source": [
    "\"\"\"\n",
    "The purpose of this code is the following\n",
    "1) visualize the readlengths\n",
    "\"\"\"\n",
    "plt.ioff()\n",
    "for i in range(1):\n",
    "    plt.title(\"Readlengths\")\n",
    "    plt.ylabel('number of bases')\n",
    "    plt.xlabel('read id')\n",
    "    plt.plot(kmer[i])\n",
    "    plt.xticks(np.arange(0, 11))\n",
    "    plt.show()"
   ]
  },
  {
   "cell_type": "code",
   "execution_count": null,
   "metadata": {},
   "outputs": [],
   "source": []
  },
  {
   "cell_type": "code",
   "execution_count": null,
   "metadata": {},
   "outputs": [],
   "source": []
  },
  {
   "cell_type": "code",
   "execution_count": 13,
   "metadata": {},
   "outputs": [
    {
     "name": "stdout",
     "output_type": "stream",
     "text": [
      "Shape is (11063, 28)\n",
      "('Length is', 11063)\n",
      "('Dimension is', 2)\n",
      "('Total Size is', 309764)\n",
      "('Type is', dtype('float64'))\n",
      "('Type Name is', 'float64')\n"
     ]
    }
   ],
   "source": [
    "\"\"\"\n",
    "The cell does the following:\n",
    "    1) Import the signal level data\n",
    "    2) Normalize it to the mean fof the signal\n",
    "    3) Appends the signal data from each read into a row of an array given the read count\n",
    "\"\"\"\n",
    "means = [] \n",
    "std = []\n",
    "sig = []\n",
    "for x in range(11):\n",
    "    a=np.loadtxt(\"signal/signal_{}.txt\".format(x)) # load the signal\n",
    "    m=a.mean() #obtain the average signal from the read\n",
    "    b=normalize(m,a) # divide each resistance by the average to normalize \n",
    "    c=b.size #obtains the number of resistance signals per read\n",
    "    #print(\"resist\",c)\n",
    "    d=readslength[x] #obtains the kmers count per read\n",
    "    #print(\"kmer\",d)\n",
    "    e=SigFunction(c,d) #figures out the average amount of resistances per kmer\n",
    "    #print(\"Signal\",x,\"2D array size={}\".format(e))\n",
    "    b.resize(e) # Insert the (#bases,#sig) changes the signal level n signals wide\n",
    "    sig.append(b)\n",
    "array_inspect(sig[10])"
   ]
  },
  {
   "cell_type": "code",
   "execution_count": null,
   "metadata": {},
   "outputs": [],
   "source": []
  },
  {
   "cell_type": "code",
   "execution_count": 14,
   "metadata": {},
   "outputs": [
    {
     "name": "stdout",
     "output_type": "stream",
     "text": [
      "Training entries:[0], 2078, labels: 2078\n",
      "Training entries:[1], 2078, labels: 2078\n",
      "Training entries:[2], 361, labels: 361\n",
      "Training entries:[3], 1168, labels: 1168\n",
      "Training entries:[4], 109, labels: 109\n",
      "Training entries:[5], 1444, labels: 1444\n",
      "Training entries:[6], 453, labels: 453\n",
      "Training entries:[7], 941, labels: 941\n",
      "Training entries:[8], 351, labels: 351\n",
      "Training entries:[9], 2078, labels: 2078\n",
      "Training entries:[10], 11063, labels: 11063\n"
     ]
    }
   ],
   "source": [
    "for x in range(11):\n",
    "    print(\"Training entries:{}, {}, labels: {}\".format([x],len(reads[x]), len(sig[x])))"
   ]
  },
  {
   "cell_type": "code",
   "execution_count": 15,
   "metadata": {},
   "outputs": [],
   "source": [
    "#a=np.unique(y_val)\n",
    "#print(a)\n",
    "#b=enumerate(a)\n",
    "#print (c)\n",
    "#c=np.arange(0,254,1)\n",
    "#print(c)\n",
    "#ref =[]\n",
    "#for x in range(254):\n",
    "#    index={c[x]:a[x]}\n",
    "#    ref.append(index)\n",
    "\n",
    "#print(ref)\n",
    "#for x in range(254):\n",
    "#    y = ref[x].get(x)\n",
    "#test=list(reads[10])"
   ]
  },
  {
   "cell_type": "code",
   "execution_count": 16,
   "metadata": {},
   "outputs": [],
   "source": [
    "\"\"\"\n",
    "The goal for this cell is to convert the reads to string\n",
    "index the unique outputs for the 4mers\n",
    "and create a new list of the indexed [1:256 or whatever]\n",
    "reads for the model\n",
    "\"\"\"\n",
    "arr2=[] # In this code I converted the reads to a concated string of a 4mer\n",
    "for i, v in enumerate(reads[10]): #Read 0 is the training data\n",
    "    temp = ''\n",
    "    #print(v)\n",
    "    for w in v:\n",
    "        #print(w)\n",
    "        temp = temp + str(w)\n",
    "    arr2.append(temp)\n",
    "#print((arr2))\n",
    "a=np.unique(arr2) # makes an array of every unique combo in the read for downstream indexing\n",
    "#print(a)\n"
   ]
  },
  {
   "cell_type": "code",
   "execution_count": 17,
   "metadata": {},
   "outputs": [],
   "source": [
    "converted=[]\n",
    "converted2=[]\n",
    "#print(a)\n",
    "for x in arr2:\n",
    "    #print(x)\n",
    "    b=enumerate(a)\n",
    "    c=[(i) for i, j in b if a[i]==(x)]\n",
    "    converted.append(c)\n",
    "for i, v in enumerate(converted): #Read 0 is the training data\n",
    "    temp = ''\n",
    "    #print(v)\n",
    "    for w in v:\n",
    "        #print(w)\n",
    "        temp = temp + str(w)\n",
    "    converted2.append(temp)\n",
    "y_train=np.int16(converted2)\n",
    "#plt.scatter(x=converted2,y=arr2,c=converted2)"
   ]
  },
  {
   "cell_type": "code",
   "execution_count": null,
   "metadata": {},
   "outputs": [],
   "source": []
  },
  {
   "cell_type": "code",
   "execution_count": 18,
   "metadata": {},
   "outputs": [
    {
     "name": "stdout",
     "output_type": "stream",
     "text": [
      "Training entries: 11063, labels: 11063\n"
     ]
    }
   ],
   "source": [
    "print(\"Training entries: {}, labels: {}\".format(len(reads[10]), len(sig[10])))"
   ]
  },
  {
   "cell_type": "code",
   "execution_count": 19,
   "metadata": {},
   "outputs": [
    {
     "name": "stdout",
     "output_type": "stream",
     "text": [
      "65\n",
      "[0.88627103 1.10233671 1.10233671 1.10233671 1.10233671 1.10233671\n",
      " 1.10233671 1.10233671 1.10233671 1.10233671 1.0564901  1.0564901\n",
      " 1.0564901  0.89865612 0.89865612 0.89865612 0.89865612 0.89865612\n",
      " 0.89865612 1.07611629 1.07611629 1.07611629 1.07611629 0.91407013\n",
      " 0.91407013 0.91407013 0.91407013 0.91407013]\n"
     ]
    }
   ],
   "source": [
    "\"\"\"\n",
    "Any cell under this cell is trash code or experimental\n",
    "\"\"\"\n",
    "x_train = sig[10]\n",
    "x_test = sig[1]\n",
    "print (y_train[110])\n",
    "print (x_train[110])\n"
   ]
  },
  {
   "cell_type": "markdown",
   "metadata": {},
   "source": []
  },
  {
   "cell_type": "code",
   "execution_count": 20,
   "metadata": {},
   "outputs": [],
   "source": [
    "model=tf.keras.models.Sequential()\n",
    "#model.add(tf.keras.layers.Flatten(input_shape=(1,28)))# flatten using the API instead of np\n",
    "model.add(tf.keras.layers.Dense(128, activation=tf.nn.relu)) # uses 128 neurons and is a feed forward rectilinear relu\n",
    "model.add(tf.keras.layers.Dense(128, activation=tf.nn.relu)) # do the same thig for hidden layer 2\n",
    "model.add(tf.keras.layers.Dense(256, activation=tf.nn.softmax)) # output layer with number of classifications (256) use softmax for output distribution\n"
   ]
  },
  {
   "cell_type": "code",
   "execution_count": 21,
   "metadata": {},
   "outputs": [],
   "source": [
    "model.compile(optimizer='adam',\n",
    "              loss='sparse_categorical_crossentropy',\n",
    "              metrics=['accuracy'])"
   ]
  },
  {
   "cell_type": "code",
   "execution_count": 28,
   "metadata": {},
   "outputs": [
    {
     "name": "stdout",
     "output_type": "stream",
     "text": [
      "Epoch 1/30\n",
      "11063/11063 [==============================] - 1s 47us/step - loss: 5.2801 - acc: 0.0163\n",
      "Epoch 2/30\n",
      "11063/11063 [==============================] - 1s 46us/step - loss: 5.2782 - acc: 0.0162\n",
      "Epoch 3/30\n",
      "11063/11063 [==============================] - 1s 54us/step - loss: 5.2738 - acc: 0.0164\n",
      "Epoch 4/30\n",
      "11063/11063 [==============================] - 0s 44us/step - loss: 5.2720 - acc: 0.0172\n",
      "Epoch 5/30\n",
      "11063/11063 [==============================] - 0s 44us/step - loss: 5.2675 - acc: 0.0158\n",
      "Epoch 6/30\n",
      "11063/11063 [==============================] - 0s 43us/step - loss: 5.2642 - acc: 0.0176\n",
      "Epoch 7/30\n",
      "11063/11063 [==============================] - 0s 44us/step - loss: 5.2611 - acc: 0.0171\n",
      "Epoch 8/30\n",
      "11063/11063 [==============================] - 0s 43us/step - loss: 5.2575 - acc: 0.0172\n",
      "Epoch 9/30\n",
      "11063/11063 [==============================] - 1s 55us/step - loss: 5.2540 - acc: 0.0170\n",
      "Epoch 10/30\n",
      "11063/11063 [==============================] - 1s 51us/step - loss: 5.2507 - acc: 0.0177\n",
      "Epoch 11/30\n",
      "11063/11063 [==============================] - 0s 45us/step - loss: 5.2455 - acc: 0.0188\n",
      "Epoch 12/30\n",
      "11063/11063 [==============================] - 1s 49us/step - loss: 5.2436 - acc: 0.0167\n",
      "Epoch 13/30\n",
      "11063/11063 [==============================] - 1s 47us/step - loss: 5.2407 - acc: 0.0160\n",
      "Epoch 14/30\n",
      "11063/11063 [==============================] - 0s 45us/step - loss: 5.2378 - acc: 0.0178\n",
      "Epoch 15/30\n",
      "11063/11063 [==============================] - 0s 44us/step - loss: 5.2333 - acc: 0.0190\n",
      "Epoch 16/30\n",
      "11063/11063 [==============================] - 0s 45us/step - loss: 5.2298 - acc: 0.0180\n",
      "Epoch 17/30\n",
      "11063/11063 [==============================] - 0s 44us/step - loss: 5.2282 - acc: 0.0174\n",
      "Epoch 18/30\n",
      "11063/11063 [==============================] - 1s 47us/step - loss: 5.2218 - acc: 0.0188\n",
      "Epoch 19/30\n",
      "11063/11063 [==============================] - 1s 49us/step - loss: 5.2189 - acc: 0.0175\n",
      "Epoch 20/30\n",
      "11063/11063 [==============================] - 0s 44us/step - loss: 5.2161 - acc: 0.0185\n",
      "Epoch 21/30\n",
      "11063/11063 [==============================] - 1s 50us/step - loss: 5.2115 - acc: 0.0185\n",
      "Epoch 22/30\n",
      "11063/11063 [==============================] - 1s 51us/step - loss: 5.2091 - acc: 0.0182\n",
      "Epoch 23/30\n",
      "11063/11063 [==============================] - 0s 44us/step - loss: 5.2053 - acc: 0.0178\n",
      "Epoch 24/30\n",
      "11063/11063 [==============================] - 0s 44us/step - loss: 5.2021 - acc: 0.0183\n",
      "Epoch 25/30\n",
      "11063/11063 [==============================] - 0s 44us/step - loss: 5.1986 - acc: 0.0185\n",
      "Epoch 26/30\n",
      "11063/11063 [==============================] - 0s 42us/step - loss: 5.1954 - acc: 0.0188\n",
      "Epoch 27/30\n",
      "11063/11063 [==============================] - 0s 43us/step - loss: 5.1918 - acc: 0.0200\n",
      "Epoch 28/30\n",
      "11063/11063 [==============================] - 0s 44us/step - loss: 5.1876 - acc: 0.0187\n",
      "Epoch 29/30\n",
      "11063/11063 [==============================] - 0s 43us/step - loss: 5.1852 - acc: 0.0183\n",
      "Epoch 30/30\n",
      "11063/11063 [==============================] - 0s 45us/step - loss: 5.1839 - acc: 0.0192\n"
     ]
    }
   ],
   "source": [
    "history = model.fit(x_train, y_train, epochs=30)"
   ]
  },
  {
   "cell_type": "code",
   "execution_count": 30,
   "metadata": {},
   "outputs": [
    {
     "name": "stdout",
     "output_type": "stream",
     "text": [
      "11063/11063 [==============================] - 0s 27us/step\n",
      "5.156681812015352\n",
      "0.020970803581182904\n"
     ]
    }
   ],
   "source": [
    "val_loss, val_acc = model.evaluate(x_train, y_train)\n",
    "print(val_loss)\n",
    "print(val_acc)\n"
   ]
  },
  {
   "cell_type": "code",
   "execution_count": 31,
   "metadata": {},
   "outputs": [],
   "source": [
    "#model.save('tensorflow_basecaller.model')\n",
    "#new_model = tf.keras.models.load_model('tensorflow_basecaller.model')"
   ]
  },
  {
   "cell_type": "code",
   "execution_count": 32,
   "metadata": {},
   "outputs": [
    {
     "name": "stdout",
     "output_type": "stream",
     "text": [
      "[[1.1812859e-03 2.9048289e-03 3.9254557e-03 ... 2.0103615e-03\n",
      "  1.6360276e-10 8.8319206e-11]\n",
      " [3.9058970e-05 8.9661364e-04 1.0631173e-04 ... 4.3454217e-03\n",
      "  4.6368241e-16 8.8462943e-17]\n",
      " [5.2251550e-03 6.9185677e-03 2.8712151e-03 ... 1.8048658e-03\n",
      "  4.2903051e-10 1.9639977e-10]\n",
      " ...\n",
      " [5.3731824e-04 1.2159926e-03 8.1343710e-04 ... 3.4346594e-03\n",
      "  9.4026024e-13 3.7271220e-13]\n",
      " [5.6270808e-03 8.8478616e-03 2.8585426e-03 ... 1.8170844e-03\n",
      "  1.4503472e-09 7.0808148e-10]\n",
      " [4.4399761e-03 7.1071736e-03 3.0437543e-03 ... 5.3282204e-04\n",
      "  2.3454003e-11 1.0131193e-11]]\n"
     ]
    }
   ],
   "source": [
    "predictions = model.predict(x_train)\n",
    "print(predictions)"
   ]
  },
  {
   "cell_type": "code",
   "execution_count": 33,
   "metadata": {},
   "outputs": [
    {
     "ename": "ValueError",
     "evalue": "x and y must have same first dimension, but have shapes (30,) and (1,)",
     "output_type": "error",
     "traceback": [
      "\u001b[1;31m---------------------------------------------------------------------------\u001b[0m",
      "\u001b[1;31mValueError\u001b[0m                                Traceback (most recent call last)",
      "\u001b[1;32m<ipython-input-33-460c36e0c296>\u001b[0m in \u001b[0;36m<module>\u001b[1;34m\u001b[0m\n\u001b[0;32m     12\u001b[0m \u001b[0mplt\u001b[0m\u001b[1;33m.\u001b[0m\u001b[0mplot\u001b[0m\u001b[1;33m(\u001b[0m\u001b[0mepochs\u001b[0m\u001b[1;33m,\u001b[0m \u001b[0mloss\u001b[0m\u001b[1;33m,\u001b[0m \u001b[1;34m'bo'\u001b[0m\u001b[1;33m,\u001b[0m \u001b[0mlabel\u001b[0m\u001b[1;33m=\u001b[0m\u001b[1;34m'Training loss'\u001b[0m\u001b[1;33m)\u001b[0m\u001b[1;33m\u001b[0m\u001b[0m\n\u001b[0;32m     13\u001b[0m \u001b[1;31m# b is for \"solid blue line\"\u001b[0m\u001b[1;33m\u001b[0m\u001b[1;33m\u001b[0m\u001b[0m\n\u001b[1;32m---> 14\u001b[1;33m \u001b[0mplt\u001b[0m\u001b[1;33m.\u001b[0m\u001b[0mplot\u001b[0m\u001b[1;33m(\u001b[0m\u001b[0mepochs\u001b[0m\u001b[1;33m,\u001b[0m \u001b[0mval_loss\u001b[0m\u001b[1;33m,\u001b[0m \u001b[1;34m'b'\u001b[0m\u001b[1;33m,\u001b[0m \u001b[0mlabel\u001b[0m\u001b[1;33m=\u001b[0m\u001b[1;34m'Validation loss'\u001b[0m\u001b[1;33m)\u001b[0m\u001b[1;33m\u001b[0m\u001b[0m\n\u001b[0m\u001b[0;32m     15\u001b[0m \u001b[0mplt\u001b[0m\u001b[1;33m.\u001b[0m\u001b[0mtitle\u001b[0m\u001b[1;33m(\u001b[0m\u001b[1;34m'Training and validation loss'\u001b[0m\u001b[1;33m)\u001b[0m\u001b[1;33m\u001b[0m\u001b[0m\n\u001b[0;32m     16\u001b[0m \u001b[0mplt\u001b[0m\u001b[1;33m.\u001b[0m\u001b[0mxlabel\u001b[0m\u001b[1;33m(\u001b[0m\u001b[1;34m'Epochs'\u001b[0m\u001b[1;33m)\u001b[0m\u001b[1;33m\u001b[0m\u001b[0m\n",
      "\u001b[1;32mc:\\users\\algae\\appdata\\local\\programs\\python\\python36\\lib\\site-packages\\matplotlib\\pyplot.py\u001b[0m in \u001b[0;36mplot\u001b[1;34m(scalex, scaley, data, *args, **kwargs)\u001b[0m\n\u001b[0;32m   2747\u001b[0m \u001b[1;32mdef\u001b[0m \u001b[0mplot\u001b[0m\u001b[1;33m(\u001b[0m\u001b[1;33m*\u001b[0m\u001b[0margs\u001b[0m\u001b[1;33m,\u001b[0m \u001b[0mscalex\u001b[0m\u001b[1;33m=\u001b[0m\u001b[1;32mTrue\u001b[0m\u001b[1;33m,\u001b[0m \u001b[0mscaley\u001b[0m\u001b[1;33m=\u001b[0m\u001b[1;32mTrue\u001b[0m\u001b[1;33m,\u001b[0m \u001b[0mdata\u001b[0m\u001b[1;33m=\u001b[0m\u001b[1;32mNone\u001b[0m\u001b[1;33m,\u001b[0m \u001b[1;33m**\u001b[0m\u001b[0mkwargs\u001b[0m\u001b[1;33m)\u001b[0m\u001b[1;33m:\u001b[0m\u001b[1;33m\u001b[0m\u001b[0m\n\u001b[0;32m   2748\u001b[0m     return gca().plot(\n\u001b[1;32m-> 2749\u001b[1;33m         *args, scalex=scalex, scaley=scaley, data=data, **kwargs)\n\u001b[0m\u001b[0;32m   2750\u001b[0m \u001b[1;33m\u001b[0m\u001b[0m\n\u001b[0;32m   2751\u001b[0m \u001b[1;31m# Autogenerated by boilerplate.py.  Do not edit as changes will be lost.\u001b[0m\u001b[1;33m\u001b[0m\u001b[1;33m\u001b[0m\u001b[0m\n",
      "\u001b[1;32mc:\\users\\algae\\appdata\\local\\programs\\python\\python36\\lib\\site-packages\\matplotlib\\__init__.py\u001b[0m in \u001b[0;36minner\u001b[1;34m(ax, data, *args, **kwargs)\u001b[0m\n\u001b[0;32m   1783\u001b[0m                         \u001b[1;34m\"the Matplotlib list!)\"\u001b[0m \u001b[1;33m%\u001b[0m \u001b[1;33m(\u001b[0m\u001b[0mlabel_namer\u001b[0m\u001b[1;33m,\u001b[0m \u001b[0mfunc\u001b[0m\u001b[1;33m.\u001b[0m\u001b[0m__name__\u001b[0m\u001b[1;33m)\u001b[0m\u001b[1;33m,\u001b[0m\u001b[1;33m\u001b[0m\u001b[0m\n\u001b[0;32m   1784\u001b[0m                         RuntimeWarning, stacklevel=2)\n\u001b[1;32m-> 1785\u001b[1;33m             \u001b[1;32mreturn\u001b[0m \u001b[0mfunc\u001b[0m\u001b[1;33m(\u001b[0m\u001b[0max\u001b[0m\u001b[1;33m,\u001b[0m \u001b[1;33m*\u001b[0m\u001b[0margs\u001b[0m\u001b[1;33m,\u001b[0m \u001b[1;33m**\u001b[0m\u001b[0mkwargs\u001b[0m\u001b[1;33m)\u001b[0m\u001b[1;33m\u001b[0m\u001b[0m\n\u001b[0m\u001b[0;32m   1786\u001b[0m \u001b[1;33m\u001b[0m\u001b[0m\n\u001b[0;32m   1787\u001b[0m         inner.__doc__ = _add_data_doc(inner.__doc__,\n",
      "\u001b[1;32mc:\\users\\algae\\appdata\\local\\programs\\python\\python36\\lib\\site-packages\\matplotlib\\axes\\_axes.py\u001b[0m in \u001b[0;36mplot\u001b[1;34m(self, scalex, scaley, *args, **kwargs)\u001b[0m\n\u001b[0;32m   1602\u001b[0m         \u001b[0mkwargs\u001b[0m \u001b[1;33m=\u001b[0m \u001b[0mcbook\u001b[0m\u001b[1;33m.\u001b[0m\u001b[0mnormalize_kwargs\u001b[0m\u001b[1;33m(\u001b[0m\u001b[0mkwargs\u001b[0m\u001b[1;33m,\u001b[0m \u001b[0mmlines\u001b[0m\u001b[1;33m.\u001b[0m\u001b[0mLine2D\u001b[0m\u001b[1;33m.\u001b[0m\u001b[0m_alias_map\u001b[0m\u001b[1;33m)\u001b[0m\u001b[1;33m\u001b[0m\u001b[0m\n\u001b[0;32m   1603\u001b[0m \u001b[1;33m\u001b[0m\u001b[0m\n\u001b[1;32m-> 1604\u001b[1;33m         \u001b[1;32mfor\u001b[0m \u001b[0mline\u001b[0m \u001b[1;32min\u001b[0m \u001b[0mself\u001b[0m\u001b[1;33m.\u001b[0m\u001b[0m_get_lines\u001b[0m\u001b[1;33m(\u001b[0m\u001b[1;33m*\u001b[0m\u001b[0margs\u001b[0m\u001b[1;33m,\u001b[0m \u001b[1;33m**\u001b[0m\u001b[0mkwargs\u001b[0m\u001b[1;33m)\u001b[0m\u001b[1;33m:\u001b[0m\u001b[1;33m\u001b[0m\u001b[0m\n\u001b[0m\u001b[0;32m   1605\u001b[0m             \u001b[0mself\u001b[0m\u001b[1;33m.\u001b[0m\u001b[0madd_line\u001b[0m\u001b[1;33m(\u001b[0m\u001b[0mline\u001b[0m\u001b[1;33m)\u001b[0m\u001b[1;33m\u001b[0m\u001b[0m\n\u001b[0;32m   1606\u001b[0m             \u001b[0mlines\u001b[0m\u001b[1;33m.\u001b[0m\u001b[0mappend\u001b[0m\u001b[1;33m(\u001b[0m\u001b[0mline\u001b[0m\u001b[1;33m)\u001b[0m\u001b[1;33m\u001b[0m\u001b[0m\n",
      "\u001b[1;32mc:\\users\\algae\\appdata\\local\\programs\\python\\python36\\lib\\site-packages\\matplotlib\\axes\\_base.py\u001b[0m in \u001b[0;36m_grab_next_args\u001b[1;34m(self, *args, **kwargs)\u001b[0m\n\u001b[0;32m    391\u001b[0m                 \u001b[0mthis\u001b[0m \u001b[1;33m+=\u001b[0m \u001b[0margs\u001b[0m\u001b[1;33m[\u001b[0m\u001b[1;36m0\u001b[0m\u001b[1;33m]\u001b[0m\u001b[1;33m,\u001b[0m\u001b[1;33m\u001b[0m\u001b[0m\n\u001b[0;32m    392\u001b[0m                 \u001b[0margs\u001b[0m \u001b[1;33m=\u001b[0m \u001b[0margs\u001b[0m\u001b[1;33m[\u001b[0m\u001b[1;36m1\u001b[0m\u001b[1;33m:\u001b[0m\u001b[1;33m]\u001b[0m\u001b[1;33m\u001b[0m\u001b[0m\n\u001b[1;32m--> 393\u001b[1;33m             \u001b[1;32myield\u001b[0m \u001b[1;32mfrom\u001b[0m \u001b[0mself\u001b[0m\u001b[1;33m.\u001b[0m\u001b[0m_plot_args\u001b[0m\u001b[1;33m(\u001b[0m\u001b[0mthis\u001b[0m\u001b[1;33m,\u001b[0m \u001b[0mkwargs\u001b[0m\u001b[1;33m)\u001b[0m\u001b[1;33m\u001b[0m\u001b[0m\n\u001b[0m\u001b[0;32m    394\u001b[0m \u001b[1;33m\u001b[0m\u001b[0m\n\u001b[0;32m    395\u001b[0m \u001b[1;33m\u001b[0m\u001b[0m\n",
      "\u001b[1;32mc:\\users\\algae\\appdata\\local\\programs\\python\\python36\\lib\\site-packages\\matplotlib\\axes\\_base.py\u001b[0m in \u001b[0;36m_plot_args\u001b[1;34m(self, tup, kwargs)\u001b[0m\n\u001b[0;32m    368\u001b[0m             \u001b[0mx\u001b[0m\u001b[1;33m,\u001b[0m \u001b[0my\u001b[0m \u001b[1;33m=\u001b[0m \u001b[0mindex_of\u001b[0m\u001b[1;33m(\u001b[0m\u001b[0mtup\u001b[0m\u001b[1;33m[\u001b[0m\u001b[1;33m-\u001b[0m\u001b[1;36m1\u001b[0m\u001b[1;33m]\u001b[0m\u001b[1;33m)\u001b[0m\u001b[1;33m\u001b[0m\u001b[0m\n\u001b[0;32m    369\u001b[0m \u001b[1;33m\u001b[0m\u001b[0m\n\u001b[1;32m--> 370\u001b[1;33m         \u001b[0mx\u001b[0m\u001b[1;33m,\u001b[0m \u001b[0my\u001b[0m \u001b[1;33m=\u001b[0m \u001b[0mself\u001b[0m\u001b[1;33m.\u001b[0m\u001b[0m_xy_from_xy\u001b[0m\u001b[1;33m(\u001b[0m\u001b[0mx\u001b[0m\u001b[1;33m,\u001b[0m \u001b[0my\u001b[0m\u001b[1;33m)\u001b[0m\u001b[1;33m\u001b[0m\u001b[0m\n\u001b[0m\u001b[0;32m    371\u001b[0m \u001b[1;33m\u001b[0m\u001b[0m\n\u001b[0;32m    372\u001b[0m         \u001b[1;32mif\u001b[0m \u001b[0mself\u001b[0m\u001b[1;33m.\u001b[0m\u001b[0mcommand\u001b[0m \u001b[1;33m==\u001b[0m \u001b[1;34m'plot'\u001b[0m\u001b[1;33m:\u001b[0m\u001b[1;33m\u001b[0m\u001b[0m\n",
      "\u001b[1;32mc:\\users\\algae\\appdata\\local\\programs\\python\\python36\\lib\\site-packages\\matplotlib\\axes\\_base.py\u001b[0m in \u001b[0;36m_xy_from_xy\u001b[1;34m(self, x, y)\u001b[0m\n\u001b[0;32m    229\u001b[0m         \u001b[1;32mif\u001b[0m \u001b[0mx\u001b[0m\u001b[1;33m.\u001b[0m\u001b[0mshape\u001b[0m\u001b[1;33m[\u001b[0m\u001b[1;36m0\u001b[0m\u001b[1;33m]\u001b[0m \u001b[1;33m!=\u001b[0m \u001b[0my\u001b[0m\u001b[1;33m.\u001b[0m\u001b[0mshape\u001b[0m\u001b[1;33m[\u001b[0m\u001b[1;36m0\u001b[0m\u001b[1;33m]\u001b[0m\u001b[1;33m:\u001b[0m\u001b[1;33m\u001b[0m\u001b[0m\n\u001b[0;32m    230\u001b[0m             raise ValueError(\"x and y must have same first dimension, but \"\n\u001b[1;32m--> 231\u001b[1;33m                              \"have shapes {} and {}\".format(x.shape, y.shape))\n\u001b[0m\u001b[0;32m    232\u001b[0m         \u001b[1;32mif\u001b[0m \u001b[0mx\u001b[0m\u001b[1;33m.\u001b[0m\u001b[0mndim\u001b[0m \u001b[1;33m>\u001b[0m \u001b[1;36m2\u001b[0m \u001b[1;32mor\u001b[0m \u001b[0my\u001b[0m\u001b[1;33m.\u001b[0m\u001b[0mndim\u001b[0m \u001b[1;33m>\u001b[0m \u001b[1;36m2\u001b[0m\u001b[1;33m:\u001b[0m\u001b[1;33m\u001b[0m\u001b[0m\n\u001b[0;32m    233\u001b[0m             raise ValueError(\"x and y can be no greater than 2-D, but have \"\n",
      "\u001b[1;31mValueError\u001b[0m: x and y must have same first dimension, but have shapes (30,) and (1,)"
     ]
    },
    {
     "data": {
      "image/png": "[encoded data removed]",
      "text/plain": [
       "<Figure size 432x288 with 1 Axes>"
      ]
     },
     "metadata": {
      "needs_background": "light"
     },
     "output_type": "display_data"
    }
   ],
   "source": [
    "history_dict = history.history\n",
    "history_dict.keys()\n",
    "\n",
    "acc = history.history['acc']\n",
    "#val_acc = history.history['val_acc']\n",
    "loss = history.history['loss']\n",
    "#val_loss = history.history['val_loss']\n",
    "\n",
    "epochs = range(1, len(acc) + 1)\n",
    "\n",
    "# \"bo\" is for \"blue dot\"\n",
    "plt.plot(epochs, loss, 'bo', label='Training loss')\n",
    "# b is for \"solid blue line\"\n",
    "plt.plot(epochs, val_loss, 'b', label='Validation loss')\n",
    "plt.title('Training and validation loss')\n",
    "plt.xlabel('Epochs')\n",
    "plt.ylabel('Loss')\n",
    "plt.legend()\n",
    "\n",
    "plt.show()"
   ]
  },
  {
   "cell_type": "code",
   "execution_count": 59,
   "metadata": {},
   "outputs": [
    {
     "ename": "KeyError",
     "evalue": "'val_acc'",
     "output_type": "error",
     "traceback": [
      "\u001b[1;31m---------------------------------------------------------------------------\u001b[0m",
      "\u001b[1;31mKeyError\u001b[0m                                  Traceback (most recent call last)",
      "\u001b[1;32m<ipython-input-59-0066d087cefa>\u001b[0m in \u001b[0;36m<module>\u001b[1;34m\u001b[0m\n\u001b[0;32m      1\u001b[0m \u001b[0mplt\u001b[0m\u001b[1;33m.\u001b[0m\u001b[0mclf\u001b[0m\u001b[1;33m(\u001b[0m\u001b[1;33m)\u001b[0m   \u001b[1;31m# clear figure\u001b[0m\u001b[1;33m\u001b[0m\u001b[0m\n\u001b[0;32m      2\u001b[0m \u001b[0macc_values\u001b[0m \u001b[1;33m=\u001b[0m \u001b[0mhistory_dict\u001b[0m\u001b[1;33m[\u001b[0m\u001b[1;34m'acc'\u001b[0m\u001b[1;33m]\u001b[0m\u001b[1;33m\u001b[0m\u001b[0m\n\u001b[1;32m----> 3\u001b[1;33m \u001b[0mval_acc_values\u001b[0m \u001b[1;33m=\u001b[0m \u001b[0mhistory_dict\u001b[0m\u001b[1;33m[\u001b[0m\u001b[1;34m'val_acc'\u001b[0m\u001b[1;33m]\u001b[0m\u001b[1;33m\u001b[0m\u001b[0m\n\u001b[0m\u001b[0;32m      4\u001b[0m \u001b[1;33m\u001b[0m\u001b[0m\n\u001b[0;32m      5\u001b[0m \u001b[0mplt\u001b[0m\u001b[1;33m.\u001b[0m\u001b[0mplot\u001b[0m\u001b[1;33m(\u001b[0m\u001b[0mepochs\u001b[0m\u001b[1;33m,\u001b[0m \u001b[0macc\u001b[0m\u001b[1;33m,\u001b[0m \u001b[1;34m'bo'\u001b[0m\u001b[1;33m,\u001b[0m \u001b[0mlabel\u001b[0m\u001b[1;33m=\u001b[0m\u001b[1;34m'Training acc'\u001b[0m\u001b[1;33m)\u001b[0m\u001b[1;33m\u001b[0m\u001b[0m\n",
      "\u001b[1;31mKeyError\u001b[0m: 'val_acc'"
     ]
    },
    {
     "data": {
      "text/plain": [
       "<Figure size 432x288 with 0 Axes>"
      ]
     },
     "metadata": {},
     "output_type": "display_data"
    }
   ],
   "source": [
    "plt.clf()   # clear figure\n",
    "acc_values = history_dict['acc']\n",
    "val_acc_values = history_dict['val_acc']\n",
    "\n",
    "plt.plot(epochs, acc, 'bo', label='Training acc')\n",
    "plt.plot(epochs, val_acc, 'b', label='Validation acc')\n",
    "plt.title('Training and validation accuracy')\n",
    "plt.xlabel('Epochs')\n",
    "plt.ylabel('Accuracy')\n",
    "plt.legend()\n",
    "\n",
    "plt.show()"
   ]
  },
  {
   "cell_type": "code",
   "execution_count": null,
   "metadata": {},
   "outputs": [],
   "source": []
  },
  {
   "cell_type": "code",
   "execution_count": null,
   "metadata": {},
   "outputs": [],
   "source": []
  }
 ],
 "metadata": {
  "kernelspec": {
   "display_name": "Python 3",
   "language": "python",
   "name": "python3"
  },
  "language_info": {
   "codemirror_mode": {
    "name": "ipython",
    "version": 3
   },
   "file_extension": ".py",
   "mimetype": "text/x-python",
   "name": "python",
   "nbconvert_exporter": "python",
   "pygments_lexer": "ipython3",
   "version": "3.6.6"
  }
 },
 "nbformat": 4,
 "nbformat_minor": 2
}
