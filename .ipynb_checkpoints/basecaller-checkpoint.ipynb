{
 "cells": [
  {
   "cell_type": "code",
   "execution_count": 33,
   "metadata": {},
   "outputs": [],
   "source": [
    "import numpy as np\n",
    "from numpy.random import rand\n",
    "import csv\n",
    "import h5py\n",
    "import signal\n",
    "import fast5\n",
    "import fastq\n",
    "import re\n",
    "import matplotlib.pyplot as plt\n",
    "import tensorflow as tf\n",
    "from tensorflow import keras"
   ]
  },
  {
   "cell_type": "code",
   "execution_count": 34,
   "metadata": {},
   "outputs": [
    {
     "name": "stdout",
     "output_type": "stream",
     "text": [
      "[[22. 28.]\n",
      " [49. 64.]]\n"
     ]
    }
   ],
   "source": [
    "\"\"\"\n",
    "checks to see if gpu is working\n",
    "\"\"\"\n",
    "# Creates a graph.\n",
    "a = tf.constant([1.0, 2.0, 3.0, 4.0, 5.0, 6.0], shape=[2, 3], name='a')\n",
    "b = tf.constant([1.0, 2.0, 3.0, 4.0, 5.0, 6.0], shape=[3, 2], name='b')\n",
    "c = tf.matmul(a, b)\n",
    "# Creates a session with log_device_placement set to True.\n",
    "sess = tf.Session(config=tf.ConfigProto(log_device_placement=True))\n",
    "# Runs the op.\n",
    "print(sess.run(c)) "
   ]
  },
  {
   "cell_type": "code",
   "execution_count": 35,
   "metadata": {},
   "outputs": [],
   "source": [
    "\"\"\"\n",
    "this function divides the length of whatever \n",
    "size the list is by 4 for a 4mer\n",
    "\"\"\"\n",
    "def BaseFunction(x,y): \n",
    "    return((len(x)//y),y)"
   ]
  },
  {
   "cell_type": "code",
   "execution_count": 36,
   "metadata": {},
   "outputs": [],
   "source": [
    "\"\"\"\n",
    "this function divides the length of whatever \n",
    "size the list is by 40 for a 40mer\n",
    "\"\"\"\n",
    "def SigFunction(x,y): \n",
    "    return((y),((x//y)))"
   ]
  },
  {
   "cell_type": "code",
   "execution_count": 37,
   "metadata": {},
   "outputs": [],
   "source": [
    "\"\"\"\n",
    "this function provides information about the array    \n",
    "\"\"\"\n",
    "def array_inspect(x):\n",
    "    print (\"Shape is\",(x.shape))\n",
    "    print((\"Length is\",len(x)))\n",
    "    print((\"Dimension is\",x.ndim))\n",
    "    print((\"Total Size is\",x.size))\n",
    "    print((\"Type is\",x.dtype))\n",
    "    print((\"Type Name is\",x.dtype.name))\n",
    "    #print((\"Mean is\",(x).mean))"
   ]
  },
  {
   "cell_type": "code",
   "execution_count": 38,
   "metadata": {},
   "outputs": [],
   "source": [
    "\"\"\"\n",
    "this function normalizes the raw signal resistances\n",
    "from each read by dividing by the mean(or std?)\n",
    "\"\"\"\n",
    "def normalize(x,y):\n",
    "    z=np.divide(x,y)\n",
    "    #np.savetxt(\"NormalizedSigArray_{}.csv\".format(),(z), delimiter=\",\")\n",
    "    return z"
   ]
  },
  {
   "cell_type": "code",
   "execution_count": 39,
   "metadata": {},
   "outputs": [],
   "source": [
    "def divider(x,y):\n",
    "    a=np.divide(x,y)\n",
    "    return a"
   ]
  },
  {
   "cell_type": "code",
   "execution_count": 40,
   "metadata": {},
   "outputs": [],
   "source": [
    "def fxnAxes(x):\n",
    "    a=fig.add_axes([0.(x), 0.(x), 0.(x+1), 0.(x+1)])    \n",
    "    return a"
   ]
  },
  {
   "cell_type": "code",
   "execution_count": 41,
   "metadata": {},
   "outputs": [
    {
     "data": {
      "image/png": "[encoded data removed]",
      "text/plain": [
       "<Figure size 432x288 with 1 Axes>"
      ]
     },
     "metadata": {
      "needs_background": "light"
     },
     "output_type": "display_data"
    }
   ],
   "source": [
    "\"\"\"\n",
    "This cell does the following\n",
    "    1)Imports the bases\n",
    "    2)trims off the new lines and digits\n",
    "    3)converts them to a list\n",
    "    4)converts them to a code of 0123 instead of ATCG\n",
    "\"\"\"\n",
    "f = open(\"fasta/sampled_read.fasta\",\"r\") #opens the file with the reads\n",
    "a = f.read()\n",
    "b = (a.split(\">\", 11))\n",
    "base = [re.sub(\">|\\n|\\d\", \"\",str) for str in b]\n",
    "baseA0 = [re.sub(\"A\",\"0\",str) for str in base]\n",
    "baseT1 = [re.sub(\"T\",\"1\",str) for str in baseA0]\n",
    "baseG2 = [re.sub(\"C\",\"2\",str) for str in baseT1]\n",
    "base_coded = [re.sub(\"G\",\"3\",str) for str in baseG2] \n",
    "A0=(a.count(\"A\")) \n",
    "T1=(a.count(\"T\"))\n",
    "G2=(a.count(\"G\"))\n",
    "C3=(a.count(\"C\"))\n",
    "#print(base_coded)\n",
    "names = ['A', 'T', 'G', 'C']\n",
    "values = [(A0), (T1), (G2), (C3)]\n",
    "\n",
    "plt.subplot()\n",
    "plt.bar(names, values)\n",
    "plt.suptitle('Nucleotides in all reads')\n",
    "plt.show()"
   ]
  },
  {
   "cell_type": "code",
   "execution_count": 42,
   "metadata": {},
   "outputs": [],
   "source": [
    "\"\"\"\n",
    "The purpose of this code is the following\n",
    "1)Convert the coded reads to integer form \n",
    "2)Create an array inside the array with each read as a row\n",
    "3)Create a 2D matric with the counts of all the possible scenarios \n",
    "presented in each row and the reads in each column\n",
    "4)Create a 1D array with the readlengths\n",
    "\"\"\"\n",
    "kmer=[]\n",
    "kmercount=[]\n",
    "reads=[]\n",
    "#readstring={}\n",
    "readslength=[]\n",
    "res=(len(base_coded))   \n",
    "for x in range(res):\n",
    "    l=list(int (i) for i in base_coded[x])\n",
    "    for y in range(1):\n",
    "        i=(l.count(y), l.count(y+1), l.count(y+2), l.count(y+3))\n",
    "        kmercount.append(i)\n",
    "        n=np.transpose(kmercount) # creates a 2D matrix with the bases counts as rows(ATGC) and the reads by columns\n",
    "        kmer = n.view() #Create a view of the array with the same data\n",
    "    d=np.asarray(l)\n",
    "    d.resize((BaseFunction(d,4))) #Enter the list and the desired kmer for the function\n",
    "    v=(str(d))\n",
    "    reads.append(d) # store the reads in an array called reads\n",
    "    c=len(d)\n",
    "    readslength.append(c) #store the amt of kmer reads in readlength="
   ]
  },
  {
   "cell_type": "code",
   "execution_count": 43,
   "metadata": {},
   "outputs": [
    {
     "data": {
      "image/png": "[encoded data removed]",
      "text/plain": [
       "<Figure size 432x288 with 1 Axes>"
      ]
     },
     "metadata": {
      "needs_background": "light"
     },
     "output_type": "display_data"
    }
   ],
   "source": [
    "\"\"\"\n",
    "The purpose of this code is the following\n",
    "1) visualize the readlengths\n",
    "\"\"\"\n",
    "plt.ioff()\n",
    "for i in range(1):\n",
    "    plt.title(\"Readlengths\")\n",
    "    plt.ylabel('number of bases')\n",
    "    plt.xlabel('read id')\n",
    "    plt.plot(kmer[i])\n",
    "    plt.xticks(np.arange(0, 10))\n",
    "    plt.show()"
   ]
  },
  {
   "cell_type": "code",
   "execution_count": null,
   "metadata": {},
   "outputs": [],
   "source": []
  },
  {
   "cell_type": "code",
   "execution_count": null,
   "metadata": {},
   "outputs": [],
   "source": []
  },
  {
   "cell_type": "code",
   "execution_count": 58,
   "metadata": {},
   "outputs": [
    {
     "name": "stdout",
     "output_type": "stream",
     "text": [
      "Shape is (2078, 7, 4)\n",
      "('Length is', 2078)\n",
      "('Dimension is', 3)\n",
      "('Total Size is', 58184)\n",
      "('Type is', dtype('float64'))\n",
      "('Type Name is', 'float64')\n",
      "Shape is (2078, 7, 4)\n",
      "('Length is', 2078)\n",
      "('Dimension is', 3)\n",
      "('Total Size is', 58184)\n",
      "('Type is', dtype('float64'))\n",
      "('Type Name is', 'float64')\n",
      "Shape is (361, 7, 4)\n",
      "('Length is', 361)\n",
      "('Dimension is', 3)\n",
      "('Total Size is', 10108)\n",
      "('Type is', dtype('float64'))\n",
      "('Type Name is', 'float64')\n",
      "Shape is (1168, 7, 4)\n",
      "('Length is', 1168)\n",
      "('Dimension is', 3)\n",
      "('Total Size is', 32704)\n",
      "('Type is', dtype('float64'))\n",
      "('Type Name is', 'float64')\n",
      "Shape is (109, 7, 4)\n",
      "('Length is', 109)\n",
      "('Dimension is', 3)\n",
      "('Total Size is', 3052)\n",
      "('Type is', dtype('float64'))\n",
      "('Type Name is', 'float64')\n",
      "Shape is (1444, 7, 4)\n",
      "('Length is', 1444)\n",
      "('Dimension is', 3)\n",
      "('Total Size is', 40432)\n",
      "('Type is', dtype('float64'))\n",
      "('Type Name is', 'float64')\n",
      "Shape is (453, 7, 4)\n",
      "('Length is', 453)\n",
      "('Dimension is', 3)\n",
      "('Total Size is', 12684)\n",
      "('Type is', dtype('float64'))\n",
      "('Type Name is', 'float64')\n",
      "Shape is (941, 7, 4)\n",
      "('Length is', 941)\n",
      "('Dimension is', 3)\n",
      "('Total Size is', 26348)\n",
      "('Type is', dtype('float64'))\n",
      "('Type Name is', 'float64')\n",
      "Shape is (351, 7, 4)\n",
      "('Length is', 351)\n",
      "('Dimension is', 3)\n",
      "('Total Size is', 9828)\n",
      "('Type is', dtype('float64'))\n",
      "('Type Name is', 'float64')\n",
      "Shape is (2078, 7, 4)\n",
      "('Length is', 2078)\n",
      "('Dimension is', 3)\n",
      "('Total Size is', 58184)\n",
      "('Type is', dtype('float64'))\n",
      "('Type Name is', 'float64')\n",
      "Shape is (11063, 7, 4)\n",
      "('Length is', 11063)\n",
      "('Dimension is', 3)\n",
      "('Total Size is', 309764)\n",
      "('Type is', dtype('float64'))\n",
      "('Type Name is', 'float64')\n"
     ]
    }
   ],
   "source": [
    "\"\"\"\n",
    "The cell does the following:\n",
    "    1) Import the signal level data\n",
    "    2) Normalize it to the mean fof the signal\n",
    "    3) Appends the signal data from each read into a row of an array given the read count\n",
    "\"\"\"\n",
    "means = [] \n",
    "std = []\n",
    "sig = []\n",
    "for x in range(11):\n",
    "    a=np.loadtxt(\"signal/signal_{}.txt\".format(x)) # load the signal\n",
    "    m=a.mean() #obtain the average signal from the read\n",
    "    b=normalize(m,a) # divide each resistance by the average to normalize \n",
    "    c=b.size #obtains the number of resistance signals per read\n",
    "    #print(\"resist\",c)\n",
    "    d=readslength[x] #obtains the kmers count per read\n",
    "    #print(\"kmer\",d)\n",
    "    e=SigFunction(c,d) #figures out the average amount of resistances per kmer\n",
    "    #print(\"Signal\",x,\"2D array size={}\".format(e))\n",
    "    \n",
    "    \n",
    "    \n",
    "    \n",
    "    \"\"\"\n",
    "    I messed with this number to be an even 26 instead of the averages so I could use the data together\n",
    "    \"\"\"\n",
    "    \n",
    "    \n",
    "    \n",
    "    b.resize(d,7,4) # Insert the (#bases,#sig) changes the signal level n signals wide\n",
    "    #we can change this number later to be a sliding window for maching learning\n",
    "    sig.append(b)\n",
    "    #array_inspect(sig[x])\n",
    "    #np.savetxt('sig_array.csv', b, delimiter=',')\n",
    "    array_inspect(sig[x])\n",
    "    \n",
    "   # print (sig[x])"
   ]
  },
  {
   "cell_type": "code",
   "execution_count": null,
   "metadata": {},
   "outputs": [],
   "source": []
  },
  {
   "cell_type": "code",
   "execution_count": null,
   "metadata": {},
   "outputs": [],
   "source": []
  },
  {
   "cell_type": "code",
   "execution_count": null,
   "metadata": {},
   "outputs": [],
   "source": []
  },
  {
   "cell_type": "code",
   "execution_count": 59,
   "metadata": {},
   "outputs": [
    {
     "name": "stdout",
     "output_type": "stream",
     "text": [
      "Training entries: 2078, labels: 2078\n",
      "Training entries: 2078, labels: 2078\n",
      "Training entries: 361, labels: 361\n",
      "Training entries: 1168, labels: 1168\n",
      "Training entries: 109, labels: 109\n",
      "Training entries: 1444, labels: 1444\n",
      "Training entries: 453, labels: 453\n",
      "Training entries: 941, labels: 941\n",
      "Training entries: 351, labels: 351\n",
      "Training entries: 2078, labels: 2078\n"
     ]
    }
   ],
   "source": [
    "#print(reads[0])\n",
    "#print(sig[0])\n",
    "for x in range(10):\n",
    "    print(\"Training entries: {}, labels: {}\".format(len(reads[x]), len(sig[x])))"
   ]
  },
  {
   "cell_type": "code",
   "execution_count": 60,
   "metadata": {},
   "outputs": [],
   "source": [
    "\n",
    "#plt.imshow(sig[0])\n",
    "#plt.show()\n",
    "#print (sig[0])"
   ]
  },
  {
   "cell_type": "code",
   "execution_count": 61,
   "metadata": {},
   "outputs": [],
   "source": [
    "arr2=[] # In this code I converted the reads to a concated string of a 4mer\n",
    "for i, v in enumerate(reads[10]): #Read 0 is the training data\n",
    "    temp = ''\n",
    "    for w in v:\n",
    "        #print(w)\n",
    "        temp = temp + str(w)\n",
    "    \n",
    "    arr2.append(temp)\n",
    "\n",
    "y_val = np.array(arr2)\n",
    "partial_y_train = (y_val[0:10000])"
   ]
  },
  {
   "cell_type": "code",
   "execution_count": 62,
   "metadata": {},
   "outputs": [],
   "source": [
    "arrtest=[] # In this code I converted the reads to a concated string of a 4mer\n",
    "for i, v in enumerate(reads[1]): #Read 0 is the training data\n",
    "    temp = ''\n",
    "    for w in v:\n",
    "        #print(w)\n",
    "        temp = temp + str(w)\n",
    "    \n",
    "    arrtest.append(temp)\n",
    "\n",
    "y_test = np.array(arrtest)\n"
   ]
  },
  {
   "cell_type": "code",
   "execution_count": 63,
   "metadata": {},
   "outputs": [],
   "source": [
    "x_val =(sig[10]) #I'm trying to convert my reads and sig to tensor here and its not working\n",
    "partial_x_train = (x_val)\n",
    "\n",
    "#y_val =(reads[0])\n",
    "#partial_y_train =(reads[0])\n",
    "\n",
    "#x_val=[] # I am trying to resize the reads so that every reads is of a fized length, but it is not working well\n",
    "#for x in range(len(sig)):\n",
    "    #print(sig[x].shape)\n",
    "#    a=len(sig[x])\n",
    "#    sig[x].resize(a,26)\n",
    "#    b=(sig[x])\n",
    "#    for x in len(b):\n",
    "#        a=[str(reads) for reads in sig[x]]\n",
    "#        c=\"\".join(a)\n",
    "#        (temp)\n",
    "#            arr3 = np.array(arr2)\n",
    "    #print(sig[x].shape)\n",
    "#partial_x_train = (x_val[0:100])"
   ]
  },
  {
   "cell_type": "code",
   "execution_count": null,
   "metadata": {},
   "outputs": [],
   "source": []
  },
  {
   "cell_type": "code",
   "execution_count": 65,
   "metadata": {},
   "outputs": [
    {
     "name": "stdout",
     "output_type": "stream",
     "text": [
      "11063 11063\n",
      "2078 2078\n",
      "Training entries: 2078, labels: 2078\n",
      "Training entries: 2078, labels: 2078\n",
      "Training entries: 361, labels: 361\n",
      "Training entries: 1168, labels: 1168\n",
      "Training entries: 109, labels: 109\n",
      "Training entries: 1444, labels: 1444\n",
      "Training entries: 453, labels: 453\n",
      "Training entries: 941, labels: 941\n",
      "Training entries: 351, labels: 351\n",
      "Training entries: 2078, labels: 2078\n",
      "Training entries: 11063, labels: 11063\n"
     ]
    }
   ],
   "source": [
    "print(len(x_val), len(y_val))\n",
    "\n",
    "print(len(x_test), len(y_test))\n",
    "for x in range(11):\n",
    "    print(\"Training entries: {}, labels: {}\".format(len(reads[x]), len(sig[x])))"
   ]
  },
  {
   "cell_type": "code",
   "execution_count": 52,
   "metadata": {},
   "outputs": [
    {
     "data": {
      "text/plain": [
       "'\\nAny cell under this cell is trash code or experimental\\n'"
      ]
     },
     "execution_count": 52,
     "metadata": {},
     "output_type": "execute_result"
    }
   ],
   "source": [
    "\"\"\"\n",
    "Any cell under this cell is trash code or experimental\n",
    "\"\"\"\n"
   ]
  },
  {
   "cell_type": "code",
   "execution_count": 97,
   "metadata": {},
   "outputs": [
    {
     "name": "stdout",
     "output_type": "stream",
     "text": [
      "['0000' '0001' '0002' '0003' '0010' '0011' '0012' '0013' '0020' '0021'\n",
      " '0022' '0023' '0030' '0031' '0032' '0033' '0100' '0101' '0102' '0103'\n",
      " '0110' '0111' '0112' '0113' '0120' '0121' '0122' '0123' '0130' '0131'\n",
      " '0132' '0133' '0200' '0201' '0202' '0203' '0210' '0211' '0212' '0213'\n",
      " '0220' '0221' '0222' '0223' '0230' '0231' '0232' '0233' '0300' '0301'\n",
      " '0302' '0303' '0310' '0311' '0312' '0313' '0320' '0321' '0322' '0323'\n",
      " '0330' '0331' '0332' '0333' '1000' '1001' '1002' '1003' '1010' '1011'\n",
      " '1012' '1013' '1020' '1021' '1022' '1023' '1030' '1031' '1032' '1033'\n",
      " '1100' '1101' '1102' '1103' '1110' '1111' '1112' '1113' '1120' '1121'\n",
      " '1122' '1123' '1130' '1131' '1132' '1133' '1200' '1201' '1202' '1203'\n",
      " '1210' '1211' '1212' '1213' '1220' '1221' '1222' '1223' '1230' '1231'\n",
      " '1232' '1233' '1300' '1301' '1302' '1303' '1310' '1311' '1312' '1313'\n",
      " '1320' '1321' '1322' '1323' '1330' '1331' '1332' '1333' '2000' '2001'\n",
      " '2002' '2003' '2010' '2011' '2012' '2013' '2020' '2021' '2022' '2023'\n",
      " '2030' '2031' '2032' '2033' '2100' '2101' '2102' '2103' '2110' '2111'\n",
      " '2112' '2113' '2120' '2121' '2122' '2123' '2130' '2131' '2132' '2133'\n",
      " '2200' '2201' '2202' '2203' '2210' '2211' '2212' '2213' '2220' '2221'\n",
      " '2222' '2223' '2230' '2231' '2232' '2233' '2300' '2301' '2302' '2303'\n",
      " '2310' '2311' '2312' '2313' '2320' '2321' '2322' '2330' '2331' '2332'\n",
      " '2333' '3000' '3001' '3002' '3003' '3010' '3011' '3012' '3013' '3020'\n",
      " '3021' '3022' '3023' '3030' '3031' '3032' '3033' '3100' '3101' '3102'\n",
      " '3103' '3110' '3111' '3112' '3113' '3120' '3121' '3122' '3130' '3131'\n",
      " '3132' '3133' '3200' '3201' '3202' '3203' '3210' '3211' '3212' '3213'\n",
      " '3220' '3221' '3222' '3223' '3230' '3231' '3232' '3233' '3300' '3301'\n",
      " '3302' '3303' '3310' '3311' '3312' '3313' '3320' '3321' '3322' '3323'\n",
      " '3330' '3331' '3332' '3333']\n",
      "[  0   1   2   3   4   5   6   7   8   9  10  11  12  13  14  15  16  17\n",
      "  18  19  20  21  22  23  24  25  26  27  28  29  30  31  32  33  34  35\n",
      "  36  37  38  39  40  41  42  43  44  45  46  47  48  49  50  51  52  53\n",
      "  54  55  56  57  58  59  60  61  62  63  64  65  66  67  68  69  70  71\n",
      "  72  73  74  75  76  77  78  79  80  81  82  83  84  85  86  87  88  89\n",
      "  90  91  92  93  94  95  96  97  98  99 100 101 102 103 104 105 106 107\n",
      " 108 109 110 111 112 113 114 115 116 117 118 119 120 121 122 123 124 125\n",
      " 126 127 128 129 130 131 132 133 134 135 136 137 138 139 140 141 142 143\n",
      " 144 145 146 147 148 149 150 151 152 153 154 155 156 157 158 159 160 161\n",
      " 162 163 164 165 166 167 168 169 170 171 172 173 174 175 176 177 178 179\n",
      " 180 181 182 183 184 185 186 187 188 189 190 191 192 193 194 195 196 197\n",
      " 198 199 200 201 202 203 204 205 206 207 208 209 210 211 212 213 214 215\n",
      " 216 217 218 219 220 221 222 223 224 225 226 227 228 229 230 231 232 233\n",
      " 234 235 236 237 238 239 240 241 242 243 244 245 246 247 248 249 250 251\n",
      " 252 253]\n",
      "[{0: '0000'}, {1: '0001'}, {2: '0002'}, {3: '0003'}, {4: '0010'}, {5: '0011'}, {6: '0012'}, {7: '0013'}, {8: '0020'}, {9: '0021'}, {10: '0022'}, {11: '0023'}, {12: '0030'}, {13: '0031'}, {14: '0032'}, {15: '0033'}, {16: '0100'}, {17: '0101'}, {18: '0102'}, {19: '0103'}, {20: '0110'}, {21: '0111'}, {22: '0112'}, {23: '0113'}, {24: '0120'}, {25: '0121'}, {26: '0122'}, {27: '0123'}, {28: '0130'}, {29: '0131'}, {30: '0132'}, {31: '0133'}, {32: '0200'}, {33: '0201'}, {34: '0202'}, {35: '0203'}, {36: '0210'}, {37: '0211'}, {38: '0212'}, {39: '0213'}, {40: '0220'}, {41: '0221'}, {42: '0222'}, {43: '0223'}, {44: '0230'}, {45: '0231'}, {46: '0232'}, {47: '0233'}, {48: '0300'}, {49: '0301'}, {50: '0302'}, {51: '0303'}, {52: '0310'}, {53: '0311'}, {54: '0312'}, {55: '0313'}, {56: '0320'}, {57: '0321'}, {58: '0322'}, {59: '0323'}, {60: '0330'}, {61: '0331'}, {62: '0332'}, {63: '0333'}, {64: '1000'}, {65: '1001'}, {66: '1002'}, {67: '1003'}, {68: '1010'}, {69: '1011'}, {70: '1012'}, {71: '1013'}, {72: '1020'}, {73: '1021'}, {74: '1022'}, {75: '1023'}, {76: '1030'}, {77: '1031'}, {78: '1032'}, {79: '1033'}, {80: '1100'}, {81: '1101'}, {82: '1102'}, {83: '1103'}, {84: '1110'}, {85: '1111'}, {86: '1112'}, {87: '1113'}, {88: '1120'}, {89: '1121'}, {90: '1122'}, {91: '1123'}, {92: '1130'}, {93: '1131'}, {94: '1132'}, {95: '1133'}, {96: '1200'}, {97: '1201'}, {98: '1202'}, {99: '1203'}, {100: '1210'}, {101: '1211'}, {102: '1212'}, {103: '1213'}, {104: '1220'}, {105: '1221'}, {106: '1222'}, {107: '1223'}, {108: '1230'}, {109: '1231'}, {110: '1232'}, {111: '1233'}, {112: '1300'}, {113: '1301'}, {114: '1302'}, {115: '1303'}, {116: '1310'}, {117: '1311'}, {118: '1312'}, {119: '1313'}, {120: '1320'}, {121: '1321'}, {122: '1322'}, {123: '1323'}, {124: '1330'}, {125: '1331'}, {126: '1332'}, {127: '1333'}, {128: '2000'}, {129: '2001'}, {130: '2002'}, {131: '2003'}, {132: '2010'}, {133: '2011'}, {134: '2012'}, {135: '2013'}, {136: '2020'}, {137: '2021'}, {138: '2022'}, {139: '2023'}, {140: '2030'}, {141: '2031'}, {142: '2032'}, {143: '2033'}, {144: '2100'}, {145: '2101'}, {146: '2102'}, {147: '2103'}, {148: '2110'}, {149: '2111'}, {150: '2112'}, {151: '2113'}, {152: '2120'}, {153: '2121'}, {154: '2122'}, {155: '2123'}, {156: '2130'}, {157: '2131'}, {158: '2132'}, {159: '2133'}, {160: '2200'}, {161: '2201'}, {162: '2202'}, {163: '2203'}, {164: '2210'}, {165: '2211'}, {166: '2212'}, {167: '2213'}, {168: '2220'}, {169: '2221'}, {170: '2222'}, {171: '2223'}, {172: '2230'}, {173: '2231'}, {174: '2232'}, {175: '2233'}, {176: '2300'}, {177: '2301'}, {178: '2302'}, {179: '2303'}, {180: '2310'}, {181: '2311'}, {182: '2312'}, {183: '2313'}, {184: '2320'}, {185: '2321'}, {186: '2322'}, {187: '2330'}, {188: '2331'}, {189: '2332'}, {190: '2333'}, {191: '3000'}, {192: '3001'}, {193: '3002'}, {194: '3003'}, {195: '3010'}, {196: '3011'}, {197: '3012'}, {198: '3013'}, {199: '3020'}, {200: '3021'}, {201: '3022'}, {202: '3023'}, {203: '3030'}, {204: '3031'}, {205: '3032'}, {206: '3033'}, {207: '3100'}, {208: '3101'}, {209: '3102'}, {210: '3103'}, {211: '3110'}, {212: '3111'}, {213: '3112'}, {214: '3113'}, {215: '3120'}, {216: '3121'}, {217: '3122'}, {218: '3130'}, {219: '3131'}, {220: '3132'}, {221: '3133'}, {222: '3200'}, {223: '3201'}, {224: '3202'}, {225: '3203'}, {226: '3210'}, {227: '3211'}, {228: '3212'}, {229: '3213'}, {230: '3220'}, {231: '3221'}, {232: '3222'}, {233: '3223'}, {234: '3230'}, {235: '3231'}, {236: '3232'}, {237: '3233'}, {238: '3300'}, {239: '3301'}, {240: '3302'}, {241: '3303'}, {242: '3310'}, {243: '3311'}, {244: '3312'}, {245: '3313'}, {246: '3320'}, {247: '3321'}, {248: '3322'}, {249: '3323'}, {250: '3330'}, {251: '3331'}, {252: '3332'}, {253: '3333'}]\n"
     ]
    }
   ],
   "source": [
    "#maybe I need to unique them, then index them and use that as a dict or reference number between 0-256 for resub\n",
    "a=np.unique(y_val)\n",
    "print(a)\n",
    "b=enumerate(a)\n",
    "c=np.arange(0,254,1)\n",
    "print(c)\n",
    "ref =[]\n",
    "for x in range(254):\n",
    "    index={c[x]:a[x]}\n",
    "    ref.append(index)\n",
    "print(ref)"
   ]
  },
  {
   "cell_type": "code",
   "execution_count": null,
   "metadata": {},
   "outputs": [],
   "source": []
  },
  {
   "cell_type": "markdown",
   "metadata": {},
   "source": []
  },
  {
   "cell_type": "code",
   "execution_count": 68,
   "metadata": {},
   "outputs": [
    {
     "name": "stdout",
     "output_type": "stream",
     "text": [
      "2078\n",
      "4156\n",
      "4517\n",
      "5685\n",
      "5794\n",
      "7238\n",
      "7691\n",
      "8632\n",
      "8983\n",
      "11061\n",
      "22124\n",
      "[array([1310., 3113., 3013., ..., 2110., 3032., 1121.]), array([1310., 3113., 3013., ..., 3231., 2222.,  303.]), array([1310., 3113., 3013., ..., 1310., 1101., 1113.]), array([1.310e+03, 3.113e+03, 3.013e+03, ..., 1.000e+00, 1.000e+00,\n",
      "       1.121e+03]), array([1310., 3113., 3013., ..., 1322., 1211.,   30.]), array([1310., 3113., 3013., ..., 1112., 1111.,  311.]), array([1310., 3113., 3013., ...,  101., 1131., 1013.]), array([1310., 3113., 3013., ...,  300.,   11.,  222.]), array([1310., 3113., 3013., ..., 3130., 3222.,  331.]), array([1310., 3113., 3013., ..., 1112., 3030., 1110.]), array([1310., 3113., 3013., ..., 3111., 2303.,  111.])]\n"
     ]
    }
   ],
   "source": [
    "#arr2=[] # In this code I converted the reads to a concated string of a 4mer\n",
    "#arr3=[]\n",
    "#concat_reads=[]\n",
    "#for x in range(11):\n",
    "    #print(reads[0])\n",
    "#    for i,v in enumerate(reads[x]):\n",
    "#        temp = ''\n",
    "#        for w in v:\n",
    "#            temp = temp + str(w)\n",
    "#        arr2.append(temp)\n",
    "#    y = np.float64(arr2)\n",
    "#    print(len(y))\n",
    "#    concat_reads.append(y)\n",
    "#print(concat_reads)"
   ]
  },
  {
   "cell_type": "code",
   "execution_count": null,
   "metadata": {},
   "outputs": [],
   "source": [
    "x_train = tf.keras.utils.normalize(sig[10], axis=2)\n",
    "x_test = tf.keras.utils.normalize(sig[1], axis=2)\n",
    "y_train =concat_reads[11]\n",
    "#y_test =tf.keras.utils.normalize(concat_reads[1], axis=0)"
   ]
  },
  {
   "cell_type": "code",
   "execution_count": null,
   "metadata": {},
   "outputs": [],
   "source": [
    "#for x in range(3):\n",
    "    #a=plt.imshow(x_train[x])\n",
    "    #plt.show(a)"
   ]
  },
  {
   "cell_type": "code",
   "execution_count": null,
   "metadata": {},
   "outputs": [],
   "source": [
    "model=tf.keras.models.Sequential()\n",
    "model.add(tf.keras.layers.Flatten(input_shape=(7, 4)))# flatten using the API instead of np\n",
    "model.add(tf.keras.layers.Dense(128, activation=tf.nn.relu)) # uses 128 neurons and is a feed forward rectilinear relu\n",
    "model.add(tf.keras.layers.Dense(128, activation=tf.nn.relu)) # do the same thig for hidden layer 2\n",
    "model.add(tf.keras.layers.Dense(3334, activation=tf.nn.softmax)) # output layer with number of classifications (256) use softmax for output distribution\n"
   ]
  },
  {
   "cell_type": "code",
   "execution_count": null,
   "metadata": {},
   "outputs": [],
   "source": [
    "model.compile(optimizer='adam',\n",
    "              loss='sparse_categorical_crossentropy',\n",
    "              metrics=['accuracy'])"
   ]
  },
  {
   "cell_type": "code",
   "execution_count": null,
   "metadata": {},
   "outputs": [],
   "source": [
    "model.fit(x_train, y_train, epochs=3)"
   ]
  },
  {
   "cell_type": "code",
   "execution_count": null,
   "metadata": {},
   "outputs": [],
   "source": [
    "val_loss, val_acc = model.evaluate(x_test, y_test)\n",
    "print(val_loss)\n",
    "print(val_acc)"
   ]
  },
  {
   "cell_type": "code",
   "execution_count": null,
   "metadata": {},
   "outputs": [],
   "source": [
    "# define a neural network (softmax logistic regression)\n",
    "#x = tf.placeholder(tf.float32, [None, 784])\n",
    "#W = tf.Variable(tf.zeros([784, 10]))\n",
    "#b = tf.Variable(tf.zeros([10]))\n",
    "#y = tf.nn.softmax(tf.matmul(x, W) + b) # the equation\n",
    "## define the train step to minimize the cross entropy with SGD\n",
    "#y_ = tf.placeholder(tf.float32, [None, 10])\n",
    "#cross_entropy = -tf.reduce_sum(y_*tf.log(y))\n",
    "#train_step = tf.train.GradientDescentOptimizer(0.01).minimize(cross_entropy)\n",
    "#train_step\n",
    "## initialize variables and session\n",
    "#init = tf.global_variables_initializer()\n",
    "#sess = tf.Session()\n",
    "#sess.run(init)\n",
    "\n",
    "#model = Sequential()\n",
    "#model.add(Embedding(, 64, input_length=10))\n"
   ]
  },
  {
   "cell_type": "code",
   "execution_count": null,
   "metadata": {},
   "outputs": [],
   "source": []
  },
  {
   "cell_type": "code",
   "execution_count": null,
   "metadata": {
    "scrolled": false
   },
   "outputs": [],
   "source": [
    "#model.compile(optimizer=tf.train.AdamOptimizer(),\n",
    "#              loss='binary_crossentropy',\n",
    "#              metrics=['accuracy'])\n",
    "#history = model.fit(partial_x_train,\n",
    "#                    partial_y_train,\n",
    "#                    epochs=400,\n",
    "#                    batch_size=100,\n",
    "#                    validation_data=(x_val, y_val),\n",
    "#                    verbose=1)"
   ]
  },
  {
   "cell_type": "code",
   "execution_count": null,
   "metadata": {},
   "outputs": [],
   "source": [
    "# the model will take as input an integer matrix of size (batch, input_length).\n",
    "# the largest integer (i.e. word index) in the input should be\n",
    "# no larger than 999 (vocabulary size).\n",
    "# now model.output_shape == (None, 10, 64), where None is the batch dimension.\n",
    "\n",
    "#input_array = np.random.randint(1000, size=(32, 10))\n",
    "\n",
    "#model.compile('rmsprop', 'mse')\n",
    "#output_array = model.predict(input_array)\n",
    "#assert output_array.shape == (32, 10, 64)\n",
    "# train the model mini batch with 100 elements, for 1K times\n",
    "#for i in range(1000):\n",
    "#    batch_xs, batch_ys = mnist.train.next_batch(100)                    # fix this!!\n",
    "#    sess.run(train_step, feed_dict={x: batch_xs, y_: batch_ys})\n",
    "# evaluate the accuracy of the model\n",
    "#correct_prediction = tf.equal(tf.argmax(y,1), tf.argmax(y_,1))\n",
    "#accuracy = tf.reduce_mean(tf.cast(correct_prediction, \"float\"))\n",
    "#print(sess.run(accuracy, feed_dict={x: x_test, y_: y_test}))"
   ]
  },
  {
   "cell_type": "code",
   "execution_count": null,
   "metadata": {},
   "outputs": [],
   "source": [
    "#results = model.evaluate(x_test, y_test)\n",
    "\n",
    "#print(results)"
   ]
  },
  {
   "cell_type": "code",
   "execution_count": null,
   "metadata": {},
   "outputs": [],
   "source": []
  },
  {
   "cell_type": "code",
   "execution_count": null,
   "metadata": {},
   "outputs": [],
   "source": [
    "#history_dict = history.history\n",
    "#history_dict.keys()\n",
    "\n",
    "#acc = history.history['acc']\n",
    "#val_acc = history.history['val_acc']\n",
    "#loss = history.history['loss']\n",
    "#val_loss = history.history['val_loss']\n",
    "\n",
    "#epochs = range(1, len(acc) + 1)\n",
    "\n",
    "# \"bo\" is for \"blue dot\"\n",
    "#plt.plot(epochs, loss, 'bo', label='Training loss')\n",
    "# b is for \"solid blue line\"\n",
    "#plt.plot(epochs, val_loss, 'b', label='Validation loss')\n",
    "#plt.title('Training and validation loss')\n",
    "#plt.xlabel('Epochs')\n",
    "#plt.ylabel('Loss')\n",
    "#plt.legend()\n",
    "\n",
    "#plt.show()\n",
    "#plt.clf()   # clear figure\n",
    "#acc_values = history_dict['acc']\n",
    "#val_acc_values = history_dict['val_acc']\n",
    "\n",
    "#plt.plot(epochs, acc, 'bo', label='Training acc')\n",
    "#plt.plot(epochs, val_acc, 'b', label='Validation acc')\n",
    "#plt.title('Training and validation accuracy')\n",
    "#plt.xlabel('Epochs')\n",
    "#plt.ylabel('Accuracy')\n",
    "#plt.legend()\n",
    "\n",
    "#plt.show()"
   ]
  },
  {
   "cell_type": "code",
   "execution_count": null,
   "metadata": {},
   "outputs": [],
   "source": []
  },
  {
   "cell_type": "code",
   "execution_count": null,
   "metadata": {},
   "outputs": [],
   "source": []
  }
 ],
 "metadata": {
  "kernelspec": {
   "display_name": "Python 3",
   "language": "python",
   "name": "python3"
  },
  "language_info": {
   "codemirror_mode": {
    "name": "ipython",
    "version": 3
   },
   "file_extension": ".py",
   "mimetype": "text/x-python",
   "name": "python",
   "nbconvert_exporter": "python",
   "pygments_lexer": "ipython3",
   "version": "3.6.6"
  }
 },
 "nbformat": 4,
 "nbformat_minor": 2
}
