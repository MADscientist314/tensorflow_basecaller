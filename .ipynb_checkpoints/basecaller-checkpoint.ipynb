{
 "cells": [
  {
   "cell_type": "code",
   "execution_count": 1,
   "metadata": {},
   "outputs": [],
   "source": [
    "#import numpy as np\n",
    "#from numpy.random import rand\n",
    "#import csv\n",
    "#import h5py\n",
    "#import signal\n",
    "#import fast5\n",
    "#import fastq\n",
    "#import re\n",
    "#import matplotlib.pyplot as plt\n",
    "#import tensorflow as tf\n",
    "#from tensorflow import keras"
   ]
  },
  {
   "cell_type": "code",
   "execution_count": 2,
   "metadata": {},
   "outputs": [
    {
     "name": "stderr",
     "output_type": "stream",
     "text": [
      "Using TensorFlow backend.\n"
     ]
    }
   ],
   "source": [
    "import tensorflow as tf\n",
    "import keras\n",
    "import matplotlib.pyplot as plt\n",
    "import re\n",
    "import numpy as np"
   ]
  },
  {
   "cell_type": "code",
   "execution_count": 3,
   "metadata": {},
   "outputs": [],
   "source": [
    "#import tensorflow as tf\n",
    "#with tf.device('/gpu:0'):\n",
    "#    a = tf.constant([1.0, 2.0, 3.0, 4.0, 5.0, 6.0], shape=[2, 3], name='a')\n",
    "#    b = tf.constant([1.0, 2.0, 3.0, 4.0, 5.0, 6.0], shape=[3, 2], name='b')\n",
    "#    c = tf.matmul(a, b)\n",
    "#with tf.Session() as sess:\n",
    "#   print (sess.run(c))"
   ]
  },
  {
   "cell_type": "code",
   "execution_count": 4,
   "metadata": {},
   "outputs": [],
   "source": [
    "\"\"\"\n",
    "this function divides the length of whatever \n",
    "size the list is by 4 for a 4mer\n",
    "\"\"\"\n",
    "def BaseFunction(x,y): \n",
    "    return((len(x)//y),y)"
   ]
  },
  {
   "cell_type": "code",
   "execution_count": 5,
   "metadata": {},
   "outputs": [],
   "source": [
    "\"\"\"\n",
    "this function divides the length of whatever \n",
    "size the list is by 40 for a 40mer\n",
    "\"\"\"\n",
    "def SigFunction(x,y): \n",
    "    return((y),((x//y)))"
   ]
  },
  {
   "cell_type": "code",
   "execution_count": 6,
   "metadata": {},
   "outputs": [],
   "source": [
    "\"\"\"\n",
    "this function provides information about the array    \n",
    "\"\"\"\n",
    "def array_inspect(x):\n",
    "    print (\"Shape is\",(x.shape))\n",
    "    print((\"Length is\",len(x)))\n",
    "    print((\"Dimension is\",x.ndim))\n",
    "    print((\"Total Size is\",x.size))\n",
    "    print((\"Type is\",x.dtype))\n",
    "    print((\"Type Name is\",x.dtype.name))"
   ]
  },
  {
   "cell_type": "code",
   "execution_count": 7,
   "metadata": {},
   "outputs": [],
   "source": [
    "\"\"\"\n",
    "this function normalizes the raw signal resistances\n",
    "from each read by dividing by the mean(or std?)\n",
    "\"\"\"\n",
    "def normalize(x,y):\n",
    "    z=np.divide(x,y)\n",
    "    #np.savetxt(\"NormalizedSigArray_{}.csv\".format(),(z), delimiter=\",\")\n",
    "    return z"
   ]
  },
  {
   "cell_type": "code",
   "execution_count": 8,
   "metadata": {},
   "outputs": [
    {
     "data": {
      "image/png": "[encoded data removed]",
      "text/plain": [
       "<Figure size 432x288 with 1 Axes>"
      ]
     },
     "metadata": {
      "needs_background": "light"
     },
     "output_type": "display_data"
    }
   ],
   "source": [
    "\"\"\"\n",
    "This cell does the following\n",
    "    1)Imports the bases\n",
    "    2)trims off the new lines and digits\n",
    "    3)converts them to a list\n",
    "    4)converts them to a code of 0123 instead of ATCG\n",
    "\"\"\"\n",
    "f = open(\"fasta/sampled_read.fasta\",\"r\") #opens the file with the reads\n",
    "a = f.read()\n",
    "b = (a.split(\">\", 12))\n",
    "base = [re.sub(\">|\\n|\\d\", \"\",str) for str in b]\n",
    "baseA0 = [re.sub(\"A\",\"0\",str) for str in base]\n",
    "baseT1 = [re.sub(\"T\",\"1\",str) for str in baseA0]\n",
    "baseG2 = [re.sub(\"C\",\"2\",str) for str in baseT1]\n",
    "base_coded = [re.sub(\"G\",\"3\",str) for str in baseG2] \n",
    "A0=(a.count(\"A\")) \n",
    "T1=(a.count(\"T\"))\n",
    "G2=(a.count(\"G\"))\n",
    "C3=(a.count(\"C\"))\n",
    "names = ['A', 'T', 'G', 'C']\n",
    "values = [(A0), (T1), (G2), (C3)]\n",
    "plt.subplot()\n",
    "plt.bar(names, values)\n",
    "plt.suptitle('Nucleotides in all reads')\n",
    "plt.show()"
   ]
  },
  {
   "cell_type": "code",
   "execution_count": 9,
   "metadata": {},
   "outputs": [],
   "source": [
    "\"\"\"\n",
    "The purpose of this code is the following\n",
    "1)Convert the coded reads to integer form \n",
    "2)Create an array inside the array with each read as a row\n",
    "3)Create a 2D matric with the counts of all the possible scenarios \n",
    "presented in each row and the reads in each column\n",
    "4)Create a 1D array with the readlengths\n",
    "\"\"\"\n",
    "kmer=[]\n",
    "kmercount=[]\n",
    "reads=[]\n",
    "#readstring={}\n",
    "readslength=[]\n",
    "res=(len(base_coded))   \n",
    "for x in range(res):\n",
    "    l=list(int (i) for i in base_coded[x])\n",
    "    for y in range(1):\n",
    "        i=(l.count(y), l.count(y+1), l.count(y+2), l.count(y+3))\n",
    "        kmercount.append(i)\n",
    "        n=np.transpose(kmercount) # creates a 2D matrix with the bases counts as rows(ATGC) and the reads by columns\n",
    "        kmer = n.view() #Create a view of the array with the same data\n",
    "    d=np.asarray(l)\n",
    "    d.resize((BaseFunction(d,4))) #Enter the list and the desired kmer for the function\n",
    "    v=(str(d))\n",
    "    reads.append(d) # store the reads in an array called reads\n",
    "    c=len(d)\n",
    "    readslength.append(c) #store the amt of kmer reads in readlength="
   ]
  },
  {
   "cell_type": "code",
   "execution_count": 10,
   "metadata": {},
   "outputs": [
    {
     "data": {
      "image/png": "[encoded data removed]",
      "text/plain": [
       "<Figure size 432x288 with 1 Axes>"
      ]
     },
     "metadata": {
      "needs_background": "light"
     },
     "output_type": "display_data"
    }
   ],
   "source": [
    "\"\"\"\n",
    "The purpose of this code is the following\n",
    "1) visualize the readlengths\n",
    "\"\"\"\n",
    "plt.ioff()\n",
    "for i in range(1):\n",
    "    plt.title(\"Readlengths\")\n",
    "    plt.ylabel('number of bases')\n",
    "    plt.xlabel('read id')\n",
    "    plt.plot(kmer[i])\n",
    "    plt.xticks(np.arange(0, 12))\n",
    "    plt.show()"
   ]
  },
  {
   "cell_type": "code",
   "execution_count": 11,
   "metadata": {},
   "outputs": [],
   "source": [
    "\"\"\"\n",
    "The cell does the following:\n",
    "    1) Import the signal level data\n",
    "    2) Normalize it to the mean fof the signal\n",
    "    3) Appends the signal data from each read into a row of an array given the read count\n",
    "\"\"\"\n",
    "means = [] \n",
    "std = []\n",
    "sig = []\n",
    "for x in range(12):\n",
    "    a=np.loadtxt(\"signal/signal_{}.txt\".format(x)) # load the signal\n",
    "    m=a.mean() #obtain the average signal from the read\n",
    "    b=normalize(m,a) # divide each resistance by the average to normalize \n",
    "    c=b.size #obtains the number of resistance signals per read\n",
    "    #print(\"resist\",c)\n",
    "    d=readslength[x] #obtains the kmers count per read\n",
    "    #print(\"kmer\",d)\n",
    "    e=SigFunction(c,d) #figures out the average amount of resistances per kmer\n",
    "    #print(\"Signal\",x,\"2D array size={}\".format(e))\n",
    "    b.resize(e) # Insert the (#bases,#sig) changes the signal level n signals wide\n",
    "    sig.append(b)"
   ]
  },
  {
   "cell_type": "code",
   "execution_count": 12,
   "metadata": {},
   "outputs": [],
   "source": [
    "\"\"\"\n",
    "The goal for this cell is to convert the reads to string\n",
    "index the unique outputs for the 4mers\n",
    "and create a new list of the indexed [1:256 or whatever]\n",
    "reads for the model\n",
    "\"\"\"\n",
    "arr2=[] # In this code I converted the reads to a concated string of a 4mer\n",
    "converted=[]\n",
    "converted2=[]\n",
    "for i, v in enumerate(reads[11]): #Read 0 is the training data\n",
    "    temp = ''\n",
    "    for w in v:\n",
    "        temp = temp + str(w)\n",
    "    arr2.append(temp)\n",
    "a=np.unique(arr2) # makes an array of every unique combo in the read for downstream indexing\n",
    "for x in arr2:\n",
    "    #print(x)\n",
    "    b=enumerate(a)\n",
    "    c=[(i) for i, j in b if a[i]==(x)]\n",
    "    converted.append(c)\n",
    "for i, v in enumerate(converted): #Read 0 is the training data\n",
    "    temp = ''\n",
    "    #print(v)\n",
    "    for w in v:\n",
    "        #print(w)\n",
    "        temp = temp + str(w)\n",
    "    converted2.append(temp)\n",
    "y_train=np.int16(converted2)"
   ]
  },
  {
   "cell_type": "code",
   "execution_count": 13,
   "metadata": {},
   "outputs": [
    {
     "name": "stdout",
     "output_type": "stream",
     "text": [
      "254\n"
     ]
    }
   ],
   "source": [
    "\"\"\"\n",
    "I just copied the same code for the testing set read(1)\n",
    "\"\"\"\n",
    "arr2=[] # In this code I converted the reads to a concated string of a 4mer\n",
    "converted=[]\n",
    "converted2=[]\n",
    "for i, v in enumerate(reads[10]): #Read 0 is the training data\n",
    "    temp = ''\n",
    "    for w in v:\n",
    "        temp = temp + str(w)\n",
    "    arr2.append(temp)\n",
    "a=np.unique(arr2)# makes an array of every unique combo in the read for downstream indexing\n",
    "for x in arr2:\n",
    "    #print(x)\n",
    "    b=enumerate(a)\n",
    "    c=[(i) for i, j in b if a[i]==(x)]\n",
    "    converted.append(c)\n",
    "for i, v in enumerate(converted): #Read 0 is the training data\n",
    "    temp = ''\n",
    "    for w in v:\n",
    "        temp = temp + str(w)\n",
    "    converted2.append(temp)\n",
    "n=np.unique(converted2)\n",
    "print((n.size))\n",
    "y_test=np.int16(converted2)"
   ]
  },
  {
   "cell_type": "code",
   "execution_count": 14,
   "metadata": {},
   "outputs": [
    {
     "name": "stdout",
     "output_type": "stream",
     "text": [
      "Shape is (177777, 26)\n",
      "('Length is', 177777)\n",
      "('Dimension is', 2)\n",
      "('Total Size is', 4622202)\n",
      "('Type is', dtype('float64'))\n",
      "('Type Name is', 'float64')\n"
     ]
    }
   ],
   "source": [
    "x_train = sig[11]\n",
    "x_test = sig[10]\n",
    "array_inspect(x_train)\n",
    "(i,j) = x_train.shape"
   ]
  },
  {
   "cell_type": "markdown",
   "metadata": {},
   "source": []
  },
  {
   "cell_type": "code",
   "execution_count": 95,
   "metadata": {},
   "outputs": [],
   "source": [
    "model=tf.keras.models.Sequential()\n",
    "model.add(tf.keras.layers.Dense(512, activation=tf.nn.relu)) # uses 128 neurons and is a feed forward rectilinear relu\n",
    "model.add(tf.keras.layers.Dense(512, activation=tf.nn.relu)) # do the same thig for hidden layer 2\n",
    "model.add(tf.keras.layers.Dense(512, activation=tf.nn.relu)) # do the same thig for hidden layer 2\n",
    "model.add(tf.keras.layers.Dense(256, activation=tf.nn.softmax)) # output layer with number of classifications (256) use softmax for output distribution\n"
   ]
  },
  {
   "cell_type": "code",
   "execution_count": 96,
   "metadata": {},
   "outputs": [],
   "source": [
    "model.compile(optimizer='adam',\n",
    "              loss='sparse_categorical_crossentropy',\n",
    "              metrics=['accuracy'])\n"
   ]
  },
  {
   "cell_type": "code",
   "execution_count": 97,
   "metadata": {},
   "outputs": [
    {
     "name": "stdout",
     "output_type": "stream",
     "text": [
      "Train on 167777 samples, validate on 10000 samples\n",
      "Epoch 1/50\n",
      "167777/167777 [==============================] - 69s 410us/step - loss: 5.4236 - acc: 0.0128 - val_loss: 5.4193 - val_acc: 0.0152\n",
      "Epoch 2/50\n",
      "167777/167777 [==============================] - 63s 377us/step - loss: 5.4174 - acc: 0.0136 - val_loss: 5.4187 - val_acc: 0.0152\n",
      "Epoch 3/50\n",
      "167777/167777 [==============================] - 61s 364us/step - loss: 5.4165 - acc: 0.0134 - val_loss: 5.4202 - val_acc: 0.0152\n",
      "Epoch 4/50\n",
      "167777/167777 [==============================] - 66s 393us/step - loss: 5.4160 - acc: 0.0130 - val_loss: 5.4179 - val_acc: 0.0152\n",
      "Epoch 5/50\n",
      "167777/167777 [==============================] - 67s 401us/step - loss: 5.4156 - acc: 0.0133 - val_loss: 5.4176 - val_acc: 0.0152\n",
      "Epoch 6/50\n",
      "167777/167777 [==============================] - 68s 405us/step - loss: 5.4152 - acc: 0.0130 - val_loss: 5.4164 - val_acc: 0.0152\n",
      "Epoch 7/50\n",
      "167777/167777 [==============================] - 66s 393us/step - loss: 5.4150 - acc: 0.0132 - val_loss: 5.4181 - val_acc: 0.0129\n",
      "Epoch 8/50\n",
      "167777/167777 [==============================] - 63s 378us/step - loss: 5.4149 - acc: 0.0130 - val_loss: 5.4173 - val_acc: 0.0152\n",
      "Epoch 9/50\n",
      "167777/167777 [==============================] - 67s 402us/step - loss: 5.4148 - acc: 0.0133 - val_loss: 5.4174 - val_acc: 0.0152\n",
      "Epoch 10/50\n",
      "167777/167777 [==============================] - 67s 398us/step - loss: 5.4147 - acc: 0.0132 - val_loss: 5.4169 - val_acc: 0.0152\n",
      "Epoch 11/50\n",
      "167777/167777 [==============================] - 68s 404us/step - loss: 5.4146 - acc: 0.0132 - val_loss: 5.4175 - val_acc: 0.0152\n",
      "Epoch 12/50\n",
      "167777/167777 [==============================] - 70s 420us/step - loss: 5.4145 - acc: 0.0134 - val_loss: 5.4167 - val_acc: 0.0129\n",
      "Epoch 13/50\n",
      "167777/167777 [==============================] - 76s 451us/step - loss: 5.4144 - acc: 0.0132 - val_loss: 5.4165 - val_acc: 0.0135\n",
      "Epoch 14/50\n",
      "167777/167777 [==============================] - 70s 419us/step - loss: 5.4143 - acc: 0.0133 - val_loss: 5.4169 - val_acc: 0.0152\n",
      "Epoch 15/50\n",
      "167777/167777 [==============================] - 73s 437us/step - loss: 5.4142 - acc: 0.0134 - val_loss: 5.4160 - val_acc: 0.0129\n",
      "Epoch 16/50\n",
      "167777/167777 [==============================] - 74s 439us/step - loss: 5.4142 - acc: 0.0134 - val_loss: 5.4172 - val_acc: 0.0129\n",
      "Epoch 17/50\n",
      "167777/167777 [==============================] - 73s 436us/step - loss: 5.4142 - acc: 0.0131 - val_loss: 5.4165 - val_acc: 0.0152\n",
      "Epoch 18/50\n",
      " 64832/167777 [==========>...................] - ETA: 44s - loss: 5.4141 - acc: 0.0132"
     ]
    },
    {
     "ename": "KeyboardInterrupt",
     "evalue": "",
     "output_type": "error",
     "traceback": [
      "\u001b[1;31m---------------------------------------------------------------------------\u001b[0m",
      "\u001b[1;31mKeyboardInterrupt\u001b[0m                         Traceback (most recent call last)",
      "\u001b[1;32m<ipython-input-97-f8a369cddebd>\u001b[0m in \u001b[0;36m<module>\u001b[1;34m\u001b[0m\n\u001b[0;32m     10\u001b[0m                     \u001b[0mepochs\u001b[0m\u001b[1;33m=\u001b[0m\u001b[1;36m50\u001b[0m\u001b[1;33m,\u001b[0m\u001b[1;33m\u001b[0m\u001b[0m\n\u001b[0;32m     11\u001b[0m                     \u001b[0mvalidation_data\u001b[0m\u001b[1;33m=\u001b[0m\u001b[1;33m(\u001b[0m\u001b[0mx_val\u001b[0m\u001b[1;33m,\u001b[0m \u001b[0my_val\u001b[0m\u001b[1;33m)\u001b[0m\u001b[1;33m,\u001b[0m\u001b[1;33m\u001b[0m\u001b[0m\n\u001b[1;32m---> 12\u001b[1;33m                     verbose=1)\n\u001b[0m\u001b[0;32m     13\u001b[0m \u001b[0mmodel\u001b[0m\u001b[1;33m.\u001b[0m\u001b[0msummary\u001b[0m\u001b[1;33m(\u001b[0m\u001b[1;33m)\u001b[0m\u001b[1;33m\u001b[0m\u001b[0m\n",
      "\u001b[1;32mc:\\users\\algae\\appdata\\local\\programs\\python\\python36\\lib\\site-packages\\tensorflow\\python\\keras\\engine\\training.py\u001b[0m in \u001b[0;36mfit\u001b[1;34m(self, x, y, batch_size, epochs, verbose, callbacks, validation_split, validation_data, shuffle, class_weight, sample_weight, initial_epoch, steps_per_epoch, validation_steps, **kwargs)\u001b[0m\n\u001b[0;32m   1603\u001b[0m           \u001b[0minitial_epoch\u001b[0m\u001b[1;33m=\u001b[0m\u001b[0minitial_epoch\u001b[0m\u001b[1;33m,\u001b[0m\u001b[1;33m\u001b[0m\u001b[0m\n\u001b[0;32m   1604\u001b[0m           \u001b[0msteps_per_epoch\u001b[0m\u001b[1;33m=\u001b[0m\u001b[0msteps_per_epoch\u001b[0m\u001b[1;33m,\u001b[0m\u001b[1;33m\u001b[0m\u001b[0m\n\u001b[1;32m-> 1605\u001b[1;33m           validation_steps=validation_steps)\n\u001b[0m\u001b[0;32m   1606\u001b[0m \u001b[1;33m\u001b[0m\u001b[0m\n\u001b[0;32m   1607\u001b[0m   def evaluate(self,\n",
      "\u001b[1;32mc:\\users\\algae\\appdata\\local\\programs\\python\\python36\\lib\\site-packages\\tensorflow\\python\\keras\\engine\\training_arrays.py\u001b[0m in \u001b[0;36mfit_loop\u001b[1;34m(model, inputs, targets, sample_weights, batch_size, epochs, verbose, callbacks, val_inputs, val_targets, val_sample_weights, shuffle, initial_epoch, steps_per_epoch, validation_steps)\u001b[0m\n\u001b[0;32m    212\u001b[0m           \u001b[0mins_batch\u001b[0m\u001b[1;33m[\u001b[0m\u001b[0mi\u001b[0m\u001b[1;33m]\u001b[0m \u001b[1;33m=\u001b[0m \u001b[0mins_batch\u001b[0m\u001b[1;33m[\u001b[0m\u001b[0mi\u001b[0m\u001b[1;33m]\u001b[0m\u001b[1;33m.\u001b[0m\u001b[0mtoarray\u001b[0m\u001b[1;33m(\u001b[0m\u001b[1;33m)\u001b[0m\u001b[1;33m\u001b[0m\u001b[0m\n\u001b[0;32m    213\u001b[0m \u001b[1;33m\u001b[0m\u001b[0m\n\u001b[1;32m--> 214\u001b[1;33m         \u001b[0mouts\u001b[0m \u001b[1;33m=\u001b[0m \u001b[0mf\u001b[0m\u001b[1;33m(\u001b[0m\u001b[0mins_batch\u001b[0m\u001b[1;33m)\u001b[0m\u001b[1;33m\u001b[0m\u001b[0m\n\u001b[0m\u001b[0;32m    215\u001b[0m         \u001b[1;32mif\u001b[0m \u001b[1;32mnot\u001b[0m \u001b[0misinstance\u001b[0m\u001b[1;33m(\u001b[0m\u001b[0mouts\u001b[0m\u001b[1;33m,\u001b[0m \u001b[0mlist\u001b[0m\u001b[1;33m)\u001b[0m\u001b[1;33m:\u001b[0m\u001b[1;33m\u001b[0m\u001b[0m\n\u001b[0;32m    216\u001b[0m           \u001b[0mouts\u001b[0m \u001b[1;33m=\u001b[0m \u001b[1;33m[\u001b[0m\u001b[0mouts\u001b[0m\u001b[1;33m]\u001b[0m\u001b[1;33m\u001b[0m\u001b[0m\n",
      "\u001b[1;32mc:\\users\\algae\\appdata\\local\\programs\\python\\python36\\lib\\site-packages\\tensorflow\\python\\keras\\backend.py\u001b[0m in \u001b[0;36m__call__\u001b[1;34m(self, inputs)\u001b[0m\n\u001b[0;32m   2976\u001b[0m \u001b[1;33m\u001b[0m\u001b[0m\n\u001b[0;32m   2977\u001b[0m     fetched = self._callable_fn(*array_vals,\n\u001b[1;32m-> 2978\u001b[1;33m                                 run_metadata=self.run_metadata)\n\u001b[0m\u001b[0;32m   2979\u001b[0m     \u001b[0mself\u001b[0m\u001b[1;33m.\u001b[0m\u001b[0m_call_fetch_callbacks\u001b[0m\u001b[1;33m(\u001b[0m\u001b[0mfetched\u001b[0m\u001b[1;33m[\u001b[0m\u001b[1;33m-\u001b[0m\u001b[0mlen\u001b[0m\u001b[1;33m(\u001b[0m\u001b[0mself\u001b[0m\u001b[1;33m.\u001b[0m\u001b[0m_fetches\u001b[0m\u001b[1;33m)\u001b[0m\u001b[1;33m:\u001b[0m\u001b[1;33m]\u001b[0m\u001b[1;33m)\u001b[0m\u001b[1;33m\u001b[0m\u001b[0m\n\u001b[0;32m   2980\u001b[0m     \u001b[1;32mreturn\u001b[0m \u001b[0mfetched\u001b[0m\u001b[1;33m[\u001b[0m\u001b[1;33m:\u001b[0m\u001b[0mlen\u001b[0m\u001b[1;33m(\u001b[0m\u001b[0mself\u001b[0m\u001b[1;33m.\u001b[0m\u001b[0moutputs\u001b[0m\u001b[1;33m)\u001b[0m\u001b[1;33m]\u001b[0m\u001b[1;33m\u001b[0m\u001b[0m\n",
      "\u001b[1;32mc:\\users\\algae\\appdata\\local\\programs\\python\\python36\\lib\\site-packages\\tensorflow\\python\\client\\session.py\u001b[0m in \u001b[0;36m__call__\u001b[1;34m(self, *args, **kwargs)\u001b[0m\n\u001b[0;32m   1397\u001b[0m           ret = tf_session.TF_SessionRunCallable(\n\u001b[0;32m   1398\u001b[0m               \u001b[0mself\u001b[0m\u001b[1;33m.\u001b[0m\u001b[0m_session\u001b[0m\u001b[1;33m.\u001b[0m\u001b[0m_session\u001b[0m\u001b[1;33m,\u001b[0m \u001b[0mself\u001b[0m\u001b[1;33m.\u001b[0m\u001b[0m_handle\u001b[0m\u001b[1;33m,\u001b[0m \u001b[0margs\u001b[0m\u001b[1;33m,\u001b[0m \u001b[0mstatus\u001b[0m\u001b[1;33m,\u001b[0m\u001b[1;33m\u001b[0m\u001b[0m\n\u001b[1;32m-> 1399\u001b[1;33m               run_metadata_ptr)\n\u001b[0m\u001b[0;32m   1400\u001b[0m         \u001b[1;32mif\u001b[0m \u001b[0mrun_metadata\u001b[0m\u001b[1;33m:\u001b[0m\u001b[1;33m\u001b[0m\u001b[0m\n\u001b[0;32m   1401\u001b[0m           \u001b[0mproto_data\u001b[0m \u001b[1;33m=\u001b[0m \u001b[0mtf_session\u001b[0m\u001b[1;33m.\u001b[0m\u001b[0mTF_GetBuffer\u001b[0m\u001b[1;33m(\u001b[0m\u001b[0mrun_metadata_ptr\u001b[0m\u001b[1;33m)\u001b[0m\u001b[1;33m\u001b[0m\u001b[0m\n",
      "\u001b[1;31mKeyboardInterrupt\u001b[0m: "
     ]
    }
   ],
   "source": [
    "\n",
    "x_val = x_train[:10000]\n",
    "partial_x_train = x_train[10000:]\n",
    "\n",
    "y_val = y_train[:10000]\n",
    "partial_y_train = y_train[10000:]\n",
    "\n",
    "history = model.fit(partial_x_train,\n",
    "                    partial_y_train,\n",
    "                    epochs=50,\n",
    "                    validation_data=(x_val, y_val),\n",
    "                    verbose=1)\n",
    "model.summary()"
   ]
  },
  {
   "cell_type": "code",
   "execution_count": 92,
   "metadata": {},
   "outputs": [
    {
     "name": "stdout",
     "output_type": "stream",
     "text": [
      "177777/177777 [==============================] - 6s 36us/step\n",
      "[5.412768656816274, 0.013561934333462708]\n"
     ]
    }
   ],
   "source": [
    "results = model.evaluate(x_train, y_train)\n",
    "\n",
    "print(results)"
   ]
  },
  {
   "cell_type": "code",
   "execution_count": 93,
   "metadata": {},
   "outputs": [
    {
     "data": {
      "image/png": "[encoded data removed]",
      "text/plain": [
       "<Figure size 432x288 with 1 Axes>"
      ]
     },
     "metadata": {
      "needs_background": "light"
     },
     "output_type": "display_data"
    }
   ],
   "source": [
    "history_dict = history.history\n",
    "history_dict.keys()\n",
    "acc = history.history['acc']\n",
    "val_acc = history.history['val_acc']\n",
    "loss = history.history['loss']\n",
    "val_loss = history.history['val_loss']\n",
    "\n",
    "epochs = range(1, len(acc) + 1)\n",
    "\n",
    "# \"bo\" is for \"blue dot\"\n",
    "plt.plot(epochs, loss, 'bo', label='Training loss')\n",
    "# b is for \"solid blue line\"\n",
    "plt.plot(epochs, val_loss, 'b', label='Validation loss')\n",
    "plt.title('Training and validation loss')\n",
    "plt.xlabel('Epochs')\n",
    "plt.ylabel('Loss')\n",
    "plt.legend()\n",
    "\n",
    "plt.show()"
   ]
  },
  {
   "cell_type": "code",
   "execution_count": 94,
   "metadata": {},
   "outputs": [
    {
     "data": {
      "image/png": "[encoded data removed]",
      "text/plain": [
       "<Figure size 432x288 with 1 Axes>"
      ]
     },
     "metadata": {
      "needs_background": "light"
     },
     "output_type": "display_data"
    }
   ],
   "source": [
    "plt.clf()   # clear figure\n",
    "acc_values = history_dict['acc']\n",
    "val_acc_values = history_dict['val_acc']\n",
    "\n",
    "plt.plot(epochs, acc, 'bo', label='Training acc')\n",
    "plt.plot(epochs, val_acc, 'b', label='Validation acc')\n",
    "plt.title('Training and validation accuracy')\n",
    "plt.xlabel('Epochs')\n",
    "plt.ylabel('Accuracy')\n",
    "plt.legend()\n",
    "\n",
    "plt.show()"
   ]
  },
  {
   "cell_type": "code",
   "execution_count": 35,
   "metadata": {},
   "outputs": [
    {
     "name": "stdout",
     "output_type": "stream",
     "text": [
      "186\n"
     ]
    }
   ],
   "source": [
    "#print(np.argmax(predictions[0])) #why is 85 the max number"
   ]
  },
  {
   "cell_type": "code",
   "execution_count": null,
   "metadata": {},
   "outputs": [],
   "source": [
    "array_inspect(x_test)\n",
    "array_inspect(y_test)"
   ]
  },
  {
   "cell_type": "code",
   "execution_count": null,
   "metadata": {},
   "outputs": [],
   "source": []
  }
 ],
 "metadata": {
  "kernelspec": {
   "display_name": "Python 3",
   "language": "python",
   "name": "python3"
  },
  "language_info": {
   "codemirror_mode": {
    "name": "ipython",
    "version": 3
   },
   "file_extension": ".py",
   "mimetype": "text/x-python",
   "name": "python",
   "nbconvert_exporter": "python",
   "pygments_lexer": "ipython3",
   "version": "3.6.6"
  }
 },
 "nbformat": 4,
 "nbformat_minor": 2
}
