{
 "cells": [
  {
   "cell_type": "code",
   "execution_count": 1,
   "metadata": {},
   "outputs": [],
   "source": [
    "import numpy as np\n",
    "import csv\n",
    "import h5py\n",
    "import signal\n",
    "import fast5\n",
    "import fastq\n",
    "import re"
   ]
  },
  {
   "cell_type": "code",
   "execution_count": 2,
   "metadata": {},
   "outputs": [
    {
     "name": "stdout",
     "output_type": "stream",
     "text": [
      "[419.91370032 419.91370032 419.91370032 ... 433.38594925 433.38594925\n",
      " 433.38594925]\n"
     ]
    }
   ],
   "source": [
    "sig = []\n",
    "for x in range(10):\n",
    "    a = np.loadtxt(\"signal/signal_{}.txt\".format(x))\n",
    "    sig.append(a)\n",
    "\n",
    "print(sig[0])"
   ]
  },
  {
   "cell_type": "code",
   "execution_count": null,
   "metadata": {},
   "outputs": [],
   "source": []
  },
  {
   "cell_type": "code",
   "execution_count": 3,
   "metadata": {},
   "outputs": [
    {
     "name": "stdout",
     "output_type": "stream",
     "text": [
      "[[55928], [54603], [10170], [31658], [2827], [53456], [11781], [25008], [9430], [56072]]\n"
     ]
    }
   ],
   "source": [
    "a = []\n",
    "for x,y in enumerate(sig):\n",
    "    b=[np.array(sig[x]).size]\n",
    "       #, sig[x].ndim, sig[x].dtype)# gets the  number of resistances from each signal\n",
    "    a.append(b)\n",
    "print(a)\n",
    "        \n",
    "        "
   ]
  },
  {
   "cell_type": "code",
   "execution_count": 1,
   "metadata": {},
   "outputs": [
    {
     "ename": "SyntaxError",
     "evalue": "invalid syntax (<ipython-input-1-cc8b50cacd4b>, line 2)",
     "output_type": "error",
     "traceback": [
      "\u001b[1;36m  File \u001b[1;32m\"<ipython-input-1-cc8b50cacd4b>\"\u001b[1;36m, line \u001b[1;32m2\u001b[0m\n\u001b[1;33m    d = np.full((10,1),2)if d.any()>c.any():\u001b[0m\n\u001b[1;37m                                           ^\u001b[0m\n\u001b[1;31mSyntaxError\u001b[0m\u001b[1;31m:\u001b[0m invalid syntax\n"
     ]
    }
   ],
   "source": [
    "c = np.zeros((10,1))\n",
    "d = np.full((10,1),2)if d.any()>c.any():\n",
    "    #np.divide(b,d)\n",
    "    b=c\n",
    "    print(c)"
   ]
  },
  {
   "cell_type": "code",
   "execution_count": null,
   "metadata": {},
   "outputs": [],
   "source": [
    "f = open(\"fasta/sampled_read.fasta\",\"r\")\n",
    "a = f.read()\n",
    "b = (a.split(\">\", 11))\n",
    "base = [re.sub(\">|\\n|\\d\", \"\",str) for str in b]\n",
    "baseA = [re.sub(\"A\",\"0\",str) for str in base]\n",
    "baseT = [re.sub(\"T\",\"1\",str) for str in baseA]\n",
    "baseG = [re.sub(\"G\",\"2\",str) for str in baseT]\n",
    "base_coded = [re.sub(\"C\",\"3\",str) for str in baseG]\n",
    "print(base_coded)"
   ]
  },
  {
   "cell_type": "code",
   "execution_count": null,
   "metadata": {},
   "outputs": [],
   "source": [
    "base_array=(np.array(base_coded))\n",
    "#print(base_array[0:])\n",
    "print(base_array.shape)\n",
    "#for x,y in enumerate(base_array):\n",
    "#    print(np.array(base_array[x]).size)\n",
    "#    print(base_array[x].shape)\n",
    "#    print(base_array[x].dtype)\n",
    "  #  print(base_array[x])"
   ]
  },
  {
   "cell_type": "code",
   "execution_count": null,
   "metadata": {},
   "outputs": [],
   "source": [
    "#np.concatenate((sig,base_array), axis=0)"
   ]
  },
  {
   "cell_type": "code",
   "execution_count": null,
   "metadata": {},
   "outputs": [],
   "source": [
    "base_transpose = np.transpose(base_array) # you cant transpose a 1d arry into a 1d array\n",
    "base_transpose.T\n",
    "base_transpose.shape\n",
    "#for x in range(10):\n",
    "    #print(\"base_array\"(a))\n",
    " #   print(len(base_array[x]))\n",
    "    #print(\"base_transpose length is:\")\n",
    "  #  print(len(base_transpose[x]))"
   ]
  },
  {
   "cell_type": "code",
   "execution_count": null,
   "metadata": {},
   "outputs": [],
   "source": []
  },
  {
   "cell_type": "code",
   "execution_count": null,
   "metadata": {},
   "outputs": [],
   "source": [
    "#for x,y in enumerate(base):\n",
    "    #print(np.array(data[x]).shape)\n",
    "#    print(np.array(data[x]).size, data[x].ndim, data[x].dtype)# gets the  number of resistances from each signal"
   ]
  },
  {
   "cell_type": "code",
   "execution_count": null,
   "metadata": {},
   "outputs": [],
   "source": [
    "for x in range(10):\n",
    "    print (x)\n",
    "    a= \"signal_\"(x)\".txt\"\n",
    "    print(a)\n",
    "    #np.loadtxt(\"signal/signal_(x).txt\") #load the signal level data into the module"
   ]
  },
  {
   "cell_type": "code",
   "execution_count": null,
   "metadata": {},
   "outputs": [],
   "source": []
  },
  {
   "cell_type": "code",
   "execution_count": null,
   "metadata": {},
   "outputs": [],
   "source": []
  }
 ],
 "metadata": {
  "kernelspec": {
   "display_name": "Python 3",
   "language": "python",
   "name": "python3"
  },
  "language_info": {
   "codemirror_mode": {
    "name": "ipython",
    "version": 3
   },
   "file_extension": ".py",
   "mimetype": "text/x-python",
   "name": "python",
   "nbconvert_exporter": "python",
   "pygments_lexer": "ipython3",
   "version": "3.6.6"
  }
 },
 "nbformat": 4,
 "nbformat_minor": 2
}
