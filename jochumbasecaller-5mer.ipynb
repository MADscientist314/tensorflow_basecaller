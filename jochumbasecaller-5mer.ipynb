{
 "cells": [
  {
   "cell_type": "code",
   "execution_count": 1,
   "metadata": {},
   "outputs": [],
   "source": [
    "#import numpy as np\n",
    "#from numpy.random import rand\n",
    "#import csv\n",
    "#import h5py\n",
    "#import signal\n",
    "#import fast5\n",
    "#import fastq\n",
    "#import re\n",
    "#import matplotlib.pyplot as plt\n",
    "#import tensorflow as tf\n",
    "#from tensorflow import keras"
   ]
  },
  {
   "cell_type": "code",
   "execution_count": 2,
   "metadata": {},
   "outputs": [
    {
     "name": "stderr",
     "output_type": "stream",
     "text": [
      "Using TensorFlow backend.\n"
     ]
    }
   ],
   "source": [
    "import tensorflow as tf\n",
    "import keras\n",
    "import matplotlib.pyplot as plt\n",
    "import re\n",
    "import numpy as np\n",
    "import os"
   ]
  },
  {
   "cell_type": "code",
   "execution_count": 3,
   "metadata": {},
   "outputs": [
    {
     "name": "stdout",
     "output_type": "stream",
     "text": [
      "1.11.0\n"
     ]
    }
   ],
   "source": [
    "import tensorflow\n",
    "print(tensorflow.__version__)"
   ]
  },
  {
   "cell_type": "code",
   "execution_count": 4,
   "metadata": {},
   "outputs": [],
   "source": [
    "#import tensorflow as tf\n",
    "#with tf.device('/gpu:0'):\n",
    "#    a = tf.constant([1.0, 2.0, 3.0, 4.0, 5.0, 6.0], shape=[2, 3], name='a')\n",
    "#    b = tf.constant([1.0, 2.0, 3.0, 4.0, 5.0, 6.0], shape=[3, 2], name='b')\n",
    "#    c = tf.matmul(a, b)\n",
    "#with tf.Session() as sess:\n",
    "#   print (sess.run(c))"
   ]
  },
  {
   "cell_type": "code",
   "execution_count": 5,
   "metadata": {},
   "outputs": [],
   "source": [
    "\"\"\"\n",
    "this function divides the length of whatever \n",
    "size the list is by 4 for a 4mer\n",
    "\"\"\"\n",
    "def BaseFunction(x,y): \n",
    "    return((len(x)//y),y)"
   ]
  },
  {
   "cell_type": "code",
   "execution_count": 6,
   "metadata": {},
   "outputs": [],
   "source": [
    "\"\"\"\n",
    "this function divides the length of whatever \n",
    "size the list is by 40 for a 40mer\n",
    "\"\"\"\n",
    "def SigFunction(x,y): \n",
    "    return((y),((x//y)))"
   ]
  },
  {
   "cell_type": "code",
   "execution_count": 7,
   "metadata": {},
   "outputs": [],
   "source": [
    "\"\"\"\n",
    "this function provides information about the array    \n",
    "\"\"\"\n",
    "def array_inspect(x):\n",
    "    print (\"Shape is\",(x.shape))\n",
    "    print((\"Length is\",len(x)))\n",
    "    print((\"Dimension is\",x.ndim))\n",
    "    print((\"Total Size is\",x.size))\n",
    "    print((\"Type is\",x.dtype))\n",
    "    print((\"Type Name is\",x.dtype.name))"
   ]
  },
  {
   "cell_type": "code",
   "execution_count": 8,
   "metadata": {},
   "outputs": [],
   "source": [
    "\"\"\"\n",
    "this function normalizes the raw signal resistances\n",
    "from each read by dividing by the mean(or std?)\n",
    "\"\"\"\n",
    "def normalize(x,y):\n",
    "    z=np.divide(x,y)\n",
    "    #np.savetxt(\"NormalizedSigArray_{}.csv\".format(),(z), delimiter=\",\")\n",
    "    return z"
   ]
  },
  {
   "cell_type": "code",
   "execution_count": 9,
   "metadata": {},
   "outputs": [
    {
     "data": {
      "image/png": "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\n",
      "text/plain": [
       "<Figure size 432x288 with 1 Axes>"
      ]
     },
     "metadata": {
      "needs_background": "light"
     },
     "output_type": "display_data"
    }
   ],
   "source": [
    "\"\"\"\n",
    "This cell does the following\n",
    "    1)Imports the bases\n",
    "    2)trims off the new lines and digits\n",
    "    3)converts them to a list\n",
    "    4)converts them to a code of 0123 instead of ATCG\n",
    "\"\"\"\n",
    "f = open(\"fasta/processed_read.fasta\",\"r\") #opens the file with the reads\n",
    "a = f.read()\n",
    "b = (a.split(\">\"))\n",
    "base = [re.sub(\">|\\n|\\d\", \"\",str) for str in b]\n",
    "baseA0 = [re.sub(\"A\",\"0\",str) for str in base]\n",
    "baseT1 = [re.sub(\"T\",\"1\",str) for str in baseA0]\n",
    "baseG2 = [re.sub(\"C\",\"2\",str) for str in baseT1]\n",
    "base_coded = [re.sub(\"G\",\"3\",str) for str in baseG2] \n",
    "A0=(a.count(\"A\")) \n",
    "T1=(a.count(\"T\"))\n",
    "G2=(a.count(\"G\"))\n",
    "C3=(a.count(\"C\"))\n",
    "names = ['A', 'T', 'G', 'C']\n",
    "values = [(A0), (T1), (G2), (C3)]\n",
    "plt.subplot()\n",
    "plt.bar(names, values)\n",
    "plt.suptitle('Nucleotides in all reads')\n",
    "plt.show()"
   ]
  },
  {
   "cell_type": "code",
   "execution_count": 42,
   "metadata": {},
   "outputs": [],
   "source": [
    "\"\"\"\n",
    "The purpose of this code is the following\n",
    "1)Convert the coded reads to integer form \n",
    "2)Create an array inside the array with each read as a row\n",
    "3)Create a 2D matric with the counts of all the possible scenarios \n",
    "presented in each row and the reads in each column\n",
    "4)Create a 1D array with the readlengths\n",
    "\"\"\"\n",
    "kmer=[]\n",
    "kmercount=[]\n",
    "reads=[]\n",
    "#readstring={}\n",
    "readslength=[]\n",
    "res=(len(base_coded))   \n",
    "for x in range(res):\n",
    "    l=list(int (i) for i in base_coded[x])\n",
    "    for y in range(1):\n",
    "        i=(l.count(y), l.count(y+1), l.count(y+2), l.count(y+3))\n",
    "        kmercount.append(i)\n",
    "        n=np.transpose(kmercount) # creates a 2D matrix with the bases counts as rows(ATGC) and the reads by columns\n",
    "        kmer = n.view() #Create a view of the array with the same data\n",
    "    d=np.asarray(l)\n",
    "    d.resize((BaseFunction(d,6))) #Enter the list and the desired kmer for the function\n",
    "    v=(str(d))\n",
    "    reads.append(d) # store the reads in an array called reads\n",
    "    c=len(d)\n",
    "    readslength.append(c) #store the amt of kmer reads in readlength="
   ]
  },
  {
   "cell_type": "code",
   "execution_count": 43,
   "metadata": {},
   "outputs": [
    {
     "data": {
      "image/png": "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\n",
      "text/plain": [
       "<Figure size 432x288 with 1 Axes>"
      ]
     },
     "metadata": {
      "needs_background": "light"
     },
     "output_type": "display_data"
    }
   ],
   "source": [
    "\"\"\"\n",
    "The purpose of this code is the following\n",
    "1) visualize the readlengths\n",
    "\"\"\"\n",
    "plt.ioff()\n",
    "for i in range(1):\n",
    "    plt.title(\"Readlengths\")\n",
    "    plt.ylabel('number of bases')\n",
    "    plt.xlabel('read id')\n",
    "    plt.plot(kmer[i])\n",
    "    plt.xticks(np.arange(0, 2))\n",
    "    plt.show()"
   ]
  },
  {
   "cell_type": "code",
   "execution_count": 89,
   "metadata": {},
   "outputs": [
    {
     "name": "stdout",
     "output_type": "stream",
     "text": [
      "resist 310933\n"
     ]
    },
    {
     "ename": "NameError",
     "evalue": "name 'p' is not defined",
     "output_type": "error",
     "traceback": [
      "\u001b[1;31m---------------------------------------------------------------------------\u001b[0m",
      "\u001b[1;31mNameError\u001b[0m                                 Traceback (most recent call last)",
      "\u001b[1;32m<ipython-input-89-8bafefff83f9>\u001b[0m in \u001b[0;36m<module>\u001b[1;34m\u001b[0m\n\u001b[0;32m     14\u001b[0m     \u001b[0mc\u001b[0m\u001b[1;33m=\u001b[0m\u001b[0mb\u001b[0m\u001b[1;33m.\u001b[0m\u001b[0msize\u001b[0m \u001b[1;31m#obtains the number of resistance signals per read\u001b[0m\u001b[1;33m\u001b[0m\u001b[0m\n\u001b[0;32m     15\u001b[0m     \u001b[0mprint\u001b[0m\u001b[1;33m(\u001b[0m\u001b[1;34m\"resist\"\u001b[0m\u001b[1;33m,\u001b[0m\u001b[0mc\u001b[0m\u001b[1;33m)\u001b[0m\u001b[1;33m\u001b[0m\u001b[0m\n\u001b[1;32m---> 16\u001b[1;33m     \u001b[0mp\u001b[0m\u001b[1;33m=\u001b[0m\u001b[1;33m(\u001b[0m\u001b[1;34m\"unique events\"\u001b[0m\u001b[1;33m,\u001b[0m\u001b[0mp\u001b[0m\u001b[1;33m.\u001b[0m\u001b[0munique\u001b[0m\u001b[1;33m(\u001b[0m\u001b[0mc\u001b[0m\u001b[1;33m)\u001b[0m\u001b[1;33m)\u001b[0m\u001b[1;33m\u001b[0m\u001b[0m\n\u001b[0m\u001b[0;32m     17\u001b[0m     \u001b[0md\u001b[0m\u001b[1;33m=\u001b[0m\u001b[0mreadslength\u001b[0m\u001b[1;33m[\u001b[0m\u001b[0mx\u001b[0m\u001b[1;33m]\u001b[0m \u001b[1;31m#obtains the kmers count per read\u001b[0m\u001b[1;33m\u001b[0m\u001b[0m\n\u001b[0;32m     18\u001b[0m     \u001b[0mprint\u001b[0m\u001b[1;33m(\u001b[0m\u001b[1;34m\"kmer\"\u001b[0m\u001b[1;33m,\u001b[0m\u001b[0md\u001b[0m\u001b[1;33m)\u001b[0m\u001b[1;33m\u001b[0m\u001b[0m\n",
      "\u001b[1;31mNameError\u001b[0m: name 'p' is not defined"
     ]
    }
   ],
   "source": [
    "\"\"\"\n",
    "The cell does the following:\n",
    "    1) Import the signal level data\n",
    "    2) Normalize it to the mean fof the signal\n",
    "    3) Appends the signal data from each read into a row of an array given the read count\n",
    "\"\"\"\n",
    "means = [] \n",
    "std = []\n",
    "sig = []\n",
    "for x in range(2):\n",
    "    a=np.loadtxt(\"signal2/signal_{}.txt\".format(x)) # load the signal\n",
    "    m=a.mean() #obtain the average signal from the read\n",
    "    b=normalize(m,a) # divide each resistance by the average to normalize \n",
    "    c=b.size #obtains the number of resistance signals per read\n",
    "    print(\"resist\",c)\n",
    "    p=(\"unique events\",p.unique(c))\n",
    "    d=readslength[x] #obtains the kmers count per read\n",
    "    print(\"kmer\",d)\n",
    "    e=SigFunction(c,d) #figures out the average amount of resistances per kmer\n",
    "    #print(\"Signal\",x,\"2D array size={}\".format(e))\n",
    "    b.resize(e) # Insert the (#bases,#sig) changes the signal level n signals wide\n",
    "    sig.append(b)"
   ]
  },
  {
   "cell_type": "code",
<<<<<<< HEAD
<<<<<<< HEAD
   "execution_count": 85,
   "metadata": {},
   "outputs": [
    {
     "name": "stdout",
     "output_type": "stream",
     "text": [
      "118518\n"
     ]
    },
    {
     "ename": "TypeError",
     "evalue": "only integer scalar arrays can be converted to a scalar index",
     "output_type": "error",
     "traceback": [
      "\u001b[1;31m---------------------------------------------------------------------------\u001b[0m",
      "\u001b[1;31mTypeError\u001b[0m                                 Traceback (most recent call last)",
      "\u001b[1;32m<ipython-input-85-52985667b961>\u001b[0m in \u001b[0;36m<module>\u001b[1;34m\u001b[0m\n\u001b[0;32m      1\u001b[0m \u001b[0mprint\u001b[0m\u001b[1;33m(\u001b[0m\u001b[0mlen\u001b[0m\u001b[1;33m(\u001b[0m\u001b[0mreads\u001b[0m\u001b[1;33m[\u001b[0m\u001b[1;36m1\u001b[0m\u001b[1;33m]\u001b[0m\u001b[1;33m)\u001b[0m\u001b[1;33m)\u001b[0m\u001b[1;33m\u001b[0m\u001b[0m\n\u001b[1;32m----> 2\u001b[1;33m \u001b[0mprint\u001b[0m\u001b[1;33m(\u001b[0m\u001b[0mlen\u001b[0m\u001b[1;33m(\u001b[0m\u001b[0msig\u001b[0m\u001b[1;33m[\u001b[0m\u001b[0mb\u001b[0m\u001b[1;33m]\u001b[0m\u001b[1;33m)\u001b[0m\u001b[1;33m)\u001b[0m\u001b[1;33m\u001b[0m\u001b[0m\n\u001b[0m\u001b[0;32m      3\u001b[0m \u001b[0mprint\u001b[0m\u001b[1;33m(\u001b[0m\u001b[0msig\u001b[0m\u001b[1;33m[\u001b[0m\u001b[1;36m0\u001b[0m\u001b[1;33m]\u001b[0m\u001b[1;33m[\u001b[0m\u001b[1;36m0\u001b[0m\u001b[1;33m:\u001b[0m\u001b[1;36m10\u001b[0m\u001b[1;33m]\u001b[0m\u001b[1;33m)\u001b[0m\u001b[1;33m\u001b[0m\u001b[0m\n",
      "\u001b[1;31mTypeError\u001b[0m: only integer scalar arrays can be converted to a scalar index"
     ]
    }
   ],
   "source": [
    "print(len(reads[1]))\n",
    "print(len(sig[1]))\n",
    "print(sig[0][0:10])"
   ]
  },
  {
   "cell_type": "code",
   "execution_count": 81,
   "metadata": {},
   "outputs": [
    {
     "data": {
      "image/png": "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\n",
      "text/plain": [
       "<Figure size 432x288 with 1 Axes>"
      ]
     },
     "metadata": {
      "needs_background": "light"
     },
     "output_type": "display_data"
    }
   ],
   "source": [
    "\"\"\"\n",
    "The purpose of this code is the following\n",
    "1) visualize the readlengths\n",
    "\"\"\"\n",
    "plt.ioff()\n",
    "plt.title(\"signal level data\")\n",
    "plt.ylabel('voltage')\n",
    "plt.xlabel('signal')\n",
    "plt.plot(sig[0][0:60])\n",
    "#    plt.xticks(np.arange())\n",
    "plt.show()"
   ]
  },
  {
   "cell_type": "code",
   "execution_count": 13,
   "metadata": {},
   "outputs": [
    {
     "data": {
      "text/plain": [
       "'build a dictionary of all the possible combinations\\n1) \\n'"
      ]
     },
     "execution_count": 13,
     "metadata": {},
     "output_type": "execute_result"
    }
   ],
   "source": [
    "\"\"\"build a dictionary of all the possible combinations\n",
    "1) \n",
    "\"\"\"\n"
   ]
  },
  {
   "cell_type": "code",
   "execution_count": null,
   "metadata": {},
   "outputs": [],
   "source": []
  },
  {
   "cell_type": "code",
   "execution_count": 14,
=======
=======
>>>>>>> 9adda54a0a9a3f330bb9692c3716bc6a3776d9ea
   "execution_count": null,
   "metadata": {},
   "outputs": [],
   "source": [
    "digits = \"0123456789ABCDEFGHIJKLMNOPQRSTUVWXYZ\"\n",
    "\n",
    "def int2str(x, base):\n",
    "    if x < 0:\n",
    "        return \"-\" + int2str(-x, base)\n",
    "    return (\"\" if x < base else int2str(x//base, base)) + digits[x % base]\n",
    "\n",
    "dict = {}\n",
    "\n",
    "for i in range(4 ** 6):\n",
    "    dict[int2str(i,4).zfill(6)] = i"
   ]
  },
  {
   "cell_type": "code",
   "execution_count": 12,
>>>>>>> 9adda54a0a9a3f330bb9692c3716bc6a3776d9ea
   "metadata": {},
   "outputs": [],
   "source": [
    "\"\"\"\n",
    "The goal for this cell is to convert the reads to string\n",
    "index the unique outputs for the 4mers\n",
    "and create a new list of the indexed [1:256 or whatever]\n",
    "reads for the model\n",
    "\"\"\"\n",
    "\n",
    "\n",
    "arr2=[] # In this code I converted the reads to a concated string of a 4mer\n",
    "converted=[]\n",
    "converted2=[]\n",
    "for i, v in enumerate(reads[1]): #Read 0 is the training data\n",
    "    temp = ''\n",
    "    for w in v:\n",
    "        temp = temp + str(w)\n",
    "    arr2.append(temp)\n",
    "    \n",
    "for v in arr2:\n",
    "    converted2.append(dict[v])\n",
    "    \n",
    "a=np.unique(arr2) # makes an array of every unique combo in the read for downstream indexing\n",
    "# for x in arr2:\n",
    "#     #print(x)\n",
    "#     b=enumerate(a)\n",
    "#     c=[(i) for i, j in b if a[i]==(x)]\n",
    "#     converted.append(c)\n",
    "# for i, v in enumerate(converted): #Read 0 is the training data\n",
    "#     temp = ''\n",
    "#     #print(v)\n",
    "#     for w in v:\n",
    "#         #print(w)\n",
    "#         temp = temp + str(w)\n",
    "#     converted2.append(temp)\n",
    "y_train=np.int16(converted2)"
   ]
  },
  {
   "cell_type": "code",
   "execution_count": 15,
   "metadata": {},
   "outputs": [
    {
     "name": "stdout",
     "output_type": "stream",
     "text": [
      "16\n"
     ]
    }
   ],
   "source": [
    "print(a.size)"
   ]
  },
  {
   "cell_type": "code",
   "execution_count": 16,
   "metadata": {},
   "outputs": [
    {
     "name": "stdout",
     "output_type": "stream",
     "text": [
      "16\n"
     ]
    }
   ],
   "source": [
    "\"\"\"\n",
    "I just copied the same code for the testing set read(1)\n",
    "\"\"\"\n",
    "arr2=[] # In this code I converted the reads to a concated string of a 4mer\n",
    "converted=[]\n",
    "converted2=[]\n",
    "for i, v in enumerate(reads[0]): #Read 0 is the training data\n",
    "    temp = ''\n",
    "    for w in v:\n",
    "        temp = temp + str(w)\n",
    "    arr2.append(temp)\n",
    "a=np.unique(arr2)# makes an array of every unique combo in the read for downstream indexing\n",
    "for x in arr2:\n",
    "    #print(x)\n",
    "    b=enumerate(a)\n",
    "    c=[(i) for i, j in b if a[i]==(x)]\n",
    "    converted.append(c)\n",
    "for i, v in enumerate(converted): #Read 0 is the training data\n",
    "    temp = ''\n",
    "    for w in v:\n",
    "        temp = temp + str(w)\n",
    "    converted2.append(temp)\n",
    "n=np.unique(converted2)\n",
    "print((n.size))\n",
    "y_test=np.int16(converted2)"
   ]
  },
  {
   "cell_type": "code",
   "execution_count": 17,
   "metadata": {},
   "outputs": [
    {
     "name": "stdout",
     "output_type": "stream",
     "text": [
      "Shape is (355555, 13)\n",
      "('Length is', 355555)\n",
      "('Dimension is', 2)\n",
      "('Total Size is', 4622215)\n",
      "('Type is', dtype('float64'))\n",
      "('Type Name is', 'float64')\n"
     ]
    }
   ],
   "source": [
    "x_train = sig[1]\n",
    "x_test = sig[0]\n",
    "array_inspect(x_train)\n",
    "(i,j) = x_train.shape"
   ]
  },
  {
   "cell_type": "markdown",
   "metadata": {},
   "source": []
  },
  {
   "cell_type": "code",
<<<<<<< HEAD
<<<<<<< HEAD
   "execution_count": 18,
=======
   "execution_count": 16,
>>>>>>> 9adda54a0a9a3f330bb9692c3716bc6a3776d9ea
=======
   "execution_count": 16,
>>>>>>> 9adda54a0a9a3f330bb9692c3716bc6a3776d9ea
   "metadata": {},
   "outputs": [],
   "source": [
    "checkpoint_path = \"training_3/cp.ckpt\"\n",
    "checkpoint_dir = os.path.dirname(checkpoint_path)\n",
    "\n",
    "# Create checkpoint callback\n",
    "cp_callback = tf.keras.callbacks.ModelCheckpoint(checkpoint_path, \n",
    "                                                 save_weights_only=True,\n",
    "                                                 save_best_only=True,\n",
    "                                                 verbose=100)\n",
    "\n",
    "\n",
    "model=tf.keras.models.Sequential()\n",
    "model.add(tf.keras.layers.Dense(128, activation=tf.nn.relu)) # uses 128 neurons and is a feed forward rectilinear relu\n",
    "model.add(tf.keras.layers.Dense(256, activation=tf.nn.relu))\n",
    "model.add(tf.keras.layers.Dense(512, activation=tf.nn.relu))\n",
    "model.add(tf.keras.layers.Dense(1024, activation=tf.nn.relu)) # do the same thig for hidden layer 2\n",
    "model.add(tf.keras.layers.Dense(2048, activation=tf.nn.relu)) # do the same thig for hidden layer 2\n",
    "model.add(tf.keras.layers.Dense(16, activation=tf.nn.softmax)) # output layer with number of classifications (256) use softmax for output distribution\n"
   ]
  },
  {
   "cell_type": "code",
<<<<<<< HEAD
<<<<<<< HEAD
   "execution_count": 19,
=======
   "execution_count": 17,
>>>>>>> 9adda54a0a9a3f330bb9692c3716bc6a3776d9ea
=======
   "execution_count": 17,
>>>>>>> 9adda54a0a9a3f330bb9692c3716bc6a3776d9ea
   "metadata": {},
   "outputs": [],
   "source": [
    "model.compile(optimizer='adam',\n",
    "              loss='sparse_categorical_crossentropy',\n",
    "              metrics=['accuracy'])\n"
   ]
  },
  {
   "cell_type": "code",
   "execution_count": 21,
   "metadata": {},
   "outputs": [
    {
     "name": "stdout",
     "output_type": "stream",
     "text": [
<<<<<<< HEAD
      "Train on 355555 samples, validate on 10000 samples\n",
      "Epoch 1/10\n",
      "354816/355555 [============================>.] - ETA: 0s - loss: 2.7358 - acc: 0.1075\n",
      "Epoch 00001: val_loss improved from inf to 2.74173, saving model to training_3/cp.ckpt\n",
      "WARNING:tensorflow:This model was compiled with a Keras optimizer (<tensorflow.python.keras.optimizers.Adam object at 0x0000024DA35A3B00>) but is being saved in TensorFlow format with `save_weights`. The model's weights will be saved, but unlike with TensorFlow optimizers in the TensorFlow format the optimizer's state will not be saved.\n",
      "\n",
      "Consider using a TensorFlow optimizer from `tf.train`.\n",
      "355555/355555 [==============================] - 10s 29us/step - loss: 2.7359 - acc: 0.1075 - val_loss: 2.7417 - val_acc: 0.1045\n",
      "Epoch 2/10\n",
      "354816/355555 [============================>.] - ETA: 0s - loss: 2.7357 - acc: 0.1075\n",
      "Epoch 00002: val_loss did not improve from 2.74173\n",
      "355555/355555 [==============================] - 10s 29us/step - loss: 2.7357 - acc: 0.1075 - val_loss: 2.7428 - val_acc: 0.1045\n",
      "Epoch 3/10\n",
      "354816/355555 [============================>.] - ETA: 0s - loss: 2.7356 - acc: 0.1075\n",
      "Epoch 00003: val_loss improved from 2.74173 to 2.74172, saving model to training_3/cp.ckpt\n",
      "WARNING:tensorflow:This model was compiled with a Keras optimizer (<tensorflow.python.keras.optimizers.Adam object at 0x0000024DA35A3B00>) but is being saved in TensorFlow format with `save_weights`. The model's weights will be saved, but unlike with TensorFlow optimizers in the TensorFlow format the optimizer's state will not be saved.\n",
      "\n",
      "Consider using a TensorFlow optimizer from `tf.train`.\n",
      "355555/355555 [==============================] - 10s 29us/step - loss: 2.7356 - acc: 0.1075 - val_loss: 2.7417 - val_acc: 0.1045\n",
      "Epoch 4/10\n",
      "354816/355555 [============================>.] - ETA: 0s - loss: 2.7356 - acc: 0.1075\n",
      "Epoch 00004: val_loss did not improve from 2.74172\n",
      "355555/355555 [==============================] - 10s 29us/step - loss: 2.7356 - acc: 0.1075 - val_loss: 2.7422 - val_acc: 0.1045\n",
      "Epoch 5/10\n",
      "354816/355555 [============================>.] - ETA: 0s - loss: 2.7355 - acc: 0.1075\n",
      "Epoch 00005: val_loss did not improve from 2.74172\n",
      "355555/355555 [==============================] - 10s 29us/step - loss: 2.7355 - acc: 0.1075 - val_loss: 2.7423 - val_acc: 0.1045\n",
      "Epoch 6/10\n",
      "354816/355555 [============================>.] - ETA: 0s - loss: 2.7356 - acc: 0.1075\n",
      "Epoch 00006: val_loss did not improve from 2.74172\n",
      "355555/355555 [==============================] - 10s 29us/step - loss: 2.7356 - acc: 0.1075 - val_loss: 2.7434 - val_acc: 0.1045\n",
      "Epoch 7/10\n",
      "354816/355555 [============================>.] - ETA: 0s - loss: 2.7356 - acc: 0.1075\n",
      "Epoch 00007: val_loss did not improve from 2.74172\n",
      "355555/355555 [==============================] - 10s 29us/step - loss: 2.7355 - acc: 0.1075 - val_loss: 2.7422 - val_acc: 0.1045\n",
      "Epoch 8/10\n",
      "354816/355555 [============================>.] - ETA: 0s - loss: 2.7356 - acc: 0.1075\n",
      "Epoch 00008: val_loss did not improve from 2.74172\n",
      "355555/355555 [==============================] - 10s 29us/step - loss: 2.7356 - acc: 0.1075 - val_loss: 2.7426 - val_acc: 0.1045\n",
      "Epoch 9/10\n",
      "354816/355555 [============================>.] - ETA: 0s - loss: 2.7355 - acc: 0.1075- ETA:  - ETA: 0s - loss: 2.7353 - acc: 0.10\n",
      "Epoch 00009: val_loss did not improve from 2.74172\n",
      "355555/355555 [==============================] - 10s 29us/step - loss: 2.7355 - acc: 0.1075 - val_loss: 2.7420 - val_acc: 0.1045\n",
      "Epoch 10/10\n",
      "354816/355555 [============================>.] - ETA: 0s - loss: 2.7355 - acc: 0.1075\n",
      "Epoch 00010: val_loss did not improve from 2.74172\n",
      "355555/355555 [==============================] - 10s 29us/step - loss: 2.7355 - acc: 0.1075 - val_loss: 2.7422 - val_acc: 0.1045\n",
      "_________________________________________________________________\n",
      "Layer (type)                 Output Shape              Param #   \n",
      "=================================================================\n",
      "dense (Dense)                multiple                  1792      \n",
      "_________________________________________________________________\n",
      "dense_1 (Dense)              multiple                  33024     \n",
      "_________________________________________________________________\n",
      "dense_2 (Dense)              multiple                  131584    \n",
      "_________________________________________________________________\n",
      "dense_3 (Dense)              multiple                  525312    \n",
      "_________________________________________________________________\n",
      "dense_4 (Dense)              multiple                  2099200   \n",
      "_________________________________________________________________\n",
      "dense_5 (Dense)              multiple                  32784     \n",
      "=================================================================\n",
      "Total params: 2,823,696\n",
      "Trainable params: 2,823,696\n",
      "Non-trainable params: 0\n",
      "_________________________________________________________________\n"
=======
      "Train on 118518 samples, validate on 10000 samples\n",
      "Epoch 1/1000\n",
      "114688/118518 [============================>.] - ETA: 0s - loss: 8.1390 - acc: 0.0015\n",
      "Epoch 00001: saving model to training_2/cp.ckpt\n",
      "WARNING:tensorflow:This model was compiled with a Keras optimizer (<tensorflow.python.keras.optimizers.Adam object at 0x000001CDDBE5C4E0>) but is being saved in TensorFlow format with `save_weights`. The model's weights will be saved, but unlike with TensorFlow optimizers in the TensorFlow format the optimizer's state will not be saved.\n",
      "\n",
      "Consider using a TensorFlow optimizer from `tf.train`.\n",
      "118518/118518 [==============================] - 6s 47us/step - loss: 8.1372 - acc: 0.0015 - val_loss: 8.0295 - val_acc: 0.0022\n",
      "Epoch 2/1000\n",
      "114688/118518 [============================>.] - ETA: 0s - loss: 8.0683 - acc: 0.0017\n",
      "Epoch 00002: saving model to training_2/cp.ckpt\n",
      "WARNING:tensorflow:This model was compiled with a Keras optimizer (<tensorflow.python.keras.optimizers.Adam object at 0x000001CDDBE5C4E0>) but is being saved in TensorFlow format with `save_weights`. The model's weights will be saved, but unlike with TensorFlow optimizers in the TensorFlow format the optimizer's state will not be saved.\n",
      "\n",
      "Consider using a TensorFlow optimizer from `tf.train`.\n",
      "118518/118518 [==============================] - 2s 18us/step - loss: 8.0679 - acc: 0.0017 - val_loss: 8.0181 - val_acc: 0.0024\n",
      "Epoch 3/1000\n",
      "114688/118518 [============================>.] - ETA: 0s - loss: 8.0617 - acc: 0.0018\n",
      "Epoch 00003: saving model to training_2/cp.ckpt\n",
      "WARNING:tensorflow:This model was compiled with a Keras optimizer (<tensorflow.python.keras.optimizers.Adam object at 0x000001CDDBE5C4E0>) but is being saved in TensorFlow format with `save_weights`. The model's weights will be saved, but unlike with TensorFlow optimizers in the TensorFlow format the optimizer's state will not be saved.\n",
      "\n",
      "Consider using a TensorFlow optimizer from `tf.train`.\n",
      "118518/118518 [==============================] - 2s 18us/step - loss: 8.0619 - acc: 0.0018 - val_loss: 8.0178 - val_acc: 0.0025\n",
      "Epoch 4/1000\n",
      "114688/118518 [============================>.] - ETA: 0s - loss: 8.0591 - acc: 0.0017\n",
      "Epoch 00004: saving model to training_2/cp.ckpt\n",
      "WARNING:tensorflow:This model was compiled with a Keras optimizer (<tensorflow.python.keras.optimizers.Adam object at 0x000001CDDBE5C4E0>) but is being saved in TensorFlow format with `save_weights`. The model's weights will be saved, but unlike with TensorFlow optimizers in the TensorFlow format the optimizer's state will not be saved.\n",
      "\n",
      "Consider using a TensorFlow optimizer from `tf.train`.\n",
      "118518/118518 [==============================] - 2s 18us/step - loss: 8.0596 - acc: 0.0018 - val_loss: 8.0201 - val_acc: 0.0025\n",
      "Epoch 5/1000\n",
      "114688/118518 [============================>.] - ETA: 0s - loss: 8.0587 - acc: 0.0016\n",
      "Epoch 00005: saving model to training_2/cp.ckpt\n",
      "WARNING:tensorflow:This model was compiled with a Keras optimizer (<tensorflow.python.keras.optimizers.Adam object at 0x000001CDDBE5C4E0>) but is being saved in TensorFlow format with `save_weights`. The model's weights will be saved, but unlike with TensorFlow optimizers in the TensorFlow format the optimizer's state will not be saved.\n",
      "\n",
      "Consider using a TensorFlow optimizer from `tf.train`.\n",
      "118518/118518 [==============================] - 2s 18us/step - loss: 8.0585 - acc: 0.0016 - val_loss: 8.0193 - val_acc: 0.0025\n",
      "Epoch 6/1000\n",
      "114688/118518 [============================>.] - ETA: 0s - loss: 8.0564 - acc: 0.0019\n",
      "Epoch 00006: saving model to training_2/cp.ckpt\n",
      "WARNING:tensorflow:This model was compiled with a Keras optimizer (<tensorflow.python.keras.optimizers.Adam object at 0x000001CDDBE5C4E0>) but is being saved in TensorFlow format with `save_weights`. The model's weights will be saved, but unlike with TensorFlow optimizers in the TensorFlow format the optimizer's state will not be saved.\n",
      "\n",
      "Consider using a TensorFlow optimizer from `tf.train`.\n",
      "118518/118518 [==============================] - 2s 18us/step - loss: 8.0569 - acc: 0.0019 - val_loss: 8.0157 - val_acc: 0.0024\n",
      "Epoch 7/1000\n",
      "114688/118518 [============================>.] - ETA: 0s - loss: 8.0544 - acc: 0.0018\n",
      "Epoch 00007: saving model to training_2/cp.ckpt\n",
      "WARNING:tensorflow:This model was compiled with a Keras optimizer (<tensorflow.python.keras.optimizers.Adam object at 0x000001CDDBE5C4E0>) but is being saved in TensorFlow format with `save_weights`. The model's weights will be saved, but unlike with TensorFlow optimizers in the TensorFlow format the optimizer's state will not be saved.\n",
      "\n",
      "Consider using a TensorFlow optimizer from `tf.train`.\n",
      "118518/118518 [==============================] - 2s 18us/step - loss: 8.0549 - acc: 0.0018 - val_loss: 8.0175 - val_acc: 0.0024\n",
      "Epoch 8/1000\n",
      "114688/118518 [============================>.] - ETA: 0s - loss: 8.0528 - acc: 0.0018\n",
      "Epoch 00008: saving model to training_2/cp.ckpt\n",
      "WARNING:tensorflow:This model was compiled with a Keras optimizer (<tensorflow.python.keras.optimizers.Adam object at 0x000001CDDBE5C4E0>) but is being saved in TensorFlow format with `save_weights`. The model's weights will be saved, but unlike with TensorFlow optimizers in the TensorFlow format the optimizer's state will not be saved.\n",
      "\n",
      "Consider using a TensorFlow optimizer from `tf.train`.\n",
      "118518/118518 [==============================] - 2s 18us/step - loss: 8.0539 - acc: 0.0018 - val_loss: 8.0170 - val_acc: 0.0022\n",
      "Epoch 9/1000\n",
      "114688/118518 [============================>.] - ETA: 0s - loss: 8.0509 - acc: 0.0020\n",
      "Epoch 00009: saving model to training_2/cp.ckpt\n",
      "WARNING:tensorflow:This model was compiled with a Keras optimizer (<tensorflow.python.keras.optimizers.Adam object at 0x000001CDDBE5C4E0>) but is being saved in TensorFlow format with `save_weights`. The model's weights will be saved, but unlike with TensorFlow optimizers in the TensorFlow format the optimizer's state will not be saved.\n",
      "\n",
      "Consider using a TensorFlow optimizer from `tf.train`.\n",
      "118518/118518 [==============================] - 2s 18us/step - loss: 8.0513 - acc: 0.0020 - val_loss: 8.0108 - val_acc: 0.0023\n",
      "Epoch 10/1000\n",
      "114688/118518 [============================>.] - ETA: 0s - loss: 8.0448 - acc: 0.0021\n",
      "Epoch 00010: saving model to training_2/cp.ckpt\n",
      "WARNING:tensorflow:This model was compiled with a Keras optimizer (<tensorflow.python.keras.optimizers.Adam object at 0x000001CDDBE5C4E0>) but is being saved in TensorFlow format with `save_weights`. The model's weights will be saved, but unlike with TensorFlow optimizers in the TensorFlow format the optimizer's state will not be saved.\n",
      "\n",
      "Consider using a TensorFlow optimizer from `tf.train`.\n",
      "118518/118518 [==============================] - 2s 18us/step - loss: 8.0460 - acc: 0.0021 - val_loss: 8.0086 - val_acc: 0.0023\n",
      "Epoch 11/1000\n",
      "114688/118518 [============================>.] - ETA: 0s - loss: 8.0388 - acc: 0.0021\n",
      "Epoch 00011: saving model to training_2/cp.ckpt\n",
      "WARNING:tensorflow:This model was compiled with a Keras optimizer (<tensorflow.python.keras.optimizers.Adam object at 0x000001CDDBE5C4E0>) but is being saved in TensorFlow format with `save_weights`. The model's weights will be saved, but unlike with TensorFlow optimizers in the TensorFlow format the optimizer's state will not be saved.\n",
      "\n",
      "Consider using a TensorFlow optimizer from `tf.train`.\n",
      "118518/118518 [==============================] - 2s 18us/step - loss: 8.0391 - acc: 0.0021 - val_loss: 7.9958 - val_acc: 0.0020\n",
      "Epoch 12/1000\n",
      "114688/118518 [============================>.] - ETA: 0s - loss: 8.0321 - acc: 0.0019\n",
      "Epoch 00012: saving model to training_2/cp.ckpt\n",
      "WARNING:tensorflow:This model was compiled with a Keras optimizer (<tensorflow.python.keras.optimizers.Adam object at 0x000001CDDBE5C4E0>) but is being saved in TensorFlow format with `save_weights`. The model's weights will be saved, but unlike with TensorFlow optimizers in the TensorFlow format the optimizer's state will not be saved.\n",
      "\n",
      "Consider using a TensorFlow optimizer from `tf.train`.\n",
      "118518/118518 [==============================] - 2s 18us/step - loss: 8.0330 - acc: 0.0019 - val_loss: 7.9927 - val_acc: 0.0022\n",
      "Epoch 13/1000\n"
     ]
    },
    {
     "name": "stdout",
     "output_type": "stream",
     "text": [
      "114688/118518 [============================>.] - ETA: 0s - loss: 8.0235 - acc: 0.0018\n",
      "Epoch 00013: saving model to training_2/cp.ckpt\n",
      "WARNING:tensorflow:This model was compiled with a Keras optimizer (<tensorflow.python.keras.optimizers.Adam object at 0x000001CDDBE5C4E0>) but is being saved in TensorFlow format with `save_weights`. The model's weights will be saved, but unlike with TensorFlow optimizers in the TensorFlow format the optimizer's state will not be saved.\n",
      "\n",
      "Consider using a TensorFlow optimizer from `tf.train`.\n",
      "118518/118518 [==============================] - 2s 18us/step - loss: 8.0241 - acc: 0.0018 - val_loss: 7.9814 - val_acc: 0.0018\n",
      "Epoch 14/1000\n",
      "114688/118518 [============================>.] - ETA: 0s - loss: 8.0101 - acc: 0.0020\n",
      "Epoch 00014: saving model to training_2/cp.ckpt\n",
      "WARNING:tensorflow:This model was compiled with a Keras optimizer (<tensorflow.python.keras.optimizers.Adam object at 0x000001CDDBE5C4E0>) but is being saved in TensorFlow format with `save_weights`. The model's weights will be saved, but unlike with TensorFlow optimizers in the TensorFlow format the optimizer's state will not be saved.\n",
      "\n",
      "Consider using a TensorFlow optimizer from `tf.train`.\n",
      "118518/118518 [==============================] - 2s 18us/step - loss: 8.0108 - acc: 0.0019 - val_loss: 7.9565 - val_acc: 0.0023\n",
      "Epoch 15/1000\n",
      "114688/118518 [============================>.] - ETA: 0s - loss: 7.9947 - acc: 0.0020\n",
      "Epoch 00015: saving model to training_2/cp.ckpt\n",
      "WARNING:tensorflow:This model was compiled with a Keras optimizer (<tensorflow.python.keras.optimizers.Adam object at 0x000001CDDBE5C4E0>) but is being saved in TensorFlow format with `save_weights`. The model's weights will be saved, but unlike with TensorFlow optimizers in the TensorFlow format the optimizer's state will not be saved.\n",
      "\n",
      "Consider using a TensorFlow optimizer from `tf.train`.\n",
      "118518/118518 [==============================] - 2s 18us/step - loss: 7.9952 - acc: 0.0020 - val_loss: 7.9387 - val_acc: 0.0025\n",
      "Epoch 16/1000\n",
      "114688/118518 [============================>.] - ETA: 0s - loss: 7.9727 - acc: 0.0020\n",
      "Epoch 00016: saving model to training_2/cp.ckpt\n",
      "WARNING:tensorflow:This model was compiled with a Keras optimizer (<tensorflow.python.keras.optimizers.Adam object at 0x000001CDDBE5C4E0>) but is being saved in TensorFlow format with `save_weights`. The model's weights will be saved, but unlike with TensorFlow optimizers in the TensorFlow format the optimizer's state will not be saved.\n",
      "\n",
      "Consider using a TensorFlow optimizer from `tf.train`.\n",
      "118518/118518 [==============================] - 2s 18us/step - loss: 7.9736 - acc: 0.0020 - val_loss: 7.9047 - val_acc: 0.0024\n",
      "Epoch 17/1000\n",
      "114688/118518 [============================>.] - ETA: 0s - loss: 7.9532 - acc: 0.0021\n",
      "Epoch 00017: saving model to training_2/cp.ckpt\n",
      "WARNING:tensorflow:This model was compiled with a Keras optimizer (<tensorflow.python.keras.optimizers.Adam object at 0x000001CDDBE5C4E0>) but is being saved in TensorFlow format with `save_weights`. The model's weights will be saved, but unlike with TensorFlow optimizers in the TensorFlow format the optimizer's state will not be saved.\n",
      "\n",
      "Consider using a TensorFlow optimizer from `tf.train`.\n",
      "118518/118518 [==============================] - 2s 18us/step - loss: 7.9532 - acc: 0.0021 - val_loss: 7.8802 - val_acc: 0.0027\n",
      "Epoch 18/1000\n",
      "114688/118518 [============================>.] - ETA: 0s - loss: 7.9229 - acc: 0.0020\n",
      "Epoch 00018: saving model to training_2/cp.ckpt\n",
      "WARNING:tensorflow:This model was compiled with a Keras optimizer (<tensorflow.python.keras.optimizers.Adam object at 0x000001CDDBE5C4E0>) but is being saved in TensorFlow format with `save_weights`. The model's weights will be saved, but unlike with TensorFlow optimizers in the TensorFlow format the optimizer's state will not be saved.\n",
      "\n",
      "Consider using a TensorFlow optimizer from `tf.train`.\n",
      "118518/118518 [==============================] - 2s 18us/step - loss: 7.9248 - acc: 0.0020 - val_loss: 7.8420 - val_acc: 0.0027\n",
      "Epoch 19/1000\n",
      "114688/118518 [============================>.] - ETA: 0s - loss: 7.8876 - acc: 0.0022\n",
      "Epoch 00019: saving model to training_2/cp.ckpt\n",
      "WARNING:tensorflow:This model was compiled with a Keras optimizer (<tensorflow.python.keras.optimizers.Adam object at 0x000001CDDBE5C4E0>) but is being saved in TensorFlow format with `save_weights`. The model's weights will be saved, but unlike with TensorFlow optimizers in the TensorFlow format the optimizer's state will not be saved.\n",
      "\n",
      "Consider using a TensorFlow optimizer from `tf.train`.\n",
      "118518/118518 [==============================] - 2s 18us/step - loss: 7.8885 - acc: 0.0023 - val_loss: 7.8097 - val_acc: 0.0032\n",
      "Epoch 20/1000\n",
      "114688/118518 [============================>.] - ETA: 0s - loss: 7.8512 - acc: 0.0024\n",
      "Epoch 00020: saving model to training_2/cp.ckpt\n",
      "WARNING:tensorflow:This model was compiled with a Keras optimizer (<tensorflow.python.keras.optimizers.Adam object at 0x000001CDDBE5C4E0>) but is being saved in TensorFlow format with `save_weights`. The model's weights will be saved, but unlike with TensorFlow optimizers in the TensorFlow format the optimizer's state will not be saved.\n",
      "\n",
      "Consider using a TensorFlow optimizer from `tf.train`.\n",
      "118518/118518 [==============================] - 2s 18us/step - loss: 7.8538 - acc: 0.0024 - val_loss: 7.7575 - val_acc: 0.0032\n",
      "Epoch 21/1000\n",
      "114688/118518 [============================>.] - ETA: 0s - loss: 7.8146 - acc: 0.0024\n",
      "Epoch 00021: saving model to training_2/cp.ckpt\n",
      "WARNING:tensorflow:This model was compiled with a Keras optimizer (<tensorflow.python.keras.optimizers.Adam object at 0x000001CDDBE5C4E0>) but is being saved in TensorFlow format with `save_weights`. The model's weights will be saved, but unlike with TensorFlow optimizers in the TensorFlow format the optimizer's state will not be saved.\n",
      "\n",
      "Consider using a TensorFlow optimizer from `tf.train`.\n",
      "118518/118518 [==============================] - 2s 18us/step - loss: 7.8164 - acc: 0.0023 - val_loss: 7.7037 - val_acc: 0.0032\n",
      "Epoch 22/1000\n",
      "114688/118518 [============================>.] - ETA: 0s - loss: 7.7661 - acc: 0.0025\n",
      "Epoch 00022: saving model to training_2/cp.ckpt\n",
      "WARNING:tensorflow:This model was compiled with a Keras optimizer (<tensorflow.python.keras.optimizers.Adam object at 0x000001CDDBE5C4E0>) but is being saved in TensorFlow format with `save_weights`. The model's weights will be saved, but unlike with TensorFlow optimizers in the TensorFlow format the optimizer's state will not be saved.\n",
      "\n",
      "Consider using a TensorFlow optimizer from `tf.train`.\n",
      "118518/118518 [==============================] - 2s 18us/step - loss: 7.7678 - acc: 0.0025 - val_loss: 7.6406 - val_acc: 0.0035\n",
      "Epoch 23/1000\n",
      "114688/118518 [============================>.] - ETA: 0s - loss: 7.7116 - acc: 0.0026\n",
      "Epoch 00023: saving model to training_2/cp.ckpt\n",
      "WARNING:tensorflow:This model was compiled with a Keras optimizer (<tensorflow.python.keras.optimizers.Adam object at 0x000001CDDBE5C4E0>) but is being saved in TensorFlow format with `save_weights`. The model's weights will be saved, but unlike with TensorFlow optimizers in the TensorFlow format the optimizer's state will not be saved.\n",
      "\n",
      "Consider using a TensorFlow optimizer from `tf.train`.\n",
      "118518/118518 [==============================] - 2s 18us/step - loss: 7.7144 - acc: 0.0026 - val_loss: 7.5858 - val_acc: 0.0039\n",
      "Epoch 24/1000\n",
      "114688/118518 [============================>.] - ETA: 0s - loss: 7.6600 - acc: 0.0027\n",
      "Epoch 00024: saving model to training_2/cp.ckpt\n",
      "WARNING:tensorflow:This model was compiled with a Keras optimizer (<tensorflow.python.keras.optimizers.Adam object at 0x000001CDDBE5C4E0>) but is being saved in TensorFlow format with `save_weights`. The model's weights will be saved, but unlike with TensorFlow optimizers in the TensorFlow format the optimizer's state will not be saved.\n",
      "\n",
      "Consider using a TensorFlow optimizer from `tf.train`.\n",
      "118518/118518 [==============================] - 2s 18us/step - loss: 7.6628 - acc: 0.0027 - val_loss: 7.5410 - val_acc: 0.0037\n",
      "Epoch 25/1000\n",
      "114688/118518 [============================>.] - ETA: 0s - loss: 7.6170 - acc: 0.0028\n",
      "Epoch 00025: saving model to training_2/cp.ckpt\n",
      "WARNING:tensorflow:This model was compiled with a Keras optimizer (<tensorflow.python.keras.optimizers.Adam object at 0x000001CDDBE5C4E0>) but is being saved in TensorFlow format with `save_weights`. The model's weights will be saved, but unlike with TensorFlow optimizers in the TensorFlow format the optimizer's state will not be saved.\n",
      "\n",
      "Consider using a TensorFlow optimizer from `tf.train`.\n"
     ]
    },
    {
     "name": "stdout",
     "output_type": "stream",
     "text": [
      "118518/118518 [==============================] - 2s 18us/step - loss: 7.6188 - acc: 0.0028 - val_loss: 7.4517 - val_acc: 0.0033\n",
      "Epoch 26/1000\n",
      "114688/118518 [============================>.] - ETA: 0s - loss: 7.5550 - acc: 0.0028\n",
      "Epoch 00026: saving model to training_2/cp.ckpt\n",
      "WARNING:tensorflow:This model was compiled with a Keras optimizer (<tensorflow.python.keras.optimizers.Adam object at 0x000001CDDBE5C4E0>) but is being saved in TensorFlow format with `save_weights`. The model's weights will be saved, but unlike with TensorFlow optimizers in the TensorFlow format the optimizer's state will not be saved.\n",
      "\n",
      "Consider using a TensorFlow optimizer from `tf.train`.\n",
      "118518/118518 [==============================] - 2s 18us/step - loss: 7.5577 - acc: 0.0028 - val_loss: 7.3927 - val_acc: 0.0044\n",
      "Epoch 27/1000\n",
      "114688/118518 [============================>.] - ETA: 0s - loss: 7.4900 - acc: 0.0033\n",
      "Epoch 00027: saving model to training_2/cp.ckpt\n",
      "WARNING:tensorflow:This model was compiled with a Keras optimizer (<tensorflow.python.keras.optimizers.Adam object at 0x000001CDDBE5C4E0>) but is being saved in TensorFlow format with `save_weights`. The model's weights will be saved, but unlike with TensorFlow optimizers in the TensorFlow format the optimizer's state will not be saved.\n",
      "\n",
      "Consider using a TensorFlow optimizer from `tf.train`.\n",
      "118518/118518 [==============================] - 2s 18us/step - loss: 7.4941 - acc: 0.0033 - val_loss: 7.3111 - val_acc: 0.0047\n",
      "Epoch 28/1000\n",
      "114688/118518 [============================>.] - ETA: 0s - loss: 7.4218 - acc: 0.0034\n",
      "Epoch 00028: saving model to training_2/cp.ckpt\n",
      "WARNING:tensorflow:This model was compiled with a Keras optimizer (<tensorflow.python.keras.optimizers.Adam object at 0x000001CDDBE5C4E0>) but is being saved in TensorFlow format with `save_weights`. The model's weights will be saved, but unlike with TensorFlow optimizers in the TensorFlow format the optimizer's state will not be saved.\n",
      "\n",
      "Consider using a TensorFlow optimizer from `tf.train`.\n",
      "118518/118518 [==============================] - 2s 18us/step - loss: 7.4265 - acc: 0.0034 - val_loss: 7.2499 - val_acc: 0.0063\n",
      "Epoch 29/1000\n",
      "114688/118518 [============================>.] - ETA: 0s - loss: 7.3709 - acc: 0.0033\n",
      "Epoch 00029: saving model to training_2/cp.ckpt\n",
      "WARNING:tensorflow:This model was compiled with a Keras optimizer (<tensorflow.python.keras.optimizers.Adam object at 0x000001CDDBE5C4E0>) but is being saved in TensorFlow format with `save_weights`. The model's weights will be saved, but unlike with TensorFlow optimizers in the TensorFlow format the optimizer's state will not be saved.\n",
      "\n",
      "Consider using a TensorFlow optimizer from `tf.train`.\n",
      "118518/118518 [==============================] - 2s 18us/step - loss: 7.3743 - acc: 0.0033 - val_loss: 7.1745 - val_acc: 0.0067\n",
      "Epoch 30/1000\n",
      "114688/118518 [============================>.] - ETA: 0s - loss: 7.3166 - acc: 0.0034\n",
      "Epoch 00030: saving model to training_2/cp.ckpt\n",
      "WARNING:tensorflow:This model was compiled with a Keras optimizer (<tensorflow.python.keras.optimizers.Adam object at 0x000001CDDBE5C4E0>) but is being saved in TensorFlow format with `save_weights`. The model's weights will be saved, but unlike with TensorFlow optimizers in the TensorFlow format the optimizer's state will not be saved.\n",
      "\n",
      "Consider using a TensorFlow optimizer from `tf.train`.\n",
      "118518/118518 [==============================] - 2s 18us/step - loss: 7.3211 - acc: 0.0034 - val_loss: 7.1113 - val_acc: 0.0077\n",
      "Epoch 31/1000\n",
      "114688/118518 [============================>.] - ETA: 0s - loss: 7.2389 - acc: 0.0038\n",
      "Epoch 00031: saving model to training_2/cp.ckpt\n",
      "WARNING:tensorflow:This model was compiled with a Keras optimizer (<tensorflow.python.keras.optimizers.Adam object at 0x000001CDDBE5C4E0>) but is being saved in TensorFlow format with `save_weights`. The model's weights will be saved, but unlike with TensorFlow optimizers in the TensorFlow format the optimizer's state will not be saved.\n",
      "\n",
      "Consider using a TensorFlow optimizer from `tf.train`.\n",
      "118518/118518 [==============================] - 2s 18us/step - loss: 7.2439 - acc: 0.0037 - val_loss: 7.0440 - val_acc: 0.0087\n",
      "Epoch 32/1000\n",
      "114688/118518 [============================>.] - ETA: 0s - loss: 7.1764 - acc: 0.0040\n",
      "Epoch 00032: saving model to training_2/cp.ckpt\n",
      "WARNING:tensorflow:This model was compiled with a Keras optimizer (<tensorflow.python.keras.optimizers.Adam object at 0x000001CDDBE5C4E0>) but is being saved in TensorFlow format with `save_weights`. The model's weights will be saved, but unlike with TensorFlow optimizers in the TensorFlow format the optimizer's state will not be saved.\n",
      "\n",
      "Consider using a TensorFlow optimizer from `tf.train`.\n",
      "118518/118518 [==============================] - 2s 18us/step - loss: 7.1810 - acc: 0.0039 - val_loss: 6.9521 - val_acc: 0.0092\n",
      "Epoch 33/1000\n",
      "114688/118518 [============================>.] - ETA: 0s - loss: 7.1094 - acc: 0.0038\n",
      "Epoch 00033: saving model to training_2/cp.ckpt\n",
      "WARNING:tensorflow:This model was compiled with a Keras optimizer (<tensorflow.python.keras.optimizers.Adam object at 0x000001CDDBE5C4E0>) but is being saved in TensorFlow format with `save_weights`. The model's weights will be saved, but unlike with TensorFlow optimizers in the TensorFlow format the optimizer's state will not be saved.\n",
      "\n",
      "Consider using a TensorFlow optimizer from `tf.train`.\n",
      "118518/118518 [==============================] - 2s 18us/step - loss: 7.1151 - acc: 0.0038 - val_loss: 6.8912 - val_acc: 0.0102\n",
      "Epoch 34/1000\n",
      "114688/118518 [============================>.] - ETA: 0s - loss: 7.0474 - acc: 0.0043- ETA: 0s - loss: 7.0054 - acc:\n",
      "Epoch 00034: saving model to training_2/cp.ckpt\n",
      "WARNING:tensorflow:This model was compiled with a Keras optimizer (<tensorflow.python.keras.optimizers.Adam object at 0x000001CDDBE5C4E0>) but is being saved in TensorFlow format with `save_weights`. The model's weights will be saved, but unlike with TensorFlow optimizers in the TensorFlow format the optimizer's state will not be saved.\n",
      "\n",
      "Consider using a TensorFlow optimizer from `tf.train`.\n",
      "118518/118518 [==============================] - 2s 18us/step - loss: 7.0526 - acc: 0.0042 - val_loss: 6.8027 - val_acc: 0.0120\n",
      "Epoch 35/1000\n",
      "114688/118518 [============================>.] - ETA: 0s - loss: 6.9807 - acc: 0.0044\n",
      "Epoch 00035: saving model to training_2/cp.ckpt\n",
      "WARNING:tensorflow:This model was compiled with a Keras optimizer (<tensorflow.python.keras.optimizers.Adam object at 0x000001CDDBE5C4E0>) but is being saved in TensorFlow format with `save_weights`. The model's weights will be saved, but unlike with TensorFlow optimizers in the TensorFlow format the optimizer's state will not be saved.\n",
      "\n",
      "Consider using a TensorFlow optimizer from `tf.train`.\n",
      "118518/118518 [==============================] - 2s 18us/step - loss: 6.9860 - acc: 0.0044 - val_loss: 6.7286 - val_acc: 0.0123\n",
      "Epoch 36/1000\n",
      "114688/118518 [============================>.] - ETA: 0s - loss: 6.9369 - acc: 0.0048\n",
      "Epoch 00036: saving model to training_2/cp.ckpt\n",
      "WARNING:tensorflow:This model was compiled with a Keras optimizer (<tensorflow.python.keras.optimizers.Adam object at 0x000001CDDBE5C4E0>) but is being saved in TensorFlow format with `save_weights`. The model's weights will be saved, but unlike with TensorFlow optimizers in the TensorFlow format the optimizer's state will not be saved.\n",
      "\n",
      "Consider using a TensorFlow optimizer from `tf.train`.\n",
      "118518/118518 [==============================] - 2s 18us/step - loss: 6.9425 - acc: 0.0047 - val_loss: 6.6998 - val_acc: 0.0131\n",
      "Epoch 37/1000\n",
      "  8192/118518 [=>............................] - ETA: 1s - loss: 6.6918 - acc: 0.0123"
<<<<<<< HEAD
>>>>>>> 9adda54a0a9a3f330bb9692c3716bc6a3776d9ea
=======
>>>>>>> 9adda54a0a9a3f330bb9692c3716bc6a3776d9ea
     ]
    }
   ],
   "source": [
    "\n",
    "x_val = x_train[:10000]\n",
    "partial_x_train = x_train\n",
    "\n",
    "y_val = y_train[:10000]\n",
    "partial_y_train = y_train\n",
    "\n",
    "history = model.fit(partial_x_train,\n",
    "                    partial_y_train,\n",
    "                    epochs=10,\n",
    "                    validation_data=(x_val, y_val),\n",
    "                    batch_size=512,\n",
    "                    verbose=1,\n",
    "                    callbacks = [cp_callback])\n",
    "model.summary()"
   ]
  },
  {
   "cell_type": "code",
   "execution_count": null,
   "metadata": {},
   "outputs": [],
   "source": [
    "results = model.evaluate(x_train, y_train)\n",
    "\n",
    "print(results)"
   ]
  },
  {
   "cell_type": "code",
   "execution_count": null,
   "metadata": {},
   "outputs": [],
   "source": [
    "history_dict = history.history\n",
    "history_dict.keys()\n",
    "acc = history.history['acc']\n",
    "val_acc = history.history['val_acc']\n",
    "loss = history.history['loss']\n",
    "val_loss = history.history['val_loss']\n",
    "\n",
    "epochs = range(1, len(acc) + 1)\n",
    "\n",
    "# \"bo\" is for \"blue dot\"\n",
    "plt.plot(epochs, loss, 'bo', label='Training loss')\n",
    "# b is for \"solid blue line\"\n",
    "plt.plot(epochs, val_loss, 'b', label='Validation loss')\n",
    "plt.title('Training and validation loss')\n",
    "plt.xlabel('Epochs')\n",
    "plt.ylabel('Loss')\n",
    "plt.legend()\n",
    "\n",
    "plt.show()"
   ]
  },
  {
   "cell_type": "code",
   "execution_count": null,
   "metadata": {},
   "outputs": [],
   "source": [
    "plt.clf()   # clear figure\n",
    "acc_values = history_dict['acc']\n",
    "val_acc_values = history_dict['val_acc']\n",
    "\n",
    "plt.plot(epochs, acc, 'bo', label='Training acc')\n",
    "plt.plot(epochs, val_acc, 'b', label='Validation acc')\n",
    "plt.title('Training and validation accuracy')\n",
    "plt.xlabel('Epochs')\n",
    "plt.ylabel('Accuracy')\n",
    "plt.legend()\n",
    "\n",
    "plt.show()"
   ]
  },
  {
   "cell_type": "code",
   "execution_count": null,
   "metadata": {},
   "outputs": [],
   "source": [
    "#print(np.argmax(predictions[0])) #why is 85 the max number"
   ]
  },
  {
   "cell_type": "code",
   "execution_count": null,
   "metadata": {},
   "outputs": [],
   "source": [
    "array_inspect(x_test)\n",
    "array_inspect(y_test)"
   ]
  },
  {
   "cell_type": "code",
   "execution_count": null,
   "metadata": {},
   "outputs": [],
   "source": []
  }
 ],
 "metadata": {
  "kernelspec": {
   "display_name": "Python 3",
   "language": "python",
   "name": "python3"
  },
  "language_info": {
   "codemirror_mode": {
    "name": "ipython",
    "version": 3
   },
   "file_extension": ".py",
   "mimetype": "text/x-python",
   "name": "python",
   "nbconvert_exporter": "python",
   "pygments_lexer": "ipython3",
   "version": "3.6.2"
  }
 },
 "nbformat": 4,
 "nbformat_minor": 2
}
