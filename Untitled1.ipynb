{
 "cells": [
  {
   "cell_type": "code",
   "execution_count": 2,
   "metadata": {},
   "outputs": [],
   "source": [
    "digits = \"0123456789ABCDEFGHIJKLMNOPQRSTUVWXYZ\"\n",
    "\n",
    "def int2str(x, base):\n",
    "    if x < 0:\n",
    "        return \"-\" + int2str(-x, base)\n",
    "    return (\"\" if x < base else int2str(x//base, base)) + digits[x % base]"
   ]
  },
  {
   "cell_type": "code",
   "execution_count": 10,
   "metadata": {},
   "outputs": [],
   "source": [
    "dict = {}\n",
    "\n",
    "for i in range(64):\n",
    "    dict[int2str(i,4).zfill(4)] = i"
   ]
  },
  {
   "cell_type": "code",
   "execution_count": 11,
   "metadata": {},
   "outputs": [
    {
     "name": "stdout",
     "output_type": "stream",
     "text": [
      "{'0000': 0, '0001': 1, '0002': 2, '0003': 3, '0010': 4, '0011': 5, '0012': 6, '0013': 7, '0020': 8, '0021': 9, '0022': 10, '0023': 11, '0030': 12, '0031': 13, '0032': 14, '0033': 15, '0100': 16, '0101': 17, '0102': 18, '0103': 19, '0110': 20, '0111': 21, '0112': 22, '0113': 23, '0120': 24, '0121': 25, '0122': 26, '0123': 27, '0130': 28, '0131': 29, '0132': 30, '0133': 31, '0200': 32, '0201': 33, '0202': 34, '0203': 35, '0210': 36, '0211': 37, '0212': 38, '0213': 39, '0220': 40, '0221': 41, '0222': 42, '0223': 43, '0230': 44, '0231': 45, '0232': 46, '0233': 47, '0300': 48, '0301': 49, '0302': 50, '0303': 51, '0310': 52, '0311': 53, '0312': 54, '0313': 55, '0320': 56, '0321': 57, '0322': 58, '0323': 59, '0330': 60, '0331': 61, '0332': 62, '0333': 63}\n"
     ]
    }
   ],
   "source": [
    "print(dict)"
   ]
  },
  {
   "cell_type": "code",
   "execution_count": null,
   "metadata": {},
   "outputs": [],
   "source": []
  }
 ],
 "metadata": {
  "kernelspec": {
   "display_name": "Python 3",
   "language": "python",
   "name": "python3"
  },
  "language_info": {
   "codemirror_mode": {
    "name": "ipython",
    "version": 3
   },
   "file_extension": ".py",
   "mimetype": "text/x-python",
   "name": "python",
   "nbconvert_exporter": "python",
   "pygments_lexer": "ipython3",
   "version": "3.6.2"
  }
 },
 "nbformat": 4,
 "nbformat_minor": 2
}
