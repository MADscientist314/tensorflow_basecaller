{
 "cells": [
  {
   "cell_type": "code",
   "execution_count": 1,
   "metadata": {},
   "outputs": [],
   "source": [
    "import numpy as np\n",
    "from numpy.random import rand\n",
    "import csv\n",
    "import h5py\n",
    "import signal\n",
    "import fast5\n",
    "import fastq\n",
    "import re\n",
    "import matplotlib.pyplot as plt\n",
    "import tensorflow as tf\n",
    "from tensorflow import keras"
   ]
  },
  {
   "cell_type": "code",
   "execution_count": 2,
   "metadata": {},
   "outputs": [
    {
     "name": "stdout",
     "output_type": "stream",
     "text": [
      "[[22. 28.]\n",
      " [49. 64.]]\n"
     ]
    }
   ],
   "source": [
    "\"\"\"\n",
    "checks to see if gpu is working\n",
    "\"\"\"\n",
    "# Creates a graph.\n",
    "a = tf.constant([1.0, 2.0, 3.0, 4.0, 5.0, 6.0], shape=[2, 3], name='a')\n",
    "b = tf.constant([1.0, 2.0, 3.0, 4.0, 5.0, 6.0], shape=[3, 2], name='b')\n",
    "c = tf.matmul(a, b)\n",
    "# Creates a session with log_device_placement set to True.\n",
    "sess = tf.Session(config=tf.ConfigProto(log_device_placement=True))\n",
    "# Runs the op.\n",
    "print(sess.run(c)) "
   ]
  },
  {
   "cell_type": "code",
   "execution_count": 3,
   "metadata": {},
   "outputs": [],
   "source": [
    "\"\"\"\n",
    "this function divides the length of whatever \n",
    "size the list is by 4 for a 4mer\n",
    "\"\"\"\n",
    "def BaseFunction(x,y): \n",
    "    return((len(x)//y),y)"
   ]
  },
  {
   "cell_type": "code",
   "execution_count": 4,
   "metadata": {},
   "outputs": [],
   "source": [
    "\"\"\"\n",
    "this function divides the length of whatever \n",
    "size the list is by 40 for a 40mer\n",
    "\"\"\"\n",
    "def SigFunction(x,y): \n",
    "    return((y),((x//y)))"
   ]
  },
  {
   "cell_type": "code",
   "execution_count": 5,
   "metadata": {},
   "outputs": [],
   "source": [
    "\"\"\"\n",
    "this function provides information about the array    \n",
    "\"\"\"\n",
    "def array_inspect(x):\n",
    "    print (\"Shape is\",(x.shape))\n",
    "    print((\"Length is\",len(x)))\n",
    "    print((\"Dimension is\",x.ndim))\n",
    "    print((\"Total Size is\",x.size))\n",
    "    print((\"Type is\",x.dtype))\n",
    "    print((\"Type Name is\",x.dtype.name))\n",
    "    #print((\"Mean is\",(x).mean))"
   ]
  },
  {
   "cell_type": "code",
   "execution_count": 6,
   "metadata": {},
   "outputs": [],
   "source": [
    "\"\"\"\n",
    "this function normalizes the raw signal resistances\n",
    "from each read by dividing by the mean(or std?)\n",
    "\"\"\"\n",
    "def normalize(x,y):\n",
    "    z=np.divide(x,y)\n",
    "    #np.savetxt(\"NormalizedSigArray_{}.csv\".format(),(z), delimiter=\",\")\n",
    "    return z"
   ]
  },
  {
   "cell_type": "code",
   "execution_count": 7,
   "metadata": {},
   "outputs": [],
   "source": [
    "def divider(x,y):\n",
    "    a=np.divide(x,y)\n",
    "    return a"
   ]
  },
  {
   "cell_type": "code",
   "execution_count": null,
   "metadata": {},
   "outputs": [],
   "source": []
  },
  {
   "cell_type": "code",
   "execution_count": 8,
   "metadata": {},
   "outputs": [
    {
     "data": {
      "image/png": "[encoded data removed]",
      "text/plain": [
       "<Figure size 432x288 with 1 Axes>"
      ]
     },
     "metadata": {
      "needs_background": "light"
     },
     "output_type": "display_data"
    }
   ],
   "source": [
    "\"\"\"\n",
    "This cell does the following\n",
    "    1)Imports the bases\n",
    "    2)trims off the new lines and digits\n",
    "    3)converts them to a list\n",
    "    4)converts them to a code of 0123 instead of ATCG\n",
    "\"\"\"\n",
    "f = open(\"fasta/sampled_read.fasta\",\"r\") #opens the file with the reads\n",
    "a = f.read()\n",
    "b = (a.split(\">\", 11))\n",
    "base = [re.sub(\">|\\n|\\d\", \"\",str) for str in b]\n",
    "baseA0 = [re.sub(\"A\",\"0\",str) for str in base]\n",
    "baseT1 = [re.sub(\"T\",\"1\",str) for str in baseA0]\n",
    "baseG2 = [re.sub(\"C\",\"2\",str) for str in baseT1]\n",
    "base_coded = [re.sub(\"G\",\"3\",str) for str in baseG2] \n",
    "A0=(a.count(\"A\")) \n",
    "T1=(a.count(\"T\"))\n",
    "G2=(a.count(\"G\"))\n",
    "C3=(a.count(\"C\"))\n",
    "#print(base_coded)\n",
    "names = ['A', 'T', 'G', 'C']\n",
    "values = [(A0), (T1), (G2), (C3)]\n",
    "\n",
    "plt.subplot()\n",
    "plt.bar(names, values)\n",
    "plt.suptitle('Nucleotides in all reads')\n",
    "plt.show()"
   ]
  },
  {
   "cell_type": "code",
   "execution_count": 9,
   "metadata": {},
   "outputs": [],
   "source": [
    "\"\"\"\n",
    "The purpose of this code is the following\n",
    "1)Convert the coded reads to integer form \n",
    "2)Create an array inside the array with each read as a row\n",
    "3)Create a 2D matric with the counts of all the possible scenarios \n",
    "presented in each row and the reads in each column\n",
    "4)Create a 1D array with the readlengths\n",
    "\"\"\"\n",
    "kmer=[]\n",
    "kmercount=[]\n",
    "reads=[]\n",
    "#readstring={}\n",
    "readslength=[]\n",
    "res=(len(base_coded))   \n",
    "for x in range(res):\n",
    "    l=list(int (i) for i in base_coded[x])\n",
    "    for y in range(1):\n",
    "        i=(l.count(y), l.count(y+1), l.count(y+2), l.count(y+3))\n",
    "        kmercount.append(i)\n",
    "        n=np.transpose(kmercount) # creates a 2D matrix with the bases counts as rows(ATGC) and the reads by columns\n",
    "        kmer = n.view() #Create a view of the array with the same data\n",
    "    d=np.asarray(l)\n",
    "    d.resize((BaseFunction(d,4))) #Enter the list and the desired kmer for the function\n",
    "    v=(str(d))\n",
    "    reads.append(d) # store the reads in an array called reads\n",
    "    c=len(d)\n",
    "    readslength.append(c) #store the amt of kmer reads in readlength="
   ]
  },
  {
   "cell_type": "code",
   "execution_count": 10,
   "metadata": {},
   "outputs": [
    {
     "data": {
      "image/png": "[encoded data removed]",
      "text/plain": [
       "<Figure size 432x288 with 1 Axes>"
      ]
     },
     "metadata": {
      "needs_background": "light"
     },
     "output_type": "display_data"
    }
   ],
   "source": [
    "\"\"\"\n",
    "The purpose of this code is the following\n",
    "1) visualize the readlengths\n",
    "\"\"\"\n",
    "plt.ioff()\n",
    "for i in range(1):\n",
    "    plt.title(\"Readlengths\")\n",
    "    plt.ylabel('number of bases')\n",
    "    plt.xlabel('read id')\n",
    "    plt.plot(kmer[i])\n",
    "    plt.xticks(np.arange(0, 11))\n",
    "    plt.show()"
   ]
  },
  {
   "cell_type": "code",
   "execution_count": null,
   "metadata": {},
   "outputs": [],
   "source": []
  },
  {
   "cell_type": "code",
   "execution_count": null,
   "metadata": {},
   "outputs": [],
   "source": []
  },
  {
   "cell_type": "code",
   "execution_count": 11,
   "metadata": {},
   "outputs": [
    {
     "name": "stdout",
     "output_type": "stream",
     "text": [
      "Shape is (11063, 28)\n",
      "('Length is', 11063)\n",
      "('Dimension is', 2)\n",
      "('Total Size is', 309764)\n",
      "('Type is', dtype('float64'))\n",
      "('Type Name is', 'float64')\n"
     ]
    }
   ],
   "source": [
    "\"\"\"\n",
    "The cell does the following:\n",
    "    1) Import the signal level data\n",
    "    2) Normalize it to the mean fof the signal\n",
    "    3) Appends the signal data from each read into a row of an array given the read count\n",
    "\"\"\"\n",
    "means = [] \n",
    "std = []\n",
    "sig = []\n",
    "for x in range(11):\n",
    "    a=np.loadtxt(\"signal/signal_{}.txt\".format(x)) # load the signal\n",
    "    m=a.mean() #obtain the average signal from the read\n",
    "    b=normalize(m,a) # divide each resistance by the average to normalize \n",
    "    c=b.size #obtains the number of resistance signals per read\n",
    "    #print(\"resist\",c)\n",
    "    d=readslength[x] #obtains the kmers count per read\n",
    "    #print(\"kmer\",d)\n",
    "    e=SigFunction(c,d) #figures out the average amount of resistances per kmer\n",
    "    #print(\"Signal\",x,\"2D array size={}\".format(e))\n",
    "    b.resize(e) # Insert the (#bases,#sig) changes the signal level n signals wide\n",
    "    sig.append(b)\n",
    "array_inspect(sig[10])"
   ]
  },
  {
   "cell_type": "code",
   "execution_count": null,
   "metadata": {},
   "outputs": [],
   "source": []
  },
  {
   "cell_type": "code",
   "execution_count": 12,
   "metadata": {},
   "outputs": [
    {
     "name": "stdout",
     "output_type": "stream",
     "text": [
      "Training entries:[0], 2078, labels: 2078\n",
      "Training entries:[1], 2078, labels: 2078\n",
      "Training entries:[2], 361, labels: 361\n",
      "Training entries:[3], 1168, labels: 1168\n",
      "Training entries:[4], 109, labels: 109\n",
      "Training entries:[5], 1444, labels: 1444\n",
      "Training entries:[6], 453, labels: 453\n",
      "Training entries:[7], 941, labels: 941\n",
      "Training entries:[8], 351, labels: 351\n",
      "Training entries:[9], 2078, labels: 2078\n",
      "Training entries:[10], 11063, labels: 11063\n"
     ]
    }
   ],
   "source": [
    "for x in range(11):\n",
    "    print(\"Training entries:{}, {}, labels: {}\".format([x],len(reads[x]), len(sig[x])))"
   ]
  },
  {
   "cell_type": "code",
   "execution_count": 13,
   "metadata": {},
   "outputs": [],
   "source": [
    "#a=np.unique(y_val)\n",
    "#print(a)\n",
    "#b=enumerate(a)\n",
    "#print (c)\n",
    "#c=np.arange(0,254,1)\n",
    "#print(c)\n",
    "#ref =[]\n",
    "#for x in range(254):\n",
    "#    index={c[x]:a[x]}\n",
    "#    ref.append(index)\n",
    "\n",
    "#print(ref)\n",
    "#for x in range(254):\n",
    "#    y = ref[x].get(x)\n",
    "#test=list(reads[10])"
   ]
  },
  {
   "cell_type": "code",
   "execution_count": 14,
   "metadata": {},
   "outputs": [],
   "source": [
    "\"\"\"\n",
    "The goal for this cell is to convert the reads to string\n",
    "index the unique outputs for the 4mers\n",
    "and create a new list of the indexed [1:256 or whatever]\n",
    "reads for the model\n",
    "\"\"\"\n",
    "arr2=[] # In this code I converted the reads to a concated string of a 4mer\n",
    "for i, v in enumerate(reads[10]): #Read 0 is the training data\n",
    "    temp = ''\n",
    "    #print(v)\n",
    "    for w in v:\n",
    "        #print(w)\n",
    "        temp = temp + str(w)\n",
    "    arr2.append(temp)\n",
    "#print((arr2))\n",
    "a=np.unique(arr2) # makes an array of every unique combo in the read for downstream indexing\n",
    "#print(a)\n"
   ]
  },
  {
   "cell_type": "code",
   "execution_count": 15,
   "metadata": {},
   "outputs": [],
   "source": [
    "converted=[]\n",
    "converted2=[]\n",
    "#print(a)\n",
    "for x in arr2:\n",
    "    #print(x)\n",
    "    b=enumerate(a)\n",
    "    c=[(i) for i, j in b if a[i]==(x)]\n",
    "    converted.append(c)\n",
    "for i, v in enumerate(converted): #Read 0 is the training data\n",
    "    temp = ''\n",
    "    #print(v)\n",
    "    for w in v:\n",
    "        #print(w)\n",
    "        temp = temp + str(w)\n",
    "    converted2.append(temp)\n",
    "y_train=np.int16(converted2)\n",
    "#plt.scatter(x=converted2,y=arr2,c=converted2)"
   ]
  },
  {
   "cell_type": "code",
   "execution_count": null,
   "metadata": {},
   "outputs": [],
   "source": []
  },
  {
   "cell_type": "code",
   "execution_count": 16,
   "metadata": {},
   "outputs": [
    {
     "name": "stdout",
     "output_type": "stream",
     "text": [
      "Training entries: 11063, labels: 11063\n"
     ]
    }
   ],
   "source": [
    "print(\"Training entries: {}, labels: {}\".format(len(reads[10]), len(sig[10])))"
   ]
  },
  {
   "cell_type": "code",
   "execution_count": 17,
   "metadata": {},
   "outputs": [
    {
     "name": "stdout",
     "output_type": "stream",
     "text": [
      "65\n",
      "[0.88627103 1.10233671 1.10233671 1.10233671 1.10233671 1.10233671\n",
      " 1.10233671 1.10233671 1.10233671 1.10233671 1.0564901  1.0564901\n",
      " 1.0564901  0.89865612 0.89865612 0.89865612 0.89865612 0.89865612\n",
      " 0.89865612 1.07611629 1.07611629 1.07611629 1.07611629 0.91407013\n",
      " 0.91407013 0.91407013 0.91407013 0.91407013]\n"
     ]
    }
   ],
   "source": [
    "\"\"\"\n",
    "Any cell under this cell is trash code or experimental\n",
    "\"\"\"\n",
    "x_train = sig[10]\n",
    "x_test = sig[1]\n",
    "print (y_train[110])\n",
    "print (x_train[110])\n"
   ]
  },
  {
   "cell_type": "markdown",
   "metadata": {},
   "source": []
  },
  {
   "cell_type": "code",
   "execution_count": 18,
   "metadata": {},
   "outputs": [],
   "source": [
    "model=tf.keras.models.Sequential()\n",
    "#model.add(tf.keras.layers.Flatten(input_shape=(1,28)))# flatten using the API instead of np\n",
    "model.add(tf.keras.layers.Dense(128, activation=tf.nn.relu)) # uses 128 neurons and is a feed forward rectilinear relu\n",
    "model.add(tf.keras.layers.Dense(128, activation=tf.nn.relu)) # do the same thig for hidden layer 2\n",
    "model.add(tf.keras.layers.Dense(256, activation=tf.nn.softmax)) # output layer with number of classifications (256) use softmax for output distribution\n"
   ]
  },
  {
   "cell_type": "code",
   "execution_count": 19,
   "metadata": {},
   "outputs": [],
   "source": [
    "model.compile(optimizer='adam',\n",
    "              loss='sparse_categorical_crossentropy',\n",
    "              metrics=['accuracy'])"
   ]
  },
  {
   "cell_type": "code",
   "execution_count": 20,
   "metadata": {},
   "outputs": [
    {
     "name": "stdout",
     "output_type": "stream",
     "text": [
      "Epoch 1/40\n",
      "11063/11063 [==============================] - 0s 24us/step - loss: 5.5829 - acc: 5.4235e-04\n",
      "Epoch 2/40\n",
      "11063/11063 [==============================] - 0s 10us/step - loss: 5.5603 - acc: 9.9431e-04\n",
      "Epoch 3/40\n",
      "11063/11063 [==============================] - 0s 9us/step - loss: 5.5418 - acc: 0.0080\n",
      "Epoch 4/40\n",
      "11063/11063 [==============================] - 0s 10us/step - loss: 5.5260 - acc: 0.0090\n",
      "Epoch 5/40\n",
      "11063/11063 [==============================] - 0s 10us/step - loss: 5.5120 - acc: 0.0092\n",
      "Epoch 6/40\n",
      "11063/11063 [==============================] - 0s 9us/step - loss: 5.4994 - acc: 0.0089\n",
      "Epoch 7/40\n",
      "11063/11063 [==============================] - 0s 10us/step - loss: 5.4876 - acc: 0.0090\n",
      "Epoch 8/40\n",
      "11063/11063 [==============================] - 0s 9us/step - loss: 5.4762 - acc: 0.0090\n",
      "Epoch 9/40\n",
      "11063/11063 [==============================] - 0s 10us/step - loss: 5.4650 - acc: 0.0090\n",
      "Epoch 10/40\n",
      "11063/11063 [==============================] - 0s 9us/step - loss: 5.4539 - acc: 0.0090\n",
      "Epoch 11/40\n",
      "11063/11063 [==============================] - 0s 10us/step - loss: 5.4430 - acc: 0.0090\n",
      "Epoch 12/40\n",
      "11063/11063 [==============================] - 0s 9us/step - loss: 5.4323 - acc: 0.0090\n",
      "Epoch 13/40\n",
      "11063/11063 [==============================] - 0s 10us/step - loss: 5.4218 - acc: 0.0090\n",
      "Epoch 14/40\n",
      "11063/11063 [==============================] - 0s 10us/step - loss: 5.4118 - acc: 0.0090\n",
      "Epoch 15/40\n",
      "11063/11063 [==============================] - 0s 11us/step - loss: 5.4025 - acc: 0.0090\n",
      "Epoch 16/40\n",
      "11063/11063 [==============================] - 0s 11us/step - loss: 5.3938 - acc: 0.0114\n",
      "Epoch 17/40\n",
      "11063/11063 [==============================] - 0s 10us/step - loss: 5.3860 - acc: 0.0146\n",
      "Epoch 18/40\n",
      "11063/11063 [==============================] - 0s 9us/step - loss: 5.3789 - acc: 0.0146\n",
      "Epoch 19/40\n",
      "11063/11063 [==============================] - 0s 10us/step - loss: 5.3727 - acc: 0.0146\n",
      "Epoch 20/40\n",
      "11063/11063 [==============================] - 0s 11us/step - loss: 5.3671 - acc: 0.0146\n",
      "Epoch 21/40\n",
      "11063/11063 [==============================] - 0s 10us/step - loss: 5.3622 - acc: 0.0146\n",
      "Epoch 22/40\n",
      "11063/11063 [==============================] - 0s 9us/step - loss: 5.3579 - acc: 0.0146\n",
      "Epoch 23/40\n",
      "11063/11063 [==============================] - 0s 9us/step - loss: 5.3541 - acc: 0.0146\n",
      "Epoch 24/40\n",
      "11063/11063 [==============================] - 0s 9us/step - loss: 5.3507 - acc: 0.0146\n",
      "Epoch 25/40\n",
      "11063/11063 [==============================] - 0s 10us/step - loss: 5.3478 - acc: 0.0146\n",
      "Epoch 26/40\n",
      "11063/11063 [==============================] - 0s 12us/step - loss: 5.3454 - acc: 0.0146\n",
      "Epoch 27/40\n",
      "11063/11063 [==============================] - 0s 12us/step - loss: 5.3434 - acc: 0.0146\n",
      "Epoch 28/40\n",
      "11063/11063 [==============================] - 0s 10us/step - loss: 5.3418 - acc: 0.0146\n",
      "Epoch 29/40\n",
      "11063/11063 [==============================] - 0s 9us/step - loss: 5.3405 - acc: 0.0146\n",
      "Epoch 30/40\n",
      "11063/11063 [==============================] - 0s 10us/step - loss: 5.3394 - acc: 0.0146\n",
      "Epoch 31/40\n",
      "11063/11063 [==============================] - 0s 10us/step - loss: 5.3385 - acc: 0.0146\n",
      "Epoch 32/40\n",
      "11063/11063 [==============================] - 0s 9us/step - loss: 5.3377 - acc: 0.0146\n",
      "Epoch 33/40\n",
      "11063/11063 [==============================] - 0s 10us/step - loss: 5.3371 - acc: 0.0146\n",
      "Epoch 34/40\n",
      "11063/11063 [==============================] - 0s 9us/step - loss: 5.3365 - acc: 0.0146\n",
      "Epoch 35/40\n",
      "11063/11063 [==============================] - 0s 9us/step - loss: 5.3359 - acc: 0.0146\n",
      "Epoch 36/40\n",
      "11063/11063 [==============================] - 0s 10us/step - loss: 5.3353 - acc: 0.0146\n",
      "Epoch 37/40\n",
      "11063/11063 [==============================] - 0s 10us/step - loss: 5.3347 - acc: 0.0146\n",
      "Epoch 38/40\n",
      "11063/11063 [==============================] - 0s 12us/step - loss: 5.3341 - acc: 0.0146\n",
      "Epoch 39/40\n",
      "11063/11063 [==============================] - 0s 13us/step - loss: 5.3336 - acc: 0.0146\n",
      "Epoch 40/40\n",
      "11063/11063 [==============================] - 0s 10us/step - loss: 5.3330 - acc: 0.0146\n"
     ]
    }
   ],
   "source": [
    "#model.fit(x_train, y_train, epochs=30)\n",
    "history = model.fit(x_train,y_train,\n",
    "                    epochs=40,\n",
    "                    batch_size=11063,\n",
    "                    verbose=1)"
   ]
  },
  {
   "cell_type": "code",
   "execution_count": 21,
   "metadata": {},
   "outputs": [
    {
     "name": "stdout",
     "output_type": "stream",
     "text": [
      "11063/11063 [==============================] - 0s 29us/step\n",
      "5.332499969547592\n",
      "0.014553014554698224\n"
     ]
    }
   ],
   "source": [
    "val_loss, val_acc = model.evaluate(x_train, y_train)\n",
    "print(val_loss)\n",
    "print(val_acc)\n"
   ]
  },
  {
   "cell_type": "code",
   "execution_count": 30,
   "metadata": {},
   "outputs": [],
   "source": [
    "#model.save('tensorflow_basecaller.model')\n",
    "#new_model = tf.keras.models.load_model('tensorflow_basecaller.model')"
   ]
  },
  {
   "cell_type": "code",
   "execution_count": 34,
   "metadata": {},
   "outputs": [
    {
     "name": "stdout",
     "output_type": "stream",
     "text": [
      "11063\n"
     ]
    }
   ],
   "source": [
    "predictions = model.predict(x_train)\n",
    "print(len(predictions))"
   ]
  },
  {
   "cell_type": "code",
   "execution_count": 29,
   "metadata": {},
   "outputs": [
    {
     "data": {
      "image/png": "[encoded data removed]",
      "text/plain": [
       "<Figure size 432x288 with 1 Axes>"
      ]
     },
     "metadata": {
      "needs_background": "light"
     },
     "output_type": "display_data"
    }
   ],
   "source": [
    "history_dict = history.history\n",
    "history_dict.keys()\n",
    "\n",
    "acc = history.history['acc']\n",
    "#val_acc = history.history['val_acc']\n",
    "loss = history.history['loss']\n",
    "#val_loss = history.history['val_loss']\n",
    "epochs = range(1, len(acc) + 1)\n",
    "# \"bo\" is for \"blue dot\"\n",
    "plt.plot(epochs, loss, 'bo', label='Training loss')\n",
    "# b is for \"solid blue line\"\n",
    "#plt.plot(epochs, val_loss, 'ro', label='Validation loss')\n",
    "plt.title('Validation loss')\n",
    "plt.xlabel('Epochs')\n",
    "plt.ylabel('Loss')\n",
    "plt.legend()\n",
    "\n",
    "plt.show()"
   ]
  },
  {
   "cell_type": "code",
   "execution_count": 41,
   "metadata": {},
   "outputs": [
    {
     "name": "stdout",
     "output_type": "stream",
     "text": [
      "[187 255 235  47  59  11  43 185 110 254 184 171 183 177 107 180 189 249\n",
      " 139  75  27 234 123 237 179 109 188  46 176 190 174 108 233 202 186 111\n",
      " 182 172 236  91 175 209  45 173  73  44 224 181 155  66 244 178 146  36\n",
      " 217 164 208  71  70  74 132 144 201  40  42   9 145  68 193  78 197 252\n",
      " 211 222 248  52 253 242  24 223  14  50  18 210  16  10  34 207 130 226\n",
      "  79  54  94  23 240  64  17 195  19 199 129 239  38  31 200   6  62 220\n",
      " 142 243  28  13  65  26 114 215 232   4  77 147  33 213 141  67 230  82\n",
      "  20  56 100 135 134 251 116 131  76 160   8 228 192  92 148 124  49  96\n",
      "  32  72  97  41 198 138  98 162  83 196 241 136  25 140 246 115 104  53\n",
      "  63 120  39   2 151 137 214 118  30   7 170  51 122 158  15   0  55 167\n",
      "  61  80   3  29 166 205  95  84 113  99 191 204 225 231  58 238 156 250\n",
      " 125 133 227 221 169 112 161 119 153  35  69 157 154  22 127 194  60  12\n",
      "  37 152 219 229 105 247 245 102 106 128   5 121  88  48  93  81 216 165\n",
      "   1 150  90 117 168 212  57 149  21 163 143 206 203 103 159  87 126 218\n",
      " 101  86  89  85]\n"
     ]
    }
   ],
   "source": [
    "print(np.argsort(predictions[x]))"
   ]
  },
  {
   "cell_type": "code",
   "execution_count": null,
   "metadata": {},
   "outputs": [],
   "source": []
  },
  {
   "cell_type": "code",
   "execution_count": null,
   "metadata": {},
   "outputs": [],
   "source": []
  }
 ],
 "metadata": {
  "kernelspec": {
   "display_name": "Python 3",
   "language": "python",
   "name": "python3"
  },
  "language_info": {
   "codemirror_mode": {
    "name": "ipython",
    "version": 3
   },
   "file_extension": ".py",
   "mimetype": "text/x-python",
   "name": "python",
   "nbconvert_exporter": "python",
   "pygments_lexer": "ipython3",
   "version": "3.6.6"
  }
 },
 "nbformat": 4,
 "nbformat_minor": 2
}
