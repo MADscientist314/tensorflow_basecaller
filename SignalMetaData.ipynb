{
 "cells": [
  {
   "cell_type": "code",
   "execution_count": 1,
   "metadata": {},
   "outputs": [],
   "source": [
    "import tensorflow"
   ]
  },
  {
   "cell_type": "code",
   "execution_count": 2,
   "metadata": {},
   "outputs": [],
   "source": [
    "sig_data = [1,1.1,1,1.2,2,2.1,2,1.9,1.1,1,1,1.2,1,1,1,1,1.2,4,4.1,4.2,4]"
   ]
  },
  {
   "cell_type": "code",
   "execution_count": 14,
   "metadata": {},
   "outputs": [],
   "source": [
    "bp_data = [0,1,0,0,2]\n",
    "max_delta = 0.5"
   ]
  },
  {
   "cell_type": "code",
   "execution_count": 20,
   "metadata": {},
   "outputs": [],
   "source": [
    "def avg(arr):\n",
    "    return sum(arr) / float(len(arr))"
   ]
  },
  {
   "cell_type": "code",
   "execution_count": 30,
   "metadata": {},
   "outputs": [],
   "source": [
    "i = 0\n",
    "curr_list=[sig_data[i]]\n",
    "i+=1\n",
    "\n",
    "data = []"
   ]
  },
  {
   "cell_type": "code",
   "execution_count": 32,
   "metadata": {},
   "outputs": [
    {
     "name": "stdout",
     "output_type": "stream",
     "text": [
      "[4, 4.1, 4.2, 4]\n",
      "[1.075, 4, 2.0, 4, 1.0555555555555556, 9, 4.075, 4]\n"
     ]
    }
   ],
   "source": [
    "#First pass\n",
    "#Idenfity length and average\n",
    "\n",
    "while i<len(sig_data):\n",
    "    \n",
    "    while i < len(sig_data) and  abs(sig_data[i]-avg(curr_list)) < max_delta:\n",
    "        curr_list.append(sig_data[i])\n",
    "        i+=1\n",
    "    \n",
    "    data.append(avg(curr_list))\n",
    "    data.append(len(curr_list))\n",
    "    \n",
    "    if(i>=len(sig_data)):\n",
    "        break\n",
    "    \n",
    "    curr_list=[sig_data[i]]\n",
    "    i+=1\n",
    "        \n",
    "print(curr_list)\n",
    "print(data)"
   ]
  },
  {
   "cell_type": "code",
   "execution_count": 38,
   "metadata": {},
   "outputs": [
    {
     "name": "stdout",
     "output_type": "stream",
     "text": [
      "[1.075, 4, 0.925, 2.0, 4, 0.9444444444444444, 1.0555555555555556, 9, 3.019444444444445, 4.075, 4]\n"
     ]
    }
   ],
   "source": [
    "#Second pass\n",
    "#Identify delta between averages\n",
    "\n",
    "i = 0\n",
    "data2 = []\n",
    "while i < len(data):\n",
    "    data2.append(data[i])\n",
    "    data2.append(data[i+1])\n",
    "    \n",
    "    if(i+2 <len(data)):\n",
    "        data2.append(abs(data[i+2]-data[i]))\n",
    "    \n",
    "    i+=2\n",
    "        \n",
    "print(data2)"
   ]
  },
  {
   "cell_type": "code",
   "execution_count": 88,
   "metadata": {},
   "outputs": [
    {
     "name": "stdout",
     "output_type": "stream",
     "text": [
      "Hello6\n",
      "2\n",
      "0\n",
      "1\n",
      "[1.075, 4, 0.925, 2.0, 4, 0.9444444444444444, 1.0555555555555556, 4.5, 0, 1.0555555555555556, 4.5, 3.019444444444445, 4.075, 4]\n"
     ]
    }
   ],
   "source": [
    "#Third pass\n",
    "#Identify and split duplicate basepairs\n",
    "\n",
    "i = 0\n",
    "j = 0\n",
    "next_bp = bp_data[1]\n",
    "data3 = []\n",
    "while(i+1 < len(bp_data)):\n",
    "    if bp_data[i] != next_bp:\n",
    "        data3.append(data2[j])\n",
    "        data3.append(data2[j+1])\n",
    "    \n",
    "        if(j+2 <len(data2)):\n",
    "            data3.append(data2[j+2])\n",
    "        \n",
    "        i+=1\n",
    "        j+=3\n",
    "        \n",
    "    else:\n",
    "        print(\"Hello\" + str(j))\n",
    "        count = 1\n",
    "        while i+2 < len(bp_data) and bp_data[i] == next_bp:\n",
    "            count+=1\n",
    "            i+=1\n",
    "            next_bp = bp_data[i+1]\n",
    "        \n",
    "        print(count)\n",
    "        \n",
    "        for x in range(count):\n",
    "            print(x)\n",
    "            data3.append(data2[j])\n",
    "            data3.append(float(data2[j+1]/count))\n",
    "            \n",
    "            if(x < count-1):\n",
    "                data3.append(0)\n",
    "            elif j+2 < len(data2):\n",
    "                data3.append(data2[j+2])\n",
    "        j+=3\n",
    "    \n",
    "    if(i+1 >= len(bp_data)):\n",
    "        break\n",
    "    \n",
    "    next_bp = bp_data[i+1]\n",
    "    \n",
    "print(data3)"
   ]
  },
  {
   "cell_type": "code",
   "execution_count": 112,
   "metadata": {},
   "outputs": [],
   "source": [
    "def getSigMeta(sig_arr, bp_arr, max_delta):    \n",
    "    i = 0\n",
    "    curr_list=[sig_arr[i]]\n",
    "    i+=1\n",
    "\n",
    "    data = []\n",
    "    \n",
    "    #First pass\n",
    "    #Idenfity length and average\n",
    "\n",
    "    while i<len(sig_data):\n",
    "\n",
    "        while i < len(sig_data) and  abs(sig_data[i]-avg(curr_list)) < max_delta:\n",
    "            curr_list.append(sig_data[i])\n",
    "            i+=1\n",
    "\n",
    "        data.append(avg(curr_list))\n",
    "        data.append(len(curr_list))\n",
    "\n",
    "        if(i>=len(sig_data)):\n",
    "            break\n",
    "\n",
    "        curr_list=[sig_data[i]]\n",
    "        i+=1\n",
    "        \n",
    "    #Second pass\n",
    "    #Identify delta between averages\n",
    "\n",
    "    i = 0\n",
    "    data2 = []\n",
    "    while i < len(data):\n",
    "        data2.append(data[i])\n",
    "        data2.append(data[i+1])\n",
    "\n",
    "        if(i+2 <len(data)):\n",
    "            data2.append(abs(data[i+2]-data[i]))\n",
    "\n",
    "        i+=2\n",
    "\n",
    "    #Third pass\n",
    "    #Identify and split duplicate basepairs\n",
    "\n",
    "    i = 0\n",
    "    j = 0\n",
    "    next_bp = bp_arr[1]\n",
    "    data3 = []\n",
    "    while(i+1 < len(bp_arr)):\n",
    "        if bp_arr[i] != next_bp:\n",
    "            data3.append(data2[j])\n",
    "            data3.append(data2[j+1])\n",
    "\n",
    "            if(j+2 <len(data2)):\n",
    "                data3.append(data2[j+2])\n",
    "\n",
    "            i+=1\n",
    "            j+=3\n",
    "\n",
    "        else:\n",
    "            count = 1\n",
    "            while i+2 < len(bp_arr) and bp_arr[i] == next_bp:\n",
    "                count+=1\n",
    "                i+=1\n",
    "                next_bp = bp_arr[i+1]\n",
    "\n",
    "            for x in range(count):\n",
    "                data3.append(data2[j])\n",
    "                data3.append(float(data2[j+1]/count))\n",
    "\n",
    "                if(x < count-1):\n",
    "                    data3.append(0)\n",
    "                elif j+2 < len(data2):\n",
    "                    data3.append(data2[j+2])\n",
    "            j+=3\n",
    "\n",
    "        if(i+1 >= len(bp_arr)):\n",
    "            break\n",
    "\n",
    "        next_bp = bp_arr[i+1]\n",
    "\n",
    "    print(data3)\n",
    "    return data3"
   ]
  },
  {
   "cell_type": "code",
   "execution_count": 113,
   "metadata": {},
   "outputs": [
    {
     "name": "stdout",
     "output_type": "stream",
     "text": [
      "[1.075, 4, 0.925, 2.0, 4, 0.9444444444444444, 1.0555555555555556, 4.5, 0, 1.0555555555555556, 4.5, 3.019444444444445, 4.075, 4]\n",
      "[1.075, 4, 0.925, 2.0, 4, 0.9444444444444444, 1.0555555555555556, 4.5, 0, 1.0555555555555556, 4.5, 3.019444444444445, 4.075, 4]\n"
     ]
    }
   ],
   "source": [
    "meta_data = getSigMeta(sig_data, bp_data, max_delta)\n",
    "print(meta_data)"
   ]
  },
  {
   "cell_type": "code",
   "execution_count": null,
   "metadata": {},
   "outputs": [],
   "source": []
  }
 ],
 "metadata": {
  "kernelspec": {
   "display_name": "Python 3",
   "language": "python",
   "name": "python3"
  },
  "language_info": {
   "codemirror_mode": {
    "name": "ipython",
    "version": 3
   },
   "file_extension": ".py",
   "mimetype": "text/x-python",
   "name": "python",
   "nbconvert_exporter": "python",
   "pygments_lexer": "ipython3",
   "version": "3.6.2"
  }
 },
 "nbformat": 4,
 "nbformat_minor": 2
}
